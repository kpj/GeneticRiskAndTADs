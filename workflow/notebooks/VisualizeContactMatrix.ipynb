{
 "cells": [
  {
   "cell_type": "code",
   "execution_count": null,
   "metadata": {},
   "outputs": [],
   "source": [
    "from pathlib import Path\n",
    "\n",
    "import numpy as np\n",
    "import pandas as pd\n",
    "\n",
    "import seaborn as sns\n",
    "import matplotlib.pyplot as plt\n",
    "from matplotlib.colors import SymLogNorm"
   ]
  },
  {
   "cell_type": "code",
   "execution_count": null,
   "metadata": {},
   "outputs": [],
   "source": [
    "sns.set_context('talk')"
   ]
  },
  {
   "cell_type": "markdown",
   "metadata": {},
   "source": [
    "# Parameters"
   ]
  },
  {
   "cell_type": "code",
   "execution_count": null,
   "metadata": {
    "tags": [
     "parameters"
    ]
   },
   "outputs": [],
   "source": [
    "fname_matrix = snakemake.input.fname_matrix\n",
    "\n",
    "fname_heatmap = snakemake.output.fname_heatmap\n",
    "\n",
    "chromosome = snakemake.wildcards.chromosome"
   ]
  },
  {
   "cell_type": "markdown",
   "metadata": {},
   "source": [
    "# Read data"
   ]
  },
  {
   "cell_type": "code",
   "execution_count": null,
   "metadata": {},
   "outputs": [],
   "source": [
    "%%time\n",
    "\n",
    "df_mat = pd.read_csv(fname_matrix, index_col=0)\n",
    "df_mat.head()"
   ]
  },
  {
   "cell_type": "code",
   "execution_count": null,
   "metadata": {},
   "outputs": [],
   "source": [
    "assert (df_mat.index == df_mat.columns.astype(int)).all()"
   ]
  },
  {
   "cell_type": "markdown",
   "metadata": {},
   "source": [
    "# Plot"
   ]
  },
  {
   "cell_type": "code",
   "execution_count": null,
   "id": "loving-campus",
   "metadata": {},
   "outputs": [],
   "source": [
    "%%time\n",
    "\n",
    "s = 3\n",
    "plt.figure(figsize=(s * 8, s * 6))\n",
    "\n",
    "plt.matshow(df_mat, norm=SymLogNorm(1), cmap='YlOrRd', fignum=0)\n",
    "\n",
    "plt.title(f'Chromosome {chromosome}')\n",
    "\n",
    "tick_idx = np.linspace(0, len(df_mat.columns) - 1, 5).astype(int)\n",
    "plt.xticks(ticks=tick_idx, labels=df_mat.columns[tick_idx])\n",
    "plt.yticks(ticks=tick_idx, labels=df_mat.columns[tick_idx])\n",
    "\n",
    "plt.tight_layout()\n",
    "plt.savefig(fname_heatmap)"
   ]
  }
 ],
 "metadata": {
  "kernelspec": {
   "display_name": "Python 3",
   "language": "python",
   "name": "python3"
  },
  "language_info": {
   "codemirror_mode": {
    "name": "ipython",
    "version": 3
   },
   "file_extension": ".py",
   "mimetype": "text/x-python",
   "name": "python",
   "nbconvert_exporter": "python",
   "pygments_lexer": "ipython3",
   "version": "3.9.0"
  }
 },
 "nbformat": 4,
 "nbformat_minor": 4
}
