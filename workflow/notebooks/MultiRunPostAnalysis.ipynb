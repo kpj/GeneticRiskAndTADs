{
 "cells": [
  {
   "cell_type": "code",
   "execution_count": null,
   "metadata": {},
   "outputs": [],
   "source": [
    "import os\n",
    "import itertools\n",
    "from pathlib import Path\n",
    "\n",
    "import numpy as np\n",
    "import pandas as pd\n",
    "\n",
    "import seaborn as sns\n",
    "import matplotlib.pyplot as plt\n",
    "\n",
    "from natsort import natsorted\n",
    "from tqdm.auto import tqdm\n",
    "from scipy.special import binom\n",
    "\n",
    "from bioinf_common.plotting import annotated_barplot, add_identity"
   ]
  },
  {
   "cell_type": "code",
   "execution_count": null,
   "metadata": {},
   "outputs": [],
   "source": [
    "sns.set_context('talk')\n",
    "pd.set_option('display.max_columns', None)"
   ]
  },
  {
   "cell_type": "markdown",
   "metadata": {},
   "source": [
    "# Parameters"
   ]
  },
  {
   "cell_type": "code",
   "execution_count": null,
   "metadata": {},
   "outputs": [],
   "source": [
    "fname_data = snakemake.input.fname_data\n",
    "fname_enr = snakemake.input.fname_enr\n",
    "\n",
    "outdir = Path(snakemake.output.outdir)"
   ]
  },
  {
   "cell_type": "code",
   "execution_count": null,
   "metadata": {},
   "outputs": [],
   "source": [
    "outdir.mkdir(parents=True, exist_ok=True)"
   ]
  },
  {
   "cell_type": "markdown",
   "metadata": {},
   "source": [
    "# Load data"
   ]
  },
  {
   "cell_type": "code",
   "execution_count": null,
   "metadata": {},
   "outputs": [],
   "source": [
    "df_enr = pd.read_csv(fname_enr, low_memory=True)\n",
    "df_enr.head()"
   ]
  },
  {
   "cell_type": "code",
   "execution_count": null,
   "metadata": {},
   "outputs": [],
   "source": [
    "df_data = pd.read_csv(fname_data, low_memory=True)\n",
    "df_data.head()"
   ]
  },
  {
   "cell_type": "code",
   "execution_count": null,
   "metadata": {},
   "outputs": [],
   "source": [
    "iscancer_map = df_data.set_index('diseaseId').to_dict()['is_cancer']"
   ]
  },
  {
   "cell_type": "raw",
   "metadata": {},
   "source": [
    "# remove common prefix/suffix\n",
    "source_prefix = os.path.commonprefix(df['tad_source'].unique().tolist())\n",
    "source_suffix = '.csv'\n",
    "\n",
    "print(f'Removing: \"{source_prefix}\"...\"{source_suffix}\"')\n",
    "\n",
    "df['tad_source'] = df['tad_source'].str[len(source_prefix):-len(source_suffix)]"
   ]
  },
  {
   "cell_type": "markdown",
   "metadata": {},
   "source": [
    "## Data overview"
   ]
  },
  {
   "cell_type": "code",
   "execution_count": null,
   "metadata": {},
   "outputs": [],
   "source": [
    "print('Data', df_data.shape)\n",
    "print('Enrichment', df_enr.shape)"
   ]
  },
  {
   "cell_type": "code",
   "execution_count": null,
   "metadata": {},
   "outputs": [],
   "source": [
    "df_data.describe()"
   ]
  },
  {
   "cell_type": "code",
   "execution_count": null,
   "metadata": {},
   "outputs": [],
   "source": [
    "df_enr.describe()"
   ]
  },
  {
   "cell_type": "markdown",
   "metadata": {},
   "source": [
    "# Investigate various ways of measuring signal strength"
   ]
  },
  {
   "cell_type": "markdown",
   "metadata": {},
   "source": [
    "## Define signal measures"
   ]
  },
  {
   "cell_type": "code",
   "execution_count": null,
   "id": "spiritual-garbage",
   "metadata": {},
   "outputs": [],
   "source": [
    "def enrichment_quotient(df, p_thres=0.05):\n",
    "    tmp = df.copy()\n",
    "    tmp.loc[tmp['pval_border_neglog'] < -np.log10(p_thres), 'pval_border_neglog'] = 0\n",
    "\n",
    "    cancer_signal = tmp.loc[tmp['is_cancer'], 'pval_border_neglog'].mean()\n",
    "    noncancer_signal = tmp.loc[~tmp['is_cancer'], 'pval_border_neglog'].mean()\n",
    "\n",
    "    if noncancer_signal == 0:\n",
    "        # avoid ZeroDivisionError\n",
    "        return np.nan\n",
    "\n",
    "    return cancer_signal / noncancer_signal"
   ]
  },
  {
   "cell_type": "code",
   "execution_count": null,
   "id": "innovative-possibility",
   "metadata": {},
   "outputs": [],
   "source": [
    "def count_quotient(df, p_thres=0.05):\n",
    "    tmp = df.copy()\n",
    "\n",
    "    sig_cancer_num = tmp[\n",
    "        tmp['is_cancer'] & (tmp['pval_border_neglog'] >= -np.log10(p_thres))\n",
    "    ].shape[0]\n",
    "    all_cancer_num = tmp[tmp['is_cancer']].shape[0]\n",
    "\n",
    "    sig_noncancer_num = tmp[\n",
    "        (~tmp['is_cancer']) & (tmp['pval_border_neglog'] >= -np.log10(p_thres))\n",
    "    ].shape[0]\n",
    "    all_noncancer_num = tmp[~tmp['is_cancer']].shape[0]\n",
    "\n",
    "    if sig_noncancer_num == 0:\n",
    "        # avoid ZeroDivisionError\n",
    "        return np.nan\n",
    "\n",
    "    return (sig_cancer_num / all_cancer_num) / (sig_noncancer_num / all_noncancer_num)"
   ]
  },
  {
   "cell_type": "markdown",
   "metadata": {},
   "source": [
    "## Apply measures"
   ]
  },
  {
   "cell_type": "code",
   "execution_count": null,
   "metadata": {},
   "outputs": [],
   "source": [
    "border_type = '20in'\n",
    "pvalue_type = 'pval_border'  # pval_border__notcorrected\n",
    "filter_type = 'nofilter'"
   ]
  },
  {
   "cell_type": "code",
   "execution_count": null,
   "id": "affiliated-monthly",
   "metadata": {},
   "outputs": [],
   "source": [
    "# pre-transform data\n",
    "df_trans = (\n",
    "    df_enr.groupby(['tad_source', 'window_size', 'filter', 'diseaseId', 'TAD_type'])\n",
    "    .first()\n",
    "    .reset_index()\n",
    "    .copy()\n",
    ")\n",
    "\n",
    "df_trans = df_trans[df_trans['TAD_type'] == border_type]\n",
    "df_trans = df_trans[df_trans['filter'] == filter_type]\n",
    "\n",
    "df_trans.loc[df_trans[pvalue_type] == 0, pvalue_type] = 1e-16\n",
    "\n",
    "df_trans['pval_border_neglog'] = df_trans[pvalue_type].apply(lambda x: -np.log10(x))"
   ]
  },
  {
   "cell_type": "code",
   "execution_count": null,
   "metadata": {},
   "outputs": [],
   "source": [
    "df_trans.head()"
   ]
  },
  {
   "cell_type": "code",
   "execution_count": null,
   "id": "early-discharge",
   "metadata": {},
   "outputs": [],
   "source": [
    "signal_data = []\n",
    "for (tad_source, window_size), group in df_trans.groupby(['tad_source', 'window_size']):\n",
    "    signal_data.extend(\n",
    "        [\n",
    "            {\n",
    "                'tad_source': tad_source,\n",
    "                'window_size': window_size,\n",
    "                'signal': enrichment_quotient(group),\n",
    "                'type': r'$\\frac{\\langle-\\log_{10}(p_{cancer,border_{20in}})\\rangle}{\\langle-\\log_{10}(p_{noncancer,border_{20in}})\\rangle}$',\n",
    "            },\n",
    "            {\n",
    "                'tad_source': tad_source,\n",
    "                'window_size': window_size,\n",
    "                'signal': count_quotient(group),\n",
    "                'type': r'$\\frac{|\\mathrm{cancer}_{sig}| / |\\mathrm{cancer}_{all}|}{|\\mathrm{noncancer}_{sig}| / |\\mathrm{noncancer}_{all}|}$',\n",
    "            },\n",
    "        ]\n",
    "    )\n",
    "df_signal = pd.DataFrame(signal_data)"
   ]
  },
  {
   "cell_type": "code",
   "execution_count": null,
   "metadata": {},
   "outputs": [],
   "source": [
    "df_signal.head()"
   ]
  },
  {
   "cell_type": "markdown",
   "metadata": {},
   "source": [
    "## Visualize result"
   ]
  },
  {
   "cell_type": "code",
   "execution_count": null,
   "id": "restricted-brush",
   "metadata": {},
   "outputs": [],
   "source": [
    "def my_bar(*args, **kwargs):\n",
    "    # adjust baseline\n",
    "    baseline = 1\n",
    "    tmp = kwargs['data'].copy()\n",
    "    tmp[kwargs['y']] -= baseline\n",
    "    kwargs['data'] = tmp\n",
    "\n",
    "    # plot\n",
    "    if kwargs['data'].empty:\n",
    "        print('Skipping because of empty data set')\n",
    "        return\n",
    "\n",
    "    annotated_barplot(\n",
    "        *args,\n",
    "        **kwargs,\n",
    "        order=natsorted(kwargs['data']['window_size'].unique()),\n",
    "        anno_kws=dict(label_offset=6, label_size=9),\n",
    "        palette=sns.color_palette(),\n",
    "        bottom=baseline\n",
    "    )"
   ]
  },
  {
   "cell_type": "code",
   "execution_count": null,
   "id": "sorted-intro",
   "metadata": {},
   "outputs": [],
   "source": [
    "g = sns.FacetGrid(\n",
    "    df_signal,\n",
    "    col='tad_source',\n",
    "    col_wrap=2,\n",
    "    sharex=False,\n",
    "    sharey=True,\n",
    "    height=7,\n",
    "    aspect=2,\n",
    ")\n",
    "\n",
    "g.map_dataframe(my_bar, x='window_size', y='signal', hue='type')\n",
    "\n",
    "plt.xlabel('Window size')\n",
    "for ax in g.axes.ravel():\n",
    "    ax.legend()\n",
    "\n",
    "g.savefig(outdir / 'signal_vs_datasource.pdf')"
   ]
  },
  {
   "cell_type": "markdown",
   "metadata": {},
   "source": [
    "# Filter-specific enriched disease fractions"
   ]
  },
  {
   "cell_type": "markdown",
   "metadata": {},
   "source": [
    "## Detailed view"
   ]
  },
  {
   "cell_type": "code",
   "execution_count": null,
   "id": "tight-delay",
   "metadata": {},
   "outputs": [],
   "source": [
    "def detailed_view(df, fname):\n",
    "    g = sns.FacetGrid(df, row='filter', col='tad_source', height=5, aspect=2)\n",
    "\n",
    "    g.map_dataframe(\n",
    "        sns.barplot, x='window_size', y='sig_count', hue='is_cancer', palette='tab10'\n",
    "    )\n",
    "\n",
    "    g.set_axis_labels('Window size', 'Sig. disease fraction')\n",
    "    g.add_legend(title='is_cancer')\n",
    "\n",
    "    for ax in g.axes.flat:\n",
    "        ax.tick_params(labelbottom=True)\n",
    "\n",
    "    g.savefig(outdir / fname)\n",
    "    plt.close()"
   ]
  },
  {
   "cell_type": "markdown",
   "metadata": {},
   "source": [
    "## Aggregated view"
   ]
  },
  {
   "cell_type": "code",
   "execution_count": null,
   "id": "welcome-liberia",
   "metadata": {},
   "outputs": [],
   "source": [
    "def aggregated_view(df, fname):\n",
    "    # aggregate data\n",
    "    df_agg = (\n",
    "        df.groupby(['filter', 'tad_source', 'is_cancer'])['sig_count']\n",
    "        .mean()\n",
    "        .reset_index()\n",
    "    )\n",
    "\n",
    "    # plot\n",
    "    g = sns.FacetGrid(df_agg, row='tad_source', height=5, aspect=2)\n",
    "\n",
    "    g.map_dataframe(\n",
    "        sns.barplot, x='filter', y='sig_count', hue='is_cancer', palette='tab10'\n",
    "    )\n",
    "\n",
    "    g.set_axis_labels('Filter', 'Sig. disease fraction')\n",
    "    g.add_legend(title='is_cancer')\n",
    "\n",
    "    for ax in g.axes.flat:\n",
    "        ax.tick_params(labelbottom=True)\n",
    "\n",
    "    g.savefig(outdir / fname)\n",
    "    plt.close()"
   ]
  },
  {
   "cell_type": "markdown",
   "metadata": {},
   "source": [
    "## Generate plots"
   ]
  },
  {
   "cell_type": "code",
   "execution_count": null,
   "id": "special-festival",
   "metadata": {},
   "outputs": [],
   "source": [
    "for tad_type, group in tqdm(df_enr.groupby('TAD_type')):\n",
    "    # barplots\n",
    "    df_sigcount__notcorrected = (\n",
    "        group.groupby(['filter', 'tad_source', 'window_size', 'is_cancer'])\n",
    "        .apply(lambda x: (x['pval_border__notcorrected'] <= 0.05).mean())\n",
    "        .to_frame('sig_count')\n",
    "        .reset_index()\n",
    "    )\n",
    "    df_sigcount = (\n",
    "        group.groupby(['filter', 'tad_source', 'window_size', 'is_cancer'])\n",
    "        .apply(lambda x: (x['pval_border'] <= 0.05).mean())\n",
    "        .to_frame('sig_count')\n",
    "        .reset_index()\n",
    "    )\n",
    "\n",
    "    detailed_view(\n",
    "        df_sigcount__notcorrected, f'sig_disease_fractions_{tad_type}__notcorrected.pdf'\n",
    "    )\n",
    "    detailed_view(df_sigcount, f'sig_disease_fractions_{tad_type}.pdf')\n",
    "\n",
    "    aggregated_view(\n",
    "        df_sigcount__notcorrected,\n",
    "        f'sig_disease_fractions_aggregated_{tad_type}__notcorrected.pdf',\n",
    "    )\n",
    "    aggregated_view(\n",
    "        df_sigcount, f'sig_disease_fractions_aggregated_fractions_{tad_type}.pdf'\n",
    "    )"
   ]
  },
  {
   "cell_type": "markdown",
   "metadata": {},
   "source": [
    "## Majority vote"
   ]
  },
  {
   "cell_type": "markdown",
   "metadata": {},
   "source": [
    "### Uncorrected P-Values"
   ]
  },
  {
   "cell_type": "code",
   "execution_count": null,
   "id": "future-frequency",
   "metadata": {},
   "outputs": [],
   "source": [
    "df_majority__notcorrected = (\n",
    "    df_enr.groupby(['TAD_type', 'filter', 'tad_source', 'is_cancer', 'diseaseId'])\n",
    "    .apply(lambda x: (x['pval_border__notcorrected'] <= 0.05).mean() >= 0.5)\n",
    "    .to_frame('majority_is_sig')\n",
    "    .reset_index()\n",
    "    .drop('diseaseId', axis=1)\n",
    "    .groupby(['TAD_type', 'filter', 'tad_source', 'is_cancer'])['majority_is_sig']\n",
    "    .apply(lambda x: x.mean())\n",
    "    .to_frame('sig_frac')\n",
    "    .reset_index()\n",
    ")\n",
    "df_majority__notcorrected.head()"
   ]
  },
  {
   "cell_type": "code",
   "execution_count": null,
   "id": "northern-class",
   "metadata": {},
   "outputs": [],
   "source": [
    "g = sns.FacetGrid(\n",
    "    df_majority__notcorrected, row='TAD_type', col='tad_source', height=5, aspect=2\n",
    ")\n",
    "\n",
    "g.map_dataframe(sns.barplot, x='filter', y='sig_frac', hue='is_cancer', palette='tab10')\n",
    "\n",
    "g.set_axis_labels('Filter', 'Disease fraction sig. in $>0.5$ cases')\n",
    "g.add_legend(title='is_cancer')\n",
    "\n",
    "for ax in g.axes.flat:\n",
    "    ax.tick_params(labelbottom=True)\n",
    "\n",
    "g.savefig(outdir / 'sig_disease_fractions_majority__notcorrected.pdf')"
   ]
  },
  {
   "cell_type": "markdown",
   "metadata": {},
   "source": [
    "### Corrected P-Values"
   ]
  },
  {
   "cell_type": "code",
   "execution_count": null,
   "id": "analyzed-weather",
   "metadata": {},
   "outputs": [],
   "source": [
    "df_majority = (\n",
    "    df_enr.groupby(['TAD_type', 'filter', 'tad_source', 'is_cancer', 'diseaseId'])\n",
    "    .apply(lambda x: (x['pval_border'] <= 0.05).mean() > 0.5)\n",
    "    .to_frame('majority_is_sig')\n",
    "    .reset_index()\n",
    "    .drop('diseaseId', axis=1)\n",
    "    .groupby(['TAD_type', 'filter', 'tad_source', 'is_cancer'])['majority_is_sig']\n",
    "    .apply(lambda x: x.mean())\n",
    "    .to_frame('sig_frac')\n",
    "    .reset_index()\n",
    ")\n",
    "df_majority.head()"
   ]
  },
  {
   "cell_type": "code",
   "execution_count": null,
   "metadata": {},
   "outputs": [],
   "source": [
    "g = sns.FacetGrid(df_majority, row='TAD_type', col='tad_source', height=5, aspect=2)\n",
    "\n",
    "g.map_dataframe(sns.barplot, x='filter', y='sig_frac', hue='is_cancer', palette='tab10')\n",
    "\n",
    "g.set_axis_labels('Filter', 'Disease fraction sig. in $>0.5$ cases')\n",
    "g.add_legend(title='is_cancer')\n",
    "\n",
    "for ax in g.axes.flat:\n",
    "    ax.tick_params(labelbottom=True)\n",
    "\n",
    "g.savefig(outdir / 'sig_disease_fractions_majority.pdf')"
   ]
  },
  {
   "cell_type": "markdown",
   "metadata": {},
   "source": [
    "# SNP counts"
   ]
  },
  {
   "cell_type": "markdown",
   "metadata": {},
   "source": [
    "## Aggregate counts"
   ]
  },
  {
   "cell_type": "code",
   "execution_count": null,
   "id": "oriented-smell",
   "metadata": {},
   "outputs": [],
   "source": [
    "sub = df_enr[df_enr['TAD_type'] == '20in'][\n",
    "    [\n",
    "        'diseaseId',\n",
    "        '#border_snp',\n",
    "        '#snp',\n",
    "        'tad_source',\n",
    "        'window_size',\n",
    "        'is_cancer',\n",
    "        'filter',\n",
    "    ]\n",
    "].drop_duplicates()\n",
    "sub['snp_fraction'] = sub['#border_snp'] / sub['#snp']\n",
    "\n",
    "sub = sub[sub['filter'] == 'nofilter']\n",
    "\n",
    "sub.head()"
   ]
  },
  {
   "cell_type": "markdown",
   "metadata": {},
   "source": [
    "## Plot count data"
   ]
  },
  {
   "cell_type": "code",
   "execution_count": null,
   "id": "peaceful-default",
   "metadata": {},
   "outputs": [],
   "source": [
    "g = sns.FacetGrid(\n",
    "    sub,\n",
    "    col='tad_source',\n",
    "    col_wrap=min(2, sub['tad_source'].unique().size),\n",
    "    col_order=natsorted(sub['tad_source'].unique()),\n",
    "    sharex=False,\n",
    "    sharey=True,\n",
    "    height=7,\n",
    "    aspect=2,\n",
    ")\n",
    "\n",
    "g.map_dataframe(\n",
    "    sns.boxplot,\n",
    "    x='window_size',\n",
    "    y='snp_fraction',\n",
    "    hue='is_cancer',\n",
    "    order=natsorted(sub['window_size'].unique()),\n",
    ")\n",
    "\n",
    "# g.set(yscale='log')\n",
    "g.set_axis_labels('Window size', r'$\\frac{|snp_{border}|}{|snp_{all}|}$ per disease')\n",
    "g.add_legend(title='is_cancer')\n",
    "\n",
    "g.savefig(outdir / 'snp_numbers.pdf')"
   ]
  },
  {
   "cell_type": "markdown",
   "metadata": {},
   "source": [
    "# Variant type effect"
   ]
  },
  {
   "cell_type": "markdown",
   "metadata": {},
   "source": [
    "## Prepare data"
   ]
  },
  {
   "cell_type": "code",
   "execution_count": null,
   "id": "interracial-north",
   "metadata": {},
   "outputs": [],
   "source": [
    "df_trans = df_enr.set_index(\n",
    "    ['TAD_type', 'filter', 'tad_source', 'window_size', 'diseaseId']\n",
    ")[['pval_border']]\n",
    "df_trans = df_trans.loc[~df_trans.index.duplicated(keep='first')]"
   ]
  },
  {
   "cell_type": "code",
   "execution_count": null,
   "metadata": {},
   "outputs": [],
   "source": [
    "df_trans.head()"
   ]
  },
  {
   "cell_type": "code",
   "execution_count": null,
   "metadata": {},
   "outputs": [],
   "source": [
    "df_none = df_trans.loc['20in'].loc['nofilter']\n",
    "df_exonic = df_trans.loc['20in'].loc['exonic']\n",
    "df_intronic = df_trans.loc['20in'].loc['intronic']\n",
    "df_intergenic = df_trans.loc['20in'].loc['intergenic']\n",
    "df_nonexonic = df_trans.loc['20in'].loc['nonexonic']"
   ]
  },
  {
   "cell_type": "code",
   "execution_count": null,
   "id": "negative-notification",
   "metadata": {},
   "outputs": [],
   "source": [
    "for name, df_tmp in [\n",
    "    ('none', df_none),\n",
    "    ('exonic', df_exonic),\n",
    "    ('intronic', df_intronic),\n",
    "    ('intergenic', df_intergenic),\n",
    "    ('nonexonic', df_nonexonic),\n",
    "]:\n",
    "    print(name)\n",
    "    print('#entries:', df_tmp.shape[0])\n",
    "    print()"
   ]
  },
  {
   "cell_type": "markdown",
   "metadata": {},
   "source": [
    "## Aggregate data"
   ]
  },
  {
   "cell_type": "code",
   "execution_count": null,
   "id": "requested-sugar",
   "metadata": {},
   "outputs": [],
   "source": [
    "df_merged = pd.DataFrame(\n",
    "    {\n",
    "        'enrichment_none': df_none['pval_border'],\n",
    "        'enrichment_exonic': df_exonic['pval_border'],\n",
    "        'enrichment_intronic': df_intronic['pval_border'],\n",
    "        'enrichment_intergenic': df_intergenic['pval_border'],\n",
    "        'enrichment_nonexonic': df_nonexonic['pval_border'],\n",
    "    }\n",
    ")\n",
    "df_merged.head()"
   ]
  },
  {
   "cell_type": "code",
   "execution_count": null,
   "id": "fifteen-roman",
   "metadata": {},
   "outputs": [],
   "source": [
    "# replace 0 by per-group minimum\n",
    "tmp = df_merged.copy()\n",
    "\n",
    "for col in tmp.columns:\n",
    "    # replace values\n",
    "    idx = tmp[col] != 0\n",
    "    min_ = (\n",
    "        tmp[idx]\n",
    "        .groupby(level=['tad_source', 'window_size'])[col]\n",
    "        .apply(lambda x: x.min())\n",
    "    )\n",
    "\n",
    "    if not tmp.loc[~idx, col].empty:\n",
    "        tmp.loc[~idx, col] = min_\n",
    "\n",
    "    # sanity check\n",
    "    assert (\n",
    "        df_merged.loc[idx & (~np.isnan(tmp[col])), col]\n",
    "        == tmp.loc[idx & (~np.isnan(tmp[col])), col]\n",
    "    ).all()\n",
    "\n",
    "assert not (tmp == 0).any().any()\n",
    "df_merged = tmp"
   ]
  },
  {
   "cell_type": "code",
   "execution_count": null,
   "metadata": {},
   "outputs": [],
   "source": [
    "df_merged.head()"
   ]
  },
  {
   "cell_type": "code",
   "execution_count": null,
   "id": "european-latin",
   "metadata": {},
   "outputs": [],
   "source": [
    "# transform to log-space\n",
    "df_merged_log = df_merged.applymap(\n",
    "    lambda x: -np.log10(x) if x > 0 else np.nan if np.isnan(x) else -1\n",
    ")\n",
    "assert (df_merged_log != -1).all().all()"
   ]
  },
  {
   "cell_type": "code",
   "execution_count": null,
   "id": "union-import",
   "metadata": {},
   "outputs": [],
   "source": [
    "# add cancer labels\n",
    "df_merged_log['is_cancer'] = df_merged_log.index.get_level_values('diseaseId').map(\n",
    "    iscancer_map\n",
    ")"
   ]
  },
  {
   "cell_type": "code",
   "execution_count": null,
   "metadata": {},
   "outputs": [],
   "source": [
    "df_merged_log.head()"
   ]
  },
  {
   "cell_type": "markdown",
   "metadata": {},
   "source": [
    "## Visualize"
   ]
  },
  {
   "cell_type": "code",
   "execution_count": null,
   "id": "moving-undergraduate",
   "metadata": {},
   "outputs": [],
   "source": [
    "def custom_scatter(x, y, data, color):\n",
    "    ax = sns.scatterplot(x=x, y=y, data=data, color=color)\n",
    "\n",
    "    ax.axhline(-np.log10(0.05), color='red', ls='dashed')\n",
    "    ax.axvline(-np.log10(0.05), color='red', ls='dashed')\n",
    "    add_identity(ax, color='grey', ls='dashed')\n",
    "\n",
    "    # fix axis ranges\n",
    "    max_ = max(data[x_axis_data_source].max(), data[y_axis_data_source].max())\n",
    "    max_ *= 1.05\n",
    "\n",
    "    if not np.isnan(max_):\n",
    "        ax.set_xlim((-0.1, max_))\n",
    "        ax.set_ylim((-0.1, max_))\n",
    "\n",
    "    # annotate diseases\n",
    "    tmp = data.reset_index().dropna(subset=[x, y])\n",
    "\n",
    "    if not tmp.empty:\n",
    "        sel = tmp.loc[tmp[y].idxmax()]\n",
    "\n",
    "        ax.annotate(\n",
    "            sel.diseaseId,\n",
    "            xy=(sel[x], sel[y]),\n",
    "            xytext=(50, 0),\n",
    "            xycoords='data',\n",
    "            textcoords='offset points',\n",
    "            fontsize=10,\n",
    "            ha='center',\n",
    "            va='center',\n",
    "            arrowprops=dict(arrowstyle='->'),\n",
    "        )\n",
    "    else:\n",
    "        print('Warning, no disease annotation possible')"
   ]
  },
  {
   "cell_type": "code",
   "execution_count": null,
   "id": "starting-wagner",
   "metadata": {},
   "outputs": [],
   "source": [
    "target_dir = outdir / 'enrichment_variants'\n",
    "target_dir.mkdir(exist_ok=True)\n",
    "\n",
    "for x_axis_data_source, y_axis_data_source in tqdm(\n",
    "    itertools.combinations(df_merged.columns, 2), total=binom(4, 2)\n",
    "):\n",
    "    for idx, group in tqdm(\n",
    "        df_merged_log.groupby(level=['tad_source', 'window_size']), leave=False\n",
    "    ):\n",
    "        g = sns.FacetGrid(\n",
    "            group, col='is_cancer', sharex=False, sharey=False, height=5, aspect=1\n",
    "        )\n",
    "\n",
    "        g.map_dataframe(custom_scatter, x=x_axis_data_source, y=y_axis_data_source)\n",
    "        g.set_axis_labels(x_axis_data_source, y_axis_data_source)\n",
    "\n",
    "        plt.subplots_adjust(top=0.8)\n",
    "        g.fig.suptitle(', '.join(str(x) for x in idx))\n",
    "\n",
    "        g.savefig(\n",
    "            target_dir\n",
    "            / f'enrichment_variants__{\"_\".join(str(x) for x in idx)}_{x_axis_data_source}_{y_axis_data_source}.pdf'\n",
    "        )\n",
    "        plt.close()"
   ]
  }
 ],
 "metadata": {
  "kernelspec": {
   "display_name": "Python 3",
   "language": "python",
   "name": "python3"
  },
  "language_info": {
   "codemirror_mode": {
    "name": "ipython",
    "version": 3
   },
   "file_extension": ".py",
   "mimetype": "text/x-python",
   "name": "python",
   "nbconvert_exporter": "python",
   "pygments_lexer": "ipython3",
   "version": "3.9.0"
  },
  "toc": {
   "base_numbering": 1,
   "nav_menu": {},
   "number_sections": true,
   "sideBar": true,
   "skip_h1_title": false,
   "title_cell": "Table of Contents",
   "title_sidebar": "Contents",
   "toc_cell": false,
   "toc_position": {},
   "toc_section_display": true,
   "toc_window_display": false
  },
  "toc-autonumbering": true
 },
 "nbformat": 4,
 "nbformat_minor": 4
}
