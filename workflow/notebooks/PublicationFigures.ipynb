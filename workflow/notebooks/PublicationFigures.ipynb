{
 "cells": [
  {
   "cell_type": "code",
   "execution_count": null,
   "metadata": {},
   "outputs": [],
   "source": [
    "import string\n",
    "import collections\n",
    "from pathlib import Path\n",
    "\n",
    "import numpy as np\n",
    "import pandas as pd\n",
    "import networkx as nx\n",
    "import pyranges as pr\n",
    "\n",
    "from scipy import ndimage, stats\n",
    "from scipy.stats import fisher_exact\n",
    "\n",
    "import statannot\n",
    "from statannot.statannot import simple_text, pval_annotation_text\n",
    "\n",
    "import seaborn as sns\n",
    "import matplotlib.pyplot as plt\n",
    "from adjustText import adjust_text\n",
    "\n",
    "import matplotlib.transforms as tx\n",
    "from matplotlib.lines import Line2D\n",
    "from matplotlib.patches import Patch\n",
    "from matplotlib.colors import SymLogNorm\n",
    "from matplotlib.gridspec import GridSpec\n",
    "from matplotlib.collections import LineCollection\n",
    "\n",
    "import cooler\n",
    "\n",
    "from natsort import natsorted\n",
    "from tqdm.auto import tqdm, trange\n",
    "\n",
    "from bioinf_common.plotting import add_identity\n",
    "from bioinf_common.tools import multipletests_nan\n",
    "from bioinf_common.algorithms import compute_network_coherence"
   ]
  },
  {
   "cell_type": "code",
   "execution_count": null,
   "metadata": {},
   "outputs": [],
   "source": [
    "sns.set_context('talk')\n",
    "pd.set_option('display.max_columns', None)"
   ]
  },
  {
   "cell_type": "code",
   "execution_count": null,
   "metadata": {},
   "outputs": [],
   "source": [
    "panel_label_params = dict(fontsize=22, fontweight='bold', va='top', ha='left')"
   ]
  },
  {
   "cell_type": "markdown",
   "metadata": {},
   "source": [
    "# Parameters"
   ]
  },
  {
   "cell_type": "code",
   "execution_count": null,
   "id": "enhanced-making",
   "metadata": {},
   "outputs": [],
   "source": [
    "fname_data = snakemake.input.fname_data\n",
    "fname_enr = snakemake.input.fname_enr\n",
    "\n",
    "sketch_hicfile = snakemake.input.sketch_hicfile\n",
    "sketch_tadfile = snakemake.input.sketch_tadfile\n",
    "\n",
    "sketch_region = snakemake.config['sketch']['region']\n",
    "\n",
    "disease_fraction_threshold = snakemake.config['parameters']['window_aggregation'][\n",
    "    'disease_fraction_threshold'\n",
    "]\n",
    "window_size_list = snakemake.config['parameters']['window_aggregation'][\n",
    "    'window_size_list'\n",
    "]\n",
    "snp_count_threshold_list = snakemake.config['parameters']['window_aggregation'][\n",
    "    'snp_count_threshold_list'\n",
    "]\n",
    "\n",
    "main_dataset = snakemake.config['parameters']['main_dataset']\n",
    "\n",
    "outdir = Path(snakemake.output.outdir)"
   ]
  },
  {
   "cell_type": "code",
   "execution_count": null,
   "metadata": {},
   "outputs": [],
   "source": [
    "outdir.mkdir(parents=True, exist_ok=True)"
   ]
  },
  {
   "cell_type": "markdown",
   "metadata": {},
   "source": [
    "# Load data"
   ]
  },
  {
   "cell_type": "markdown",
   "metadata": {},
   "source": [
    "## Database data"
   ]
  },
  {
   "cell_type": "code",
   "execution_count": null,
   "metadata": {},
   "outputs": [],
   "source": [
    "df_data = pd.read_csv(fname_data, low_memory=True)\n",
    "df_data.head()"
   ]
  },
  {
   "cell_type": "code",
   "execution_count": null,
   "id": "suited-distribution",
   "metadata": {},
   "outputs": [],
   "source": [
    "iscancer_map = (\n",
    "    df_data.drop_duplicates(subset=['diseaseId'])\n",
    "    .set_index('diseaseId')\n",
    "    .to_dict()['is_cancer']\n",
    ")"
   ]
  },
  {
   "cell_type": "markdown",
   "metadata": {},
   "source": [
    "## Enrichment data"
   ]
  },
  {
   "cell_type": "code",
   "execution_count": null,
   "metadata": {},
   "outputs": [],
   "source": [
    "df_enr = pd.read_csv(fname_enr, low_memory=True)"
   ]
  },
  {
   "cell_type": "code",
   "execution_count": null,
   "id": "figured-penalty",
   "metadata": {},
   "outputs": [],
   "source": [
    "max_enrichment = 16\n",
    "df_enr['pval_border_trans'] = df_enr['pval_border'].apply(\n",
    "    lambda x: max_enrichment if x == 0 else -np.log10(x)\n",
    ")\n",
    "df_enr['pval_border__notcorrected_trans'] = df_enr['pval_border__notcorrected'].apply(\n",
    "    lambda x: max_enrichment if x == 0 else -np.log10(x)\n",
    ")"
   ]
  },
  {
   "cell_type": "code",
   "execution_count": null,
   "metadata": {},
   "outputs": [],
   "source": [
    "df_enr.head()"
   ]
  },
  {
   "cell_type": "markdown",
   "metadata": {},
   "source": [
    "# Publication Figures"
   ]
  },
  {
   "cell_type": "markdown",
   "metadata": {},
   "source": [
    "## Figure 1: Overview Sketch"
   ]
  },
  {
   "cell_type": "markdown",
   "metadata": {},
   "source": [
    "### Read contact matrix"
   ]
  },
  {
   "cell_type": "code",
   "execution_count": null,
   "metadata": {},
   "outputs": [],
   "source": [
    "c = cooler.Cooler(sketch_hicfile)\n",
    "\n",
    "mat = c.matrix(balance=False).fetch(sketch_region)\n",
    "df_bins = c.bins().fetch(sketch_region)\n",
    "\n",
    "df_mat = pd.DataFrame(mat, index=df_bins['start'], columns=df_bins['start'])"
   ]
  },
  {
   "cell_type": "code",
   "execution_count": null,
   "metadata": {},
   "outputs": [],
   "source": [
    "df_mat.head()"
   ]
  },
  {
   "cell_type": "markdown",
   "metadata": {},
   "source": [
    "### Read TADs"
   ]
  },
  {
   "cell_type": "code",
   "execution_count": null,
   "id": "metric-jacksonville",
   "metadata": {},
   "outputs": [],
   "source": [
    "df_tads = pr.PyRanges(\n",
    "    pd.read_csv(sketch_tadfile).rename(\n",
    "        columns={'chrname': 'Chromosome', 'tad_start': 'Start', 'tad_stop': 'End'}\n",
    "    )\n",
    ")\n",
    "df_tads.head()"
   ]
  },
  {
   "cell_type": "code",
   "execution_count": null,
   "id": "prepared-venture",
   "metadata": {},
   "outputs": [],
   "source": [
    "df_region = pr.PyRanges(\n",
    "    pd.DataFrame(\n",
    "        {\n",
    "            'Chromosome': [sketch_region[0]],\n",
    "            'Start': [sketch_region[1]],\n",
    "            'End': [sketch_region[2]],\n",
    "        }\n",
    "    )\n",
    ")\n",
    "df_region"
   ]
  },
  {
   "cell_type": "code",
   "execution_count": null,
   "metadata": {},
   "outputs": [],
   "source": [
    "tad_list = df_tads.overlap(df_region)\n",
    "# tad_list = tad_list[(tad_list.Start >= sketch_region[1]) & (tad_list.End <= sketch_region[2])]\n",
    "tad_list"
   ]
  },
  {
   "cell_type": "markdown",
   "metadata": {},
   "source": [
    "#### Find TAD boundaries"
   ]
  },
  {
   "cell_type": "code",
   "execution_count": null,
   "id": "negative-warner",
   "metadata": {},
   "outputs": [],
   "source": [
    "border_size = -20_000\n",
    "\n",
    "\n",
    "def get_boundaries(df):\n",
    "    tmp_front = df.copy()\n",
    "    tmp_front.loc[:, 'End'] = tmp_front.Start - border_size\n",
    "    tmp_front['type'] = 'front'\n",
    "\n",
    "    tmp_back = df.copy()\n",
    "    tmp_back.loc[:, 'Start'] = tmp_back.End + border_size\n",
    "    tmp_back['type'] = 'back'\n",
    "\n",
    "    return pd.concat([tmp_front, tmp_back])"
   ]
  },
  {
   "cell_type": "code",
   "execution_count": null,
   "metadata": {},
   "outputs": [],
   "source": [
    "border_list = tad_list.apply(get_boundaries).overlap(df_region)\n",
    "border_list"
   ]
  },
  {
   "cell_type": "markdown",
   "metadata": {},
   "source": [
    "### Read SNPs"
   ]
  },
  {
   "cell_type": "code",
   "execution_count": null,
   "id": "historic-dallas",
   "metadata": {},
   "outputs": [],
   "source": [
    "tmp = (\n",
    "    df_data[['chromosome_hg19', 'position_hg19', 'snpId']]\n",
    "    .drop_duplicates()\n",
    "    .dropna()\n",
    "    .copy()\n",
    "    .rename(columns={'chromosome_hg19': 'Chromosome', 'position_hg19': 'Start'})\n",
    ")\n",
    "tmp['Chromosome'] = 'chr' + tmp['Chromosome'].astype(str)\n",
    "tmp['End'] = tmp['Start'] + 1\n",
    "\n",
    "df_snps = pr.PyRanges(tmp)\n",
    "df_snps"
   ]
  },
  {
   "cell_type": "code",
   "execution_count": null,
   "metadata": {},
   "outputs": [],
   "source": [
    "# find SNPs in TAD borders\n",
    "snp_list = df_snps.overlap(border_list)\n",
    "snp_list"
   ]
  },
  {
   "cell_type": "code",
   "execution_count": null,
   "id": "painful-battery",
   "metadata": {},
   "outputs": [],
   "source": [
    "# classify SNPs\n",
    "def classify(x):\n",
    "    return x['is_cancer'].value_counts().idxmax()\n",
    "\n",
    "\n",
    "snp_cancer_map = (\n",
    "    df_data[['diseaseId', 'snpId', 'is_cancer']]\n",
    "    .drop_duplicates()\n",
    "    .dropna()\n",
    "    .groupby('snpId')\n",
    "    .apply(classify)\n",
    "    .to_dict()\n",
    ")\n",
    "list(snp_cancer_map.items())[:2]"
   ]
  },
  {
   "cell_type": "markdown",
   "metadata": {},
   "source": [
    "### Create plot"
   ]
  },
  {
   "cell_type": "code",
   "execution_count": null,
   "id": "concrete-civilization",
   "metadata": {},
   "outputs": [],
   "source": [
    "# rotate contact matrix\n",
    "mat_rot = ndimage.rotate(df_mat, 45, order=0, reshape=True, cval=0, prefilter=False)\n",
    "\n",
    "# create figure\n",
    "s = 2\n",
    "fig = plt.figure(figsize=(s * 8, s * 8))\n",
    "\n",
    "# main plot\n",
    "ax_main = plt.gca()\n",
    "\n",
    "# plot rotated contact matrix\n",
    "plotted_mat = ax_main.matshow(\n",
    "    mat_rot,\n",
    "    norm=SymLogNorm(35),\n",
    "    cmap='YlOrRd',\n",
    "    origin='lower',\n",
    "    extent=(\n",
    "        df_mat.index[0] + 0.5,\n",
    "        df_mat.index[-1] + 0.5,\n",
    "        df_mat.index[0] + 0.5,\n",
    "        df_mat.index[-1] + 0.5,\n",
    "    ),\n",
    "    aspect='equal',\n",
    ")\n",
    "\n",
    "# contact colorbar\n",
    "ax_colobar = ax_main.inset_axes([0.9, 0.6, 0.025, 0.3])\n",
    "plt.colorbar(plotted_mat, cax=ax_colobar)\n",
    "ax_colobar.set_ylabel('Contacts', rotation=90)\n",
    "\n",
    "# adjust axes\n",
    "center_height = (df_mat.index[0] + df_mat.index[-1]) / 2 + 0.5\n",
    "ax_main.set_ylim(center_height, df_mat.index[-1] + 0.5)\n",
    "\n",
    "ax_main.set_xlabel(sketch_region[0])\n",
    "ax_main.xaxis.set_label_position('top')\n",
    "ax_main.set_xlim(df_mat.index[0], df_mat.index[-1])\n",
    "\n",
    "ax_main.tick_params(\n",
    "    axis='both',\n",
    "    reset=True,\n",
    "    which='both',\n",
    "    top=True,\n",
    "    labeltop=True,\n",
    "    right=False,\n",
    "    labelright=False,\n",
    "    left=False,\n",
    "    labelleft=False,\n",
    "    bottom=False,\n",
    "    labelbottom=False,\n",
    ")\n",
    "\n",
    "ax_main.ticklabel_format(axis='both', style='plain')\n",
    "\n",
    "# highlight TADs\n",
    "for row in tad_list.df.itertuples():\n",
    "    tmp = np.sin(np.deg2rad(90)) * (row.End - row.Start) / 2\n",
    "\n",
    "    pg = plt.Polygon(\n",
    "        [\n",
    "            [row.Start, center_height],\n",
    "            [(row.Start + row.End) / 2, center_height + tmp],\n",
    "            [row.End, center_height],\n",
    "        ],\n",
    "        edgecolor='black',\n",
    "        facecolor='none',\n",
    "    )\n",
    "    ax_main.add_patch(pg)\n",
    "\n",
    "# highlight TAD boundaries\n",
    "for row in border_list.df.itertuples():\n",
    "    tmp = np.tan(np.deg2rad(45)) * (row.End - row.Start)\n",
    "\n",
    "    pg = plt.Polygon(\n",
    "        [\n",
    "            [row.Start, center_height],\n",
    "            [row.End if row.type == 'front' else row.Start, center_height + tmp],\n",
    "            [row.End, center_height],\n",
    "        ],\n",
    "        edgecolor='black',\n",
    "        facecolor='gray',\n",
    "        alpha=0.6,\n",
    "    )\n",
    "    ax_main.add_patch(pg)\n",
    "\n",
    "# auxiliary plot\n",
    "ax_height = 0.3\n",
    "ax_aux = ax_main.inset_axes([0, -ax_height, 1, ax_height])\n",
    "\n",
    "ax_main.get_shared_x_axes().join(ax_main, ax_aux)\n",
    "ax_aux.set_xlim(df_mat.index[0], df_mat.index[-1])\n",
    "\n",
    "# highlight SNPs\n",
    "dash_style = (0, (5, 5))\n",
    "\n",
    "snp_pos = snp_list.df['Start']\n",
    "snp_colors = (\n",
    "    'black'  # ['orange' if snp_cancer_map[s] else 'blue' for s in snp_list.df['snpId']]\n",
    ")\n",
    "snp_ls = ['solid' if snp_cancer_map[s] else dash_style for s in snp_list.df['snpId']]\n",
    "\n",
    "trans = tx.blended_transform_factory(ax_aux.transData, ax_aux.transAxes)\n",
    "xy_pairs = np.column_stack([np.repeat(snp_pos, 2), np.tile([0.8, 1], len(snp_pos))])\n",
    "\n",
    "line_segs = xy_pairs.reshape([len(snp_pos), 2, 2])\n",
    "ax_aux.add_collection(\n",
    "    LineCollection(line_segs, transform=trans, colors=snp_colors, ls=snp_ls)\n",
    ")\n",
    "\n",
    "ax_aux.axis('off')\n",
    "\n",
    "annotation_list = []\n",
    "for row in snp_list.df.itertuples():\n",
    "    pos = row.Start\n",
    "    id_ = row.snpId\n",
    "\n",
    "    linestyle = 'solid' if snp_cancer_map[id_] else dash_style\n",
    "\n",
    "    a = ax_aux.annotate(\n",
    "        id_,\n",
    "        xy=(pos, 0.8),\n",
    "        xytext=(pos, 0.5),\n",
    "        xycoords=('data', 'axes fraction'),\n",
    "        textcoords=('data', 'axes fraction'),\n",
    "        arrowprops=dict(arrowstyle='-', linestyle=linestyle),\n",
    "        annotation_clip=False,\n",
    "        fontsize=13,\n",
    "    )\n",
    "    annotation_list.append(a)\n",
    "\n",
    "adjust_text(annotation_list, ax=ax_aux)\n",
    "\n",
    "# save figure\n",
    "plt.tight_layout()\n",
    "plt.savefig(outdir / 'figure1.pdf')"
   ]
  },
  {
   "cell_type": "markdown",
   "metadata": {
    "toc-hr-collapsed": false
   },
   "source": [
    "## Figure 2: p-value Histogram for nice case"
   ]
  },
  {
   "cell_type": "markdown",
   "metadata": {},
   "source": [
    "### Helper functions"
   ]
  },
  {
   "cell_type": "code",
   "execution_count": null,
   "id": "emerging-shareware",
   "metadata": {},
   "outputs": [],
   "source": [
    "def plot_histogram(\n",
    "    df, ax=None, bins=np.linspace(0, 4, 50), column_name='pval_border_trans'\n",
    "):\n",
    "    ax = ax if ax is not None else plt.gca()\n",
    "\n",
    "    sns.histplot(\n",
    "        data=df,\n",
    "        x=column_name,\n",
    "        hue='is_cancer',\n",
    "        stat='density',\n",
    "        common_norm=False,\n",
    "        bins=bins,\n",
    "        element='step',\n",
    "        ax=ax,\n",
    "    )\n",
    "\n",
    "    ax.axvline(x=-np.log10(0.05), ls='dashed', color='red')\n",
    "\n",
    "    ax.set_xlabel(r'$-log_{10}($p-value$)$')\n",
    "    ax.set_ylabel('Density')\n",
    "\n",
    "    pal = sns.color_palette('tab10', desat=0.75)\n",
    "    ax.legend(\n",
    "        handles=[\n",
    "            Patch(facecolor=(*pal[1], 0.25), edgecolor=pal[1], label='Cancer'),\n",
    "            Patch(facecolor=(*pal[0], 0.25), edgecolor=pal[0], label='Non-cancer'),\n",
    "        ],\n",
    "        loc='best',\n",
    "        frameon=False,\n",
    "    )"
   ]
  },
  {
   "cell_type": "code",
   "execution_count": null,
   "id": "interior-locking",
   "metadata": {},
   "outputs": [],
   "source": [
    "def plot_histogram_difference(df, ax=None, bins=np.linspace(0, 4, 50)):\n",
    "    # compute histogram difference\n",
    "    hist_cancer, bin_edges = np.histogram(\n",
    "        df.loc[df['is_cancer'], 'pval_border_trans'], bins=bins, density=True\n",
    "    )\n",
    "    hist_noncancer, _ = np.histogram(\n",
    "        df.loc[~df['is_cancer'], 'pval_border_trans'], bins=bins, density=True\n",
    "    )\n",
    "\n",
    "    hist_diff = hist_cancer - hist_noncancer\n",
    "    bin_edge_list = [round(n, 2) for n in bin_edges[1:]]\n",
    "\n",
    "    # plot\n",
    "    ax = ax if ax is not None else plt.gca()\n",
    "\n",
    "    markerline, stemline, baseline = ax.stem(\n",
    "        bin_edge_list,\n",
    "        hist_diff,\n",
    "        basefmt='grey',\n",
    "        linefmt='k',\n",
    "        markerfmt='ok',\n",
    "        use_line_collection=True,\n",
    "    )\n",
    "    markerline.set_markersize(5)\n",
    "\n",
    "    ax.axvline(-np.log10(0.05), ls='dashed', color='red')\n",
    "\n",
    "    ax.set_xlabel(r'$-log_{10}($p-value$)$')\n",
    "    ax.set_ylabel('Difference (Cancer $-$ Non-cancer)')"
   ]
  },
  {
   "cell_type": "markdown",
   "metadata": {},
   "source": [
    "### Compute extra multiple correction values"
   ]
  },
  {
   "cell_type": "code",
   "execution_count": null,
   "id": "maritime-letter",
   "metadata": {},
   "outputs": [],
   "source": [
    "%%time\n",
    "df_newcorrection = df_enr.groupby(['filter', 'TAD_type', 'tad_source', 'window_size'])[\n",
    "    ['pval_border__notcorrected']\n",
    "].transform(multipletests_nan)\n",
    "df_newcorrection.head()"
   ]
  },
  {
   "cell_type": "code",
   "execution_count": null,
   "id": "addressed-affect",
   "metadata": {},
   "outputs": [],
   "source": [
    "df_enr['pval_border__jointmultipletesting'] = df_newcorrection[\n",
    "    'pval_border__notcorrected'\n",
    "]\n",
    "df_enr['pval_border__jointmultipletesting_trans'] = df_enr[\n",
    "    'pval_border__jointmultipletesting'\n",
    "].apply(lambda x: max_enrichment if x == 0 else -np.log10(x))"
   ]
  },
  {
   "cell_type": "markdown",
   "metadata": {},
   "source": [
    "### Main figures: nofilter"
   ]
  },
  {
   "cell_type": "markdown",
   "metadata": {},
   "source": [
    "#### Subfigure 2a: nofilter"
   ]
  },
  {
   "cell_type": "code",
   "execution_count": null,
   "id": "veterinary-korea",
   "metadata": {},
   "outputs": [],
   "source": [
    "sub_nofilter = df_enr[\n",
    "    (df_enr['filter'] == 'nofilter')\n",
    "    & (df_enr['TAD_type'] == '20in')\n",
    "    &\n",
    "    #     (df_enr['window_size'].isin([8,9,10,11,12])) &\n",
    "    (df_enr['tad_source'].str.contains('Rao2014'))\n",
    "    & (df_enr['tad_source'].str.contains('10kb'))\n",
    "    & (df_enr['#snp'] >= 1)\n",
    "]"
   ]
  },
  {
   "cell_type": "code",
   "execution_count": null,
   "id": "difficult-montana",
   "metadata": {},
   "outputs": [],
   "source": [
    "stats.mannwhitneyu(\n",
    "    sub_nofilter.loc[sub_nofilter['is_cancer'], 'pval_border'],\n",
    "    sub_nofilter.loc[~sub_nofilter['is_cancer'], 'pval_border'],\n",
    ")"
   ]
  },
  {
   "cell_type": "code",
   "execution_count": null,
   "metadata": {},
   "outputs": [],
   "source": [
    "plt.figure(figsize=(8, 6))\n",
    "plot_histogram(sub_nofilter)"
   ]
  },
  {
   "cell_type": "markdown",
   "metadata": {},
   "source": [
    "### Supplementary figures: nofilter"
   ]
  },
  {
   "cell_type": "markdown",
   "metadata": {},
   "source": [
    "#### Supplementary subfigure 3a: nofilter"
   ]
  },
  {
   "cell_type": "code",
   "execution_count": null,
   "metadata": {},
   "outputs": [],
   "source": [
    "plt.figure(figsize=(8, 6))\n",
    "plot_histogram_difference(sub_nofilter)"
   ]
  },
  {
   "cell_type": "markdown",
   "metadata": {},
   "source": [
    "#### Supplementary subfigure 4a: nofilter"
   ]
  },
  {
   "cell_type": "code",
   "execution_count": null,
   "id": "charitable-transcription",
   "metadata": {},
   "outputs": [],
   "source": [
    "fig = plt.figure(figsize=(8, 3 * 6))\n",
    "gs = fig.add_gridspec(nrows=3, ncols=1)\n",
    "\n",
    "ax = fig.add_subplot(gs[0, 0])\n",
    "plot_histogram(sub_nofilter, ax=ax, column_name='pval_border__notcorrected_trans')\n",
    "ax.set_title('No multiple testing correction')\n",
    "ax.text(0.02, 0.97, 'A', transform=ax.transAxes, **panel_label_params)\n",
    "\n",
    "ax = fig.add_subplot(gs[1, 0])\n",
    "plot_histogram(sub_nofilter, ax=ax, column_name='pval_border__jointmultipletesting_trans')\n",
    "ax.set_title('Joint multiple testing correction')\n",
    "ax.text(0.02, 0.97, 'B', transform=ax.transAxes, **panel_label_params)\n",
    "\n",
    "ax = fig.add_subplot(gs[2, 0])\n",
    "plot_histogram(sub_nofilter, ax=ax, column_name='pval_border_trans')\n",
    "ax.set_title('Group-wise multiple testing correction')\n",
    "ax.text(0.02, 0.97, 'C', transform=ax.transAxes, **panel_label_params)\n",
    "\n",
    "fig.tight_layout()\n",
    "fig.savefig(outdir / 'multiple_all.pdf')"
   ]
  },
  {
   "cell_type": "markdown",
   "metadata": {},
   "source": [
    "### Main figures: intergenic"
   ]
  },
  {
   "cell_type": "markdown",
   "metadata": {},
   "source": [
    "#### Subfigure 2b: intergenic filter"
   ]
  },
  {
   "cell_type": "code",
   "execution_count": null,
   "id": "technological-heart",
   "metadata": {},
   "outputs": [],
   "source": [
    "sub_intergenic = df_enr[\n",
    "    (df_enr['filter'] == 'intergenic')\n",
    "    & (df_enr['TAD_type'] == '20in')\n",
    "    &\n",
    "    #     (df_enr['window_size'].isin([8,9,10,11,12])) &\n",
    "    (df_enr['tad_source'].str.contains('Rao2014'))\n",
    "    & (df_enr['tad_source'].str.contains('10kb'))\n",
    "    & (df_enr['#snp'] >= 1)\n",
    "]"
   ]
  },
  {
   "cell_type": "code",
   "execution_count": null,
   "id": "based-essay",
   "metadata": {},
   "outputs": [],
   "source": [
    "stats.mannwhitneyu(\n",
    "    sub_intergenic.loc[sub_intergenic['is_cancer'], 'pval_border'],\n",
    "    sub_intergenic.loc[~sub_intergenic['is_cancer'], 'pval_border'],\n",
    ")"
   ]
  },
  {
   "cell_type": "code",
   "execution_count": null,
   "metadata": {},
   "outputs": [],
   "source": [
    "plt.figure(figsize=(8, 6))\n",
    "plot_histogram(sub_intergenic)"
   ]
  },
  {
   "cell_type": "markdown",
   "metadata": {},
   "source": [
    "### Supplementary figures: intergenic"
   ]
  },
  {
   "cell_type": "markdown",
   "metadata": {},
   "source": [
    "#### Supplementary subfigure 3b: intergenic"
   ]
  },
  {
   "cell_type": "code",
   "execution_count": null,
   "metadata": {},
   "outputs": [],
   "source": [
    "plt.figure(figsize=(8, 6))\n",
    "plot_histogram_difference(sub_intergenic)"
   ]
  },
  {
   "cell_type": "markdown",
   "metadata": {},
   "source": [
    "#### Supplementary subfigure 4b: intergenic"
   ]
  },
  {
   "cell_type": "code",
   "execution_count": null,
   "id": "duplicate-coordinate",
   "metadata": {},
   "outputs": [],
   "source": [
    "fig = plt.figure(figsize=(8, 3 * 6))\n",
    "gs = fig.add_gridspec(nrows=3, ncols=1)\n",
    "\n",
    "ax = fig.add_subplot(gs[0, 0])\n",
    "plot_histogram(sub_intergenic, ax=ax, column_name='pval_border__notcorrected_trans')\n",
    "ax.set_title('No multiple testing correction')\n",
    "ax.text(0.02, 0.97, 'A', transform=ax.transAxes, **panel_label_params)\n",
    "\n",
    "ax = fig.add_subplot(gs[1, 0])\n",
    "plot_histogram(sub_intergenic, ax=ax, column_name='pval_border__jointmultipletesting_trans')\n",
    "ax.set_title('Joint multiple testing correction')\n",
    "ax.text(0.02, 0.97, 'B', transform=ax.transAxes, **panel_label_params)\n",
    "\n",
    "ax = fig.add_subplot(gs[2, 0])\n",
    "plot_histogram(sub_intergenic, ax=ax, column_name='pval_border_trans')\n",
    "ax.set_title('Group-wise multiple testing correction')\n",
    "ax.text(0.02, 0.97, 'C', transform=ax.transAxes, **panel_label_params)\n",
    "\n",
    "fig.tight_layout()\n",
    "fig.savefig(outdir / 'multiple_intergenic.pdf')"
   ]
  },
  {
   "cell_type": "markdown",
   "metadata": {},
   "source": [
    "### Panel figure"
   ]
  },
  {
   "cell_type": "code",
   "execution_count": null,
   "id": "herbal-jaguar",
   "metadata": {},
   "outputs": [],
   "source": [
    "fig = plt.figure(figsize=(4 * 4, 4 * 3))\n",
    "gs = fig.add_gridspec(nrows=2, ncols=2)\n",
    "\n",
    "ax = fig.add_subplot(gs[0, 0])\n",
    "plot_histogram(sub_nofilter, ax)\n",
    "ax.text(0.02, 0.97, 'A', transform=ax.transAxes, **panel_label_params)\n",
    "ax.set_title('nofilter')\n",
    "\n",
    "ax = fig.add_subplot(gs[0, 1])\n",
    "plot_histogram(sub_intergenic, ax)\n",
    "ax.text(0.02, 0.97, 'B', transform=ax.transAxes, **panel_label_params)\n",
    "ax.set_title('intergenic')\n",
    "\n",
    "ax = fig.add_subplot(gs[1, 0])\n",
    "plot_histogram_difference(sub_nofilter, ax)\n",
    "ax.text(0.02, 0.97, 'C', transform=ax.transAxes, **panel_label_params)\n",
    "\n",
    "ax = fig.add_subplot(gs[1, 1])\n",
    "plot_histogram_difference(sub_intergenic, ax)\n",
    "ax.text(0.02, 0.97, 'D', transform=ax.transAxes, **panel_label_params)\n",
    "\n",
    "plt.tight_layout()\n",
    "plt.savefig(outdir / 'figure2.pdf')"
   ]
  },
  {
   "cell_type": "markdown",
   "metadata": {},
   "source": [
    "## Figure 3: Zoomed-out multi-dataset overview"
   ]
  },
  {
   "cell_type": "code",
   "execution_count": null,
   "metadata": {},
   "outputs": [],
   "source": [
    "df_enr.head(2)"
   ]
  },
  {
   "cell_type": "markdown",
   "metadata": {},
   "source": [
    "### Parameter combinations"
   ]
  },
  {
   "cell_type": "code",
   "execution_count": null,
   "metadata": {},
   "outputs": [],
   "source": [
    "if window_size_list is None:\n",
    "    window_size_list = df_enr['window_size'].unique()\n",
    "\n",
    "window_size_list"
   ]
  },
  {
   "cell_type": "code",
   "execution_count": null,
   "id": "floating-religious",
   "metadata": {},
   "outputs": [],
   "source": [
    "def helper_function(x):\n",
    "    assert x.shape[0] == 1\n",
    "    return x.iloc[0] <= 0.05"
   ]
  },
  {
   "cell_type": "code",
   "execution_count": null,
   "id": "approximate-navigator",
   "metadata": {},
   "outputs": [],
   "source": [
    "%%time\n",
    "\n",
    "df_list_detailed = []\n",
    "for snp_threshold in tqdm(snp_count_threshold_list):\n",
    "    for window_size in tqdm(window_size_list):\n",
    "        sub = df_enr[\n",
    "            (df_enr['#snp'] >= snp_threshold) & (df_enr['window_size'] == window_size)\n",
    "        ]\n",
    "\n",
    "        tmp_detailed = (\n",
    "            sub.groupby(['TAD_type', 'filter', 'tad_source', 'is_cancer', 'diseaseId'])[\n",
    "                'pval_border'\n",
    "            ]\n",
    "            .apply(helper_function)\n",
    "            .to_frame('majority_is_sig')\n",
    "            .reset_index()\n",
    "        )\n",
    "\n",
    "        if tmp_detailed.empty:\n",
    "            print(f'Skipping {snp_threshold}-{window_size} because result is empty')\n",
    "            continue\n",
    "\n",
    "        tmp_detailed['snp_threshold'] = snp_threshold\n",
    "        tmp_detailed['window_size'] = window_size\n",
    "\n",
    "        df_list_detailed.append(tmp_detailed)\n",
    "\n",
    "df_detailed = pd.concat(df_list_detailed)\n",
    "df_detailed.head()"
   ]
  },
  {
   "cell_type": "code",
   "execution_count": null,
   "metadata": {},
   "outputs": [],
   "source": [
    "df_detailed.to_csv(outdir / 'snpthreshold_data.csv.gz', index=False)"
   ]
  },
  {
   "cell_type": "markdown",
   "metadata": {},
   "source": [
    "### Majority vote over window sizes"
   ]
  },
  {
   "cell_type": "code",
   "execution_count": null,
   "id": "driven-horizon",
   "metadata": {},
   "outputs": [],
   "source": [
    "%%time\n",
    "\n",
    "sub = df_enr[(df_enr['#snp'] >= 0) & (~df_enr['window_size'].isin([0, 1]))]\n",
    "\n",
    "df_majority = (\n",
    "    sub.groupby(['TAD_type', 'filter', 'tad_source', 'is_cancer', 'diseaseId'])\n",
    "    .apply(lambda x: (x['pval_border'] <= 0.05).mean() > disease_fraction_threshold)\n",
    "    .to_frame('majority_is_sig')\n",
    "    .reset_index()\n",
    ")\n",
    "df_majority.head()"
   ]
  },
  {
   "cell_type": "code",
   "execution_count": null,
   "metadata": {},
   "outputs": [],
   "source": [
    "df_majority.to_csv(outdir / 'majorityvote_data.csv.gz', index=False)"
   ]
  },
  {
   "cell_type": "markdown",
   "metadata": {},
   "source": [
    "## Cancer vs Non-cancer"
   ]
  },
  {
   "cell_type": "markdown",
   "metadata": {},
   "source": [
    "### Helper functions"
   ]
  },
  {
   "cell_type": "code",
   "execution_count": null,
   "metadata": {},
   "outputs": [],
   "source": [
    "def select_one(df, col):\n",
    "    assert df[col].nunique() == 1\n",
    "    return df[col].iloc[0]"
   ]
  },
  {
   "cell_type": "code",
   "execution_count": null,
   "id": "sudden-scholar",
   "metadata": {},
   "outputs": [],
   "source": [
    "def compute_pvalue(x, y):\n",
    "    ct = pd.crosstab(x, y)\n",
    "\n",
    "    if ct.shape != (2, 2):\n",
    "        print(f'Warning: invalid contingency table: {ct}')\n",
    "        return np.nan\n",
    "\n",
    "    return fisher_exact(ct)[1]"
   ]
  },
  {
   "cell_type": "code",
   "execution_count": null,
   "id": "likely-torture",
   "metadata": {},
   "outputs": [],
   "source": [
    "def custom_barplot(\n",
    "    *args, order=None, additional_varying_columns=None, ax=None, **kwargs\n",
    "):\n",
    "    # initial setup\n",
    "    data = kwargs['data']\n",
    "    x = kwargs['x']\n",
    "\n",
    "    if order is None:\n",
    "        order = natsorted(data[x].unique())\n",
    "\n",
    "    assert set(order) <= set(data[x].unique()), (set(order), set(data[x].unique()))\n",
    "\n",
    "    # make sure data all required columns are constant (i.e. grouping has worked)\n",
    "    additional_varying_columns = (\n",
    "        additional_varying_columns if additional_varying_columns is not None else set()\n",
    "    )\n",
    "\n",
    "    varying_columns = {\n",
    "        x,\n",
    "        'is_cancer',\n",
    "        'diseaseId',\n",
    "        'majority_is_sig',\n",
    "        *additional_varying_columns,\n",
    "    }\n",
    "    for col in set(data.columns) - varying_columns:\n",
    "        assert data[col].nunique() == 1, (col, data[col])\n",
    "\n",
    "    # compute fraction\n",
    "    data_agg = (\n",
    "        data.groupby([x, 'is_cancer'])['majority_is_sig']\n",
    "        .apply(lambda x: x.mean())\n",
    "        .to_frame('sig_frac')\n",
    "        .reset_index()\n",
    "    )\n",
    "\n",
    "    # standard barplot\n",
    "    ax = sns.barplot(\n",
    "        data=data_agg,\n",
    "        x=x,\n",
    "        y='sig_frac',\n",
    "        hue='is_cancer',\n",
    "        palette='tab10',\n",
    "        order=order,\n",
    "        hue_order=[False, True],\n",
    "        ax=ax,\n",
    "    )\n",
    "\n",
    "    # add annotations\n",
    "    box_pairs = []\n",
    "    pvalues = []\n",
    "    text_annot_custom = []\n",
    "\n",
    "    for order_value in order:\n",
    "        box_pairs.append(((order_value, False), (order_value, True)))\n",
    "\n",
    "        # subset data\n",
    "        sub = data[data[x] == order_value]\n",
    "\n",
    "        # compute p-value\n",
    "        sub_x = sub['is_cancer']\n",
    "        sub_y = sub['majority_is_sig']\n",
    "        pval = compute_pvalue(sub_x, sub_y)\n",
    "\n",
    "        pvalues.append(pval)\n",
    "\n",
    "        txt_stars = pval_annotation_text(\n",
    "            pval, [[1e-4, \"****\"], [1e-3, \"***\"], [1e-2, \"**\"], [0.05, \"*\"], [1, \"\"]]\n",
    "        )\n",
    "        txt_value = simple_text(\n",
    "            pval,\n",
    "            '{:.2f}',\n",
    "            [[1e-5, \"$10^{-5}$\"], [1e-4, \"$10^{-4}$\"], [1e-3, \"0.001\"], [1e-2, \"0.01\"]],\n",
    "            '',\n",
    "        )\n",
    "        text_annot_custom.append(f'{txt_stars}\\n{txt_value}')\n",
    "\n",
    "    statannot.add_stat_annotation(\n",
    "        ax,\n",
    "        plot='barplot',\n",
    "        data=data_agg,\n",
    "        x=x,\n",
    "        y='sig_frac',\n",
    "        hue='is_cancer',\n",
    "        order=order,\n",
    "        hue_order=[False, True],\n",
    "        box_pairs=box_pairs,\n",
    "        #         text_format='star',\n",
    "        pvalues=pvalues,\n",
    "        text_annot_custom=text_annot_custom,\n",
    "        perform_stat_test=False,\n",
    "        verbose=0,\n",
    "    )"
   ]
  },
  {
   "cell_type": "markdown",
   "metadata": {},
   "source": [
    "### SNP count threshold effect"
   ]
  },
  {
   "cell_type": "code",
   "execution_count": null,
   "metadata": {},
   "outputs": [],
   "source": [
    "snpcount_outdir = outdir / 'snpcount_effect'\n",
    "snpcount_outdir.mkdir(exist_ok=True)"
   ]
  },
  {
   "cell_type": "code",
   "execution_count": null,
   "id": "coral-spider",
   "metadata": {},
   "outputs": [],
   "source": [
    "for (tad_type, tad_source, window_size, filter_), group in df_detailed.groupby(\n",
    "    ['TAD_type', 'tad_source', 'window_size', 'filter']\n",
    "):\n",
    "    plt.figure(figsize=(16, 6))\n",
    "\n",
    "    custom_barplot(x='snp_threshold', data=group)\n",
    "\n",
    "    plt.xlabel('SNP count threshold')\n",
    "    plt.ylabel('Significant disease fraction')\n",
    "    plt.title(f'{tad_type} - {tad_source} - {window_size} - {filter_}')\n",
    "\n",
    "    plt.tight_layout()\n",
    "    plt.savefig(\n",
    "        snpcount_outdir\n",
    "        / f'dataset_overview_snpcountthreshold_{tad_type}_{tad_source}_{window_size}_{filter_}.pdf'\n",
    "    )\n",
    "    plt.close()"
   ]
  },
  {
   "cell_type": "markdown",
   "metadata": {},
   "source": [
    "### Filter effect"
   ]
  },
  {
   "cell_type": "code",
   "execution_count": null,
   "metadata": {},
   "outputs": [],
   "source": [
    "filter_outdir = outdir / 'filter_effect'\n",
    "filter_outdir.mkdir(exist_ok=True)"
   ]
  },
  {
   "cell_type": "markdown",
   "metadata": {},
   "source": [
    "#### Panel figure"
   ]
  },
  {
   "cell_type": "code",
   "execution_count": null,
   "id": "powerful-battle",
   "metadata": {},
   "outputs": [],
   "source": [
    "aggregated_subset = df_majority[\n",
    "    (df_majority['TAD_type'] == '20in')\n",
    "    & (df_majority['tad_source'].str.contains('Rao2014'))\n",
    "    & (df_majority['tad_source'].str.contains('10kb'))\n",
    "].copy()\n",
    "\n",
    "if aggregated_subset.empty:\n",
    "    print('Main datasets not found, using all instead')\n",
    "    aggregated_subset = df_majority[df_majority['TAD_type'] == '20in'].copy()\n",
    "\n",
    "aggregated_subset.head()"
   ]
  },
  {
   "cell_type": "code",
   "execution_count": null,
   "id": "olive-bonus",
   "metadata": {},
   "outputs": [],
   "source": [
    "# just for the visualization\n",
    "aggregated_subset['filter'] = aggregated_subset['filter'].replace(\n",
    "    'nofilter', 'all SNPs'\n",
    ")"
   ]
  },
  {
   "cell_type": "code",
   "execution_count": null,
   "metadata": {},
   "outputs": [],
   "source": [
    "aggregated_groups = aggregated_subset.groupby('tad_source').groups"
   ]
  },
  {
   "cell_type": "code",
   "execution_count": null,
   "metadata": {},
   "outputs": [],
   "source": [
    "requested_dataset_order = [\n",
    "    'Rao2014-GM12878-DpnII-allreps-filtered-10kb',\n",
    "    'Rao2014-GM12878-MboI-allreps-filtered-10kb',\n",
    "    'Rao2014-IMR90-MboI-allreps-filtered-10kb',\n",
    "    'Rao2014-HMEC-MboI-allreps-filtered-10kb',\n",
    "    'Rao2014-HUVEC-MboI-allreps-filtered-10kb',\n",
    "    'Rao2014-NHEK-MboI-allreps-filtered-10kb',\n",
    "]"
   ]
  },
  {
   "cell_type": "code",
   "execution_count": null,
   "id": "still-tradition",
   "metadata": {},
   "outputs": [],
   "source": [
    "fig = plt.figure(figsize=(20, 25), constrained_layout=False)\n",
    "gs = fig.add_gridspec(nrows=2, ncols=1, height_ratios=[1, 2])\n",
    "\n",
    "\n",
    "# main figure\n",
    "with sns.plotting_context('paper', font_scale=3):\n",
    "    ax = fig.add_subplot(gs[0, :])\n",
    "\n",
    "    custom_barplot(\n",
    "        x='filter',\n",
    "        data=aggregated_subset,\n",
    "        additional_varying_columns={'tad_source'},\n",
    "        order=['all SNPs', 'exonic', 'intronic', 'intergenic'],\n",
    "        ax=ax,\n",
    "    )\n",
    "\n",
    "    pal = sns.color_palette('tab10', desat=0.75)  # because seaborn does it this way\n",
    "    ax.legend(\n",
    "        handles=[\n",
    "            Patch(facecolor=pal[1], edgecolor=pal[1], label='Cancer'),\n",
    "            Patch(facecolor=pal[0], edgecolor=pal[0], label='Non-cancer'),\n",
    "        ],\n",
    "        loc='best',\n",
    "        frameon=False,\n",
    "    )\n",
    "\n",
    "    ax.set_xlabel('')\n",
    "    ax.set_ylabel(f'Disease fraction')\n",
    "\n",
    "    ax.text(0.01, 0.97, 'A', transform=ax.transAxes, **panel_label_params)\n",
    "\n",
    "\n",
    "# subfigures\n",
    "inner_grid = gs[1, :].subgridspec(nrows=3, ncols=2, wspace=None, hspace=0.3)\n",
    "axs = inner_grid.subplots()\n",
    "\n",
    "ax_list = axs.ravel()\n",
    "if len(ax_list) != len(aggregated_groups):\n",
    "    print('Warning: aggregated groups do not match axis shape')\n",
    "\n",
    "for tad_source, ax, panel_label in zip(requested_dataset_order, ax_list, 'BCDEFG'):\n",
    "    idx_list = aggregated_groups[tad_source]\n",
    "    group = aggregated_subset.loc[idx_list]\n",
    "\n",
    "    custom_barplot(\n",
    "        x='filter',\n",
    "        data=group,\n",
    "        order=['all SNPs', 'exonic', 'intronic', 'intergenic'],\n",
    "        ax=ax,\n",
    "    )\n",
    "    ax.legend([], [], frameon=False)\n",
    "\n",
    "    ax.set_title('-'.join(tad_source.split('-')[1:3]))\n",
    "    ax.set_xlabel('')\n",
    "    ax.set_ylabel(f'Disease fraction')\n",
    "\n",
    "    ax.text(0.01, 0.97, panel_label, transform=ax.transAxes, **panel_label_params)\n",
    "\n",
    "\n",
    "# save figure\n",
    "plt.tight_layout()\n",
    "plt.savefig(outdir / 'figure3.pdf')"
   ]
  },
  {
   "cell_type": "markdown",
   "metadata": {},
   "source": [
    "#### IMR90 vs Embryonic"
   ]
  },
  {
   "cell_type": "code",
   "execution_count": null,
   "metadata": {},
   "outputs": [],
   "source": [
    "aggregated_subset_imr90 = df_majority[\n",
    "    (df_majority['TAD_type'] == '20in')\n",
    "    & (df_majority['tad_source'].str.contains('IMR90'))\n",
    "    & (df_majority['tad_source'].str.contains('10kb'))\n",
    "].copy()\n",
    "\n",
    "if aggregated_subset_imr90.empty:\n",
    "    print('Main datasets not found, using all instead')\n",
    "    aggregated_subset_imr90 = df_majority[df_majority['TAD_type'] == '20in'].copy()\n",
    "\n",
    "# just for the visualization\n",
    "aggregated_subset_imr90['filter'] = aggregated_subset_imr90['filter'].replace(\n",
    "    'nofilter', 'all SNPs'\n",
    ")\n",
    "\n",
    "# data for grouped sub-figures\n",
    "aggregated_groups_imr90 = aggregated_subset_imr90.groupby('tad_source').groups.items()\n",
    "\n",
    "# check result\n",
    "print(aggregated_subset_imr90['tad_source'].unique())\n",
    "aggregated_subset_imr90.head()"
   ]
  },
  {
   "cell_type": "code",
   "execution_count": null,
   "id": "confused-pride",
   "metadata": {},
   "outputs": [],
   "source": [
    "aggregated_subset_embryonic = df_majority[\n",
    "    (df_majority['TAD_type'] == '20in')\n",
    "    & (\n",
    "        (df_majority['tad_source'].str.contains('H1hESC'))\n",
    "        | (df_majority['tad_source'].str.contains('H1_hESC'))\n",
    "        | (df_majority['tad_source'].str.contains('HUVEC'))\n",
    "    )\n",
    "    & (df_majority['tad_source'].str.contains('10kb'))\n",
    "].copy()\n",
    "\n",
    "if aggregated_subset_embryonic.empty:\n",
    "    print('Main datasets not found, using all instead')\n",
    "    aggregated_subset_embryonic = df_majority[df_majority['TAD_type'] == '20in'].copy()\n",
    "\n",
    "# just for the visualization\n",
    "aggregated_subset_embryonic['filter'] = aggregated_subset_embryonic['filter'].replace(\n",
    "    'nofilter', 'all SNPs'\n",
    ")\n",
    "\n",
    "# data for grouped sub-figures\n",
    "aggregated_groups_embryonic = aggregated_subset_embryonic.groupby(\n",
    "    'tad_source'\n",
    ").groups.items()\n",
    "\n",
    "# check result\n",
    "print(aggregated_subset_embryonic['tad_source'].unique())\n",
    "aggregated_subset_embryonic.head()"
   ]
  },
  {
   "cell_type": "code",
   "execution_count": null,
   "id": "military-mustang",
   "metadata": {},
   "outputs": [],
   "source": [
    "fig = plt.figure(figsize=(20, 30), constrained_layout=False)\n",
    "gs = fig.add_gridspec(nrows=3, ncols=1, height_ratios=[1, 1, 2])\n",
    "\n",
    "imr90_color = 'mistyrose'\n",
    "embryonic_color = 'lightcyan'\n",
    "\n",
    "\n",
    "# IMR90 figure\n",
    "with sns.plotting_context('paper', font_scale=3):\n",
    "    ax = fig.add_subplot(gs[0, :])\n",
    "\n",
    "    custom_barplot(\n",
    "        x='filter',\n",
    "        data=aggregated_subset_imr90,\n",
    "        additional_varying_columns={'tad_source'},\n",
    "        order=['all SNPs', 'exonic', 'intronic', 'intergenic'],\n",
    "        ax=ax,\n",
    "    )\n",
    "\n",
    "    ax.legend([], [], frameon=False)\n",
    "\n",
    "    ax.set_xlabel('')\n",
    "    ax.set_ylabel(f'Disease fraction')\n",
    "\n",
    "    ax.set_title('IMR90')\n",
    "    ax.set_facecolor(imr90_color)\n",
    "\n",
    "    ax.text(0.01, 0.97, 'A', transform=ax.transAxes, **panel_label_params)\n",
    "\n",
    "# Embryonic figure\n",
    "with sns.plotting_context('paper', font_scale=3):\n",
    "    ax = fig.add_subplot(gs[1, :])\n",
    "\n",
    "    custom_barplot(\n",
    "        x='filter',\n",
    "        data=aggregated_subset_embryonic,\n",
    "        additional_varying_columns={'tad_source'},\n",
    "        order=['all SNPs', 'exonic', 'intronic', 'intergenic'],\n",
    "        ax=ax,\n",
    "    )\n",
    "\n",
    "    ax.legend([], [], frameon=False)\n",
    "\n",
    "    ax.set_xlabel('')\n",
    "    ax.set_ylabel(f'Disease fraction')\n",
    "\n",
    "    ax.set_title('Embryonic')\n",
    "    ax.set_facecolor(embryonic_color)\n",
    "\n",
    "    ax.text(0.01, 0.97, 'B', transform=ax.transAxes, **panel_label_params)\n",
    "\n",
    "\n",
    "# subfigures\n",
    "inner_grid = gs[2, :].subgridspec(nrows=3, ncols=2, wspace=None, hspace=0.3)\n",
    "axs = inner_grid.subplots()\n",
    "\n",
    "# ax_list = axs.ravel()\n",
    "# if len(ax_list) != len(aggregated_groups_imr90):\n",
    "#     print('Warning: aggregated groups do not match axis shape')\n",
    "\n",
    "imr90_ax_list = axs[:, 0]\n",
    "embryonic_ax_list = axs[:, 1]\n",
    "\n",
    "for (tad_source, idx_list), ax, panel_label in zip(\n",
    "    aggregated_groups_imr90, imr90_ax_list, 'CDE'\n",
    "):\n",
    "    group = aggregated_subset_imr90.loc[idx_list]\n",
    "\n",
    "    custom_barplot(\n",
    "        x='filter',\n",
    "        data=group,\n",
    "        order=['all SNPs', 'exonic', 'intronic', 'intergenic'],\n",
    "        ax=ax,\n",
    "    )\n",
    "    ax.legend([], [], frameon=False)\n",
    "\n",
    "    ax.set_title('-'.join(tad_source.split('-')[:3]))\n",
    "    ax.set_xlabel('')\n",
    "    ax.set_ylabel(f'Disease fraction')\n",
    "\n",
    "    ax.set_facecolor(imr90_color)\n",
    "\n",
    "    ax.text(0.01, 0.97, panel_label, transform=ax.transAxes, **panel_label_params)\n",
    "\n",
    "for (tad_source, idx_list), ax, panel_label in zip(\n",
    "    aggregated_groups_embryonic, embryonic_ax_list, 'FG'\n",
    "):\n",
    "    group = aggregated_subset_embryonic.loc[idx_list]\n",
    "\n",
    "    custom_barplot(\n",
    "        x='filter',\n",
    "        data=group,\n",
    "        order=['all SNPs', 'exonic', 'intronic', 'intergenic'],\n",
    "        ax=ax,\n",
    "    )\n",
    "    ax.legend([], [], frameon=False)\n",
    "\n",
    "    ax.set_title('-'.join(tad_source.split('-')[:3]))\n",
    "    ax.set_xlabel('')\n",
    "    ax.set_ylabel(f'Disease fraction')\n",
    "\n",
    "    ax.set_facecolor(embryonic_color)\n",
    "\n",
    "    ax.text(0.01, 0.97, panel_label, transform=ax.transAxes, **panel_label_params)\n",
    "\n",
    "# put legend into last subfigure\n",
    "ax_legend = embryonic_ax_list[-1]\n",
    "\n",
    "ax_legend.axis('off')\n",
    "\n",
    "pal = sns.color_palette('tab10', desat=0.75)  # because seaborn does it this way\n",
    "ax_legend.legend(\n",
    "    handles=[\n",
    "        Patch(facecolor=pal[1], edgecolor=pal[1], label='Cancer'),\n",
    "        Patch(facecolor=pal[0], edgecolor=pal[0], label='Non-cancer'),\n",
    "        Patch(facecolor=imr90_color, edgecolor='black', label='IMR90'),\n",
    "        Patch(facecolor=embryonic_color, edgecolor='black', label='Embryonic'),\n",
    "    ],\n",
    "    loc='upper center',\n",
    "    ncol=2,\n",
    "    fontsize=30,\n",
    "    frameon=False,\n",
    ")\n",
    "\n",
    "\n",
    "# save figure\n",
    "plt.tight_layout()\n",
    "plt.savefig(outdir / f'figure3_imr90vsembryonic.pdf')"
   ]
  },
  {
   "cell_type": "markdown",
   "metadata": {},
   "source": [
    "#### All figures"
   ]
  },
  {
   "cell_type": "code",
   "execution_count": null,
   "id": "regulated-bulletin",
   "metadata": {},
   "outputs": [],
   "source": [
    "aggregated_subset_all = df_majority[\n",
    "    (df_majority['TAD_type'] == '20in')\n",
    "    & (df_majority['tad_source'].str.contains('10kb'))\n",
    "].copy()\n",
    "\n",
    "aggregated_subset_all['filter'] = aggregated_subset_all['filter'].replace(\n",
    "    'nofilter', 'all SNPs'\n",
    ")\n",
    "\n",
    "aggregated_groups_all = aggregated_subset_all.groupby('tad_source').groups\n",
    "\n",
    "dataset_list_all = natsorted(aggregated_subset_all['tad_source'].unique())\n",
    "len(dataset_list_all)"
   ]
  },
  {
   "cell_type": "code",
   "execution_count": null,
   "metadata": {},
   "outputs": [],
   "source": [
    "fig = plt.figure(figsize=(20, 50), constrained_layout=False)\n",
    "gs = fig.add_gridspec(nrows=8, ncols=2)\n",
    "\n",
    "ax_list = gs.subplots().ravel()\n",
    "[ax.axis('off') for ax in ax_list]\n",
    "\n",
    "for tad_source, ax, panel_label in zip(dataset_list_all, ax_list, string.ascii_uppercase):\n",
    "    print(panel_label, tad_source)\n",
    "    idx_list = aggregated_groups_all[tad_source]\n",
    "    group = aggregated_subset_all.loc[idx_list]\n",
    "\n",
    "    ax.axis('on')\n",
    "    custom_barplot(\n",
    "        x='filter',\n",
    "        data=group,\n",
    "        order=['all SNPs', 'exonic', 'intronic', 'intergenic'],\n",
    "        ax=ax,\n",
    "    )\n",
    "    ax.legend([], [], frameon=False)\n",
    "\n",
    "    ax.set_title('-'.join(tad_source.split('-')[0:3]))\n",
    "    ax.set_xlabel('')\n",
    "    ax.set_ylabel(f'Disease fraction')\n",
    "\n",
    "    ax.text(0.01, 0.98, panel_label, transform=ax.transAxes, **panel_label_params)\n",
    "\n",
    "\n",
    "# save figure\n",
    "plt.tight_layout()\n",
    "plt.savefig(outdir / f'disease_fractions_all_datasets.pdf')"
   ]
  },
  {
   "cell_type": "markdown",
   "metadata": {},
   "source": [
    "### TAD-type effect"
   ]
  },
  {
   "cell_type": "code",
   "execution_count": null,
   "metadata": {},
   "outputs": [],
   "source": [
    "tadtype_outdir = outdir / 'tadtype_effect'\n",
    "tadtype_outdir.mkdir(exist_ok=True)"
   ]
  },
  {
   "cell_type": "code",
   "execution_count": null,
   "id": "round-fashion",
   "metadata": {},
   "outputs": [],
   "source": [
    "for (filter_, tad_source), group in df_majority.groupby(['filter', 'tad_source']):\n",
    "    plt.figure(figsize=(12, 6))\n",
    "\n",
    "    custom_barplot(x='TAD_type', data=group)\n",
    "\n",
    "    plt.legend(loc='center left', bbox_to_anchor=(1, 0.5), title='is_cancer')\n",
    "\n",
    "    plt.xlabel('Border size [kbp]')\n",
    "    plt.ylabel(f'Disease fraction sig. in $>{disease_fraction_threshold}$ cases')\n",
    "    plt.title(f'{tad_source} - {filter_}')\n",
    "\n",
    "    plt.tight_layout()\n",
    "    plt.savefig(\n",
    "        tadtype_outdir / f'dataset_overview_bordersize_{filter_}_{tad_source}.pdf'\n",
    "    )\n",
    "    plt.close()"
   ]
  },
  {
   "cell_type": "markdown",
   "metadata": {},
   "source": [
    "## Figure 4: multipartite graph"
   ]
  },
  {
   "cell_type": "markdown",
   "metadata": {},
   "source": [
    "## Prepare data"
   ]
  },
  {
   "cell_type": "markdown",
   "metadata": {},
   "source": [
    "### Subset disease-SNP associations"
   ]
  },
  {
   "cell_type": "code",
   "execution_count": null,
   "metadata": {},
   "outputs": [],
   "source": [
    "df_data.head(1)"
   ]
  },
  {
   "cell_type": "code",
   "execution_count": null,
   "id": "assured-puppy",
   "metadata": {},
   "outputs": [],
   "source": [
    "df_data_sub = df_data[\n",
    "    (df_data['tad_source'].str.contains('Rao2014'))\n",
    "    & (df_data['tad_source'].str.contains('10kb'))\n",
    "    & (df_data['window_size'] == 0)\n",
    "]"
   ]
  },
  {
   "cell_type": "markdown",
   "metadata": {},
   "source": [
    "### Identify enriched diseases"
   ]
  },
  {
   "cell_type": "code",
   "execution_count": null,
   "metadata": {},
   "outputs": [],
   "source": [
    "aggregated_subset.head(1)"
   ]
  },
  {
   "cell_type": "code",
   "execution_count": null,
   "id": "english-variety",
   "metadata": {},
   "outputs": [],
   "source": [
    "isenriched_map = (\n",
    "    aggregated_subset.groupby(['TAD_type', 'filter', 'diseaseId'])[\n",
    "        'majority_is_sig'\n",
    "    ].mean()\n",
    "    > 0.5\n",
    ").to_dict()\n",
    "list(isenriched_map.items())[0]"
   ]
  },
  {
   "cell_type": "markdown",
   "metadata": {},
   "source": [
    "## Helper functions"
   ]
  },
  {
   "cell_type": "code",
   "execution_count": null,
   "metadata": {},
   "outputs": [],
   "source": [
    "node_color_map = {\n",
    "    (True, True): 'red',\n",
    "    (True, False): 'orange',\n",
    "    (False, True): 'blueviolet',\n",
    "    (False, False): 'lightblue',\n",
    "}"
   ]
  },
  {
   "cell_type": "code",
   "execution_count": null,
   "id": "taken-statement",
   "metadata": {},
   "outputs": [],
   "source": [
    "def assemble_network(\n",
    "    df, min_snp_num=1, hub_threshold=0, verbose=False, show_isolated_nodes=True\n",
    "):\n",
    "    # remove hub diseases\n",
    "    #     counts = df_data.groupby('diseaseId')['snpId'].nunique().sort_values()\n",
    "    #     nonhub_diseases = counts[counts > hub_threshold].index\n",
    "\n",
    "    #     df = df[df['diseaseId'].isin(nonhub_diseases)]\n",
    "\n",
    "    # transform dataframe to networkx object\n",
    "    graph = nx.from_pandas_edgelist(df, 'diseaseId', 'snpId')\n",
    "    graph.name = 'bipartite graph'\n",
    "    if verbose:\n",
    "        print(nx.info(graph))\n",
    "\n",
    "    # project bipartite graph\n",
    "    graph_proj_multi = nx.bipartite.projected_graph(\n",
    "        graph, df['diseaseId'].unique().tolist(), multigraph=True\n",
    "    )\n",
    "    graph_proj_multi.name = 'projected multigraph'\n",
    "    if verbose:\n",
    "        print(nx.info(graph_proj_multi))\n",
    "\n",
    "    # remove isolated nodes\n",
    "    if not show_isolated_nodes:\n",
    "        if verbose:\n",
    "            print('Remove isolated nodes')\n",
    "        graph_proj_multi.remove_nodes_from(list(nx.isolates(graph_proj_multi)))\n",
    "        if verbose:\n",
    "            print(nx.info(graph_proj_multi))\n",
    "\n",
    "    # merge multiple edges in MultiGraph into single edge with weight attribute\n",
    "    graph_proj = nx.Graph()\n",
    "    graph_proj.name = 'projected graph'\n",
    "\n",
    "    for u, v, data in graph_proj_multi.edges(data=True):\n",
    "        w = data.get('weight', 1)\n",
    "        assert w == 1, 'oopsie'\n",
    "\n",
    "        if graph_proj.has_edge(u, v):\n",
    "            graph_proj[u][v]['weight'] += w\n",
    "        else:\n",
    "            graph_proj.add_edge(u, v, weight=w)\n",
    "\n",
    "    if verbose:\n",
    "        print(nx.info(graph_proj))\n",
    "\n",
    "    # subset graph based on SNP count threshold\n",
    "    if verbose:\n",
    "        print('Subset graph')\n",
    "    graph_proj = graph_proj.edge_subgraph(\n",
    "        [\n",
    "            (u, v)\n",
    "            for u, v, data in graph_proj.edges(data=True)\n",
    "            if data['weight'] >= min_snp_num\n",
    "        ]\n",
    "    ).copy()\n",
    "    graph_proj.add_nodes_from(nx.isolates(graph_proj_multi))\n",
    "    if verbose:\n",
    "        print(nx.info(graph_proj))\n",
    "\n",
    "    # add node data\n",
    "    nx.set_node_attributes(graph_proj, iscancer_map, 'is_cancer')\n",
    "\n",
    "    nx.set_node_attributes(\n",
    "        graph_proj,\n",
    "        {n: isenriched_map[('20in', 'all SNPs', n)] for n in graph_proj.nodes()},\n",
    "        'is_enriched__nofilter',\n",
    "    )\n",
    "    nx.set_node_attributes(\n",
    "        graph_proj,\n",
    "        {\n",
    "            n: isenriched_map.get(('20in', 'intergenic', n), False)\n",
    "            for n in graph_proj.nodes()\n",
    "        },\n",
    "        'is_enriched__intergenic',\n",
    "    )\n",
    "\n",
    "    return graph_proj"
   ]
  },
  {
   "cell_type": "code",
   "execution_count": null,
   "id": "awful-transsexual",
   "metadata": {},
   "outputs": [],
   "source": [
    "def plot_network(graph, ax=None, enrichment_color_key='is_enriched'):\n",
    "    # graph layout\n",
    "    pos = nx.drawing.nx_agraph.graphviz_layout(\n",
    "        graph, prog='neato', args='-Goverlap=scale'\n",
    "    )\n",
    "\n",
    "    # node colors\n",
    "    node_color_list = [\n",
    "        node_color_map[data['is_cancer'], data[enrichment_color_key]]\n",
    "        for n, data in graph.nodes(data=True)\n",
    "    ]\n",
    "\n",
    "    # edge colors\n",
    "    #     max_weight = max(nx.get_edge_attributes(graph, 'weight').values())\n",
    "    #     edge_color_list = [(0, 0, 0, data['weight'] / max_weight) for u, v, data in graph.edges(data=True)]\n",
    "    edge_color_list = (0, 0, 0, 0.2)\n",
    "    #     edge_color_list = [(0, 0, 0, .5 if data['weight'] > 1 else 0) for u, v, data in graph.edges(data=True)]\n",
    "\n",
    "    # do plot\n",
    "    ax = ax if ax is not None else plt.gca()\n",
    "\n",
    "    nx.draw_networkx_nodes(graph, pos, node_size=20, node_color=node_color_list, ax=ax)\n",
    "    nx.draw_networkx_edges(graph, pos, edge_color=edge_color_list, ax=ax)\n",
    "\n",
    "    ax.axis('off')"
   ]
  },
  {
   "cell_type": "markdown",
   "metadata": {},
   "source": [
    "### Visualize networks"
   ]
  },
  {
   "cell_type": "markdown",
   "metadata": {},
   "source": [
    "#### Nofilter"
   ]
  },
  {
   "cell_type": "code",
   "execution_count": null,
   "metadata": {},
   "outputs": [],
   "source": [
    "df_data_sub_nofilter = df_data_sub[(df_data_sub['filter_nofilter_hg38'])]"
   ]
  },
  {
   "cell_type": "code",
   "execution_count": null,
   "metadata": {},
   "outputs": [],
   "source": [
    "sub_border = df_data_sub_nofilter[(df_data_sub_nofilter['20in'] == 'border')]\n",
    "graph_border = assemble_network(sub_border, 2)\n",
    "print(nx.info(graph_border))"
   ]
  },
  {
   "cell_type": "code",
   "execution_count": null,
   "metadata": {},
   "outputs": [],
   "source": [
    "sub_nonborder = df_data_sub_nofilter[~(df_data_sub_nofilter['20in'] == 'border')]\n",
    "graph_nonborder = assemble_network(sub_nonborder, 2)\n",
    "print(nx.info(graph_nonborder))"
   ]
  },
  {
   "cell_type": "code",
   "execution_count": null,
   "metadata": {},
   "outputs": [],
   "source": [
    "plt.figure(figsize=(12, 6))\n",
    "\n",
    "plt.subplot(121)\n",
    "plot_network(graph_nonborder, enrichment_color_key='is_enriched__nofilter')\n",
    "plt.title('nonborder SNPs')\n",
    "\n",
    "plt.subplot(122)\n",
    "plot_network(graph_border, enrichment_color_key='is_enriched__nofilter')\n",
    "plt.title('border SNPs')\n",
    "\n",
    "plt.tight_layout()\n",
    "plt.savefig(outdir / 'networks_nofilter.pdf')"
   ]
  },
  {
   "cell_type": "markdown",
   "metadata": {},
   "source": [
    "#### Intergenic"
   ]
  },
  {
   "cell_type": "code",
   "execution_count": null,
   "metadata": {},
   "outputs": [],
   "source": [
    "df_data_sub_intergenic = df_data_sub[(df_data_sub['filter_intergenic_hg38'])]"
   ]
  },
  {
   "cell_type": "code",
   "execution_count": null,
   "metadata": {},
   "outputs": [],
   "source": [
    "sub_border = df_data_sub_intergenic[(df_data_sub_intergenic['20in'] == 'border')]\n",
    "graph_border = assemble_network(sub_border, 2)\n",
    "print(nx.info(graph_border))"
   ]
  },
  {
   "cell_type": "code",
   "execution_count": null,
   "metadata": {},
   "outputs": [],
   "source": [
    "sub_nonborder = df_data_sub_intergenic[~(df_data_sub_intergenic['20in'] == 'border')]\n",
    "graph_nonborder = assemble_network(sub_nonborder, 2)\n",
    "print(nx.info(graph_nonborder))"
   ]
  },
  {
   "cell_type": "code",
   "execution_count": null,
   "metadata": {},
   "outputs": [],
   "source": [
    "plt.figure(figsize=(12, 6))\n",
    "\n",
    "plt.subplot(121)\n",
    "plot_network(graph_nonborder, enrichment_color_key='is_enriched__intergenic')\n",
    "plt.title('nonborder SNPs')\n",
    "\n",
    "plt.subplot(122)\n",
    "plot_network(graph_border, enrichment_color_key='is_enriched__intergenic')\n",
    "plt.title('border SNPs')\n",
    "\n",
    "plt.tight_layout()\n",
    "plt.savefig(outdir / 'networks_intergenic.pdf')"
   ]
  },
  {
   "cell_type": "markdown",
   "metadata": {},
   "source": [
    "#### Network grid"
   ]
  },
  {
   "cell_type": "code",
   "execution_count": null,
   "metadata": {},
   "outputs": [],
   "source": [
    "df_data_sub['tad_source'].unique()"
   ]
  },
  {
   "cell_type": "code",
   "execution_count": null,
   "metadata": {},
   "outputs": [],
   "source": [
    "df_data_sub_ds = df_data_sub[df_data_sub['tad_source'] == main_dataset]"
   ]
  },
  {
   "cell_type": "code",
   "execution_count": null,
   "id": "primary-possible",
   "metadata": {},
   "outputs": [],
   "source": [
    "isenriched_map = (\n",
    "    aggregated_subset[aggregated_subset['tad_source'] == main_dataset]\n",
    "    .set_index(['TAD_type', 'filter', 'diseaseId'])['majority_is_sig']\n",
    "    .to_dict()\n",
    ")\n",
    "list(isenriched_map.items())[0]"
   ]
  },
  {
   "cell_type": "code",
   "execution_count": null,
   "metadata": {},
   "outputs": [],
   "source": [
    "df_data_sub_nofilter = df_data_sub_ds[(df_data_sub_ds['filter_nofilter_hg38'])]\n",
    "df_data_sub_intergenic = df_data_sub_ds[(df_data_sub_ds['filter_intergenic_hg38'])]"
   ]
  },
  {
   "cell_type": "code",
   "execution_count": null,
   "metadata": {},
   "outputs": [],
   "source": [
    "snp_threshold = 1"
   ]
  },
  {
   "cell_type": "code",
   "execution_count": null,
   "metadata": {},
   "outputs": [],
   "source": [
    "sub = df_data_sub_nofilter[(df_data_sub_nofilter['20in'] == 'border')]\n",
    "graph_border = assemble_network(sub, snp_threshold)\n",
    "graph_border.name = 'graph border'\n",
    "\n",
    "sub = df_data_sub_nofilter[~(df_data_sub_nofilter['20in'] == 'border')]\n",
    "graph_nonborder = assemble_network(sub, snp_threshold)\n",
    "graph_nonborder.name = 'graph non-border'"
   ]
  },
  {
   "cell_type": "code",
   "execution_count": null,
   "metadata": {},
   "outputs": [],
   "source": [
    "sub = df_data_sub_intergenic[(df_data_sub_intergenic['20in'] == 'border')]\n",
    "graph_border_intergenic = assemble_network(sub, snp_threshold)\n",
    "graph_border_intergenic.name = 'graph border intergenic'\n",
    "\n",
    "sub = df_data_sub_intergenic[~(df_data_sub_intergenic['20in'] == 'border')]\n",
    "graph_nonborder_intergenic = assemble_network(sub, snp_threshold)\n",
    "graph_nonborder_intergenic.name = 'graph non-border intergenic'"
   ]
  },
  {
   "cell_type": "code",
   "execution_count": null,
   "id": "close-chapel",
   "metadata": {},
   "outputs": [],
   "source": [
    "# setup figure\n",
    "fig = plt.figure(figsize=(12, 12))\n",
    "gs = fig.add_gridspec(nrows=2, ncols=2)\n",
    "\n",
    "\n",
    "# plot networks\n",
    "ax = fig.add_subplot(gs[0, 0])\n",
    "plot_network(graph_border, ax=ax, enrichment_color_key='is_enriched__nofilter')\n",
    "ax.set_title('border SNPs')\n",
    "ax.text(0, 1, 'A', transform=ax.transAxes, **panel_label_params)\n",
    "\n",
    "ax = fig.add_subplot(gs[0, 1])\n",
    "plot_network(\n",
    "    nx.subgraph(graph_nonborder, graph_border.nodes()),\n",
    "    ax=ax,\n",
    "    enrichment_color_key='is_enriched__nofilter',\n",
    ")\n",
    "ax.set_title('nonborder SNPs')\n",
    "ax.text(0, 1, 'B', transform=ax.transAxes, **panel_label_params)\n",
    "\n",
    "ax = fig.add_subplot(gs[1, 0])\n",
    "plot_network(\n",
    "    graph_border_intergenic, ax=ax, enrichment_color_key='is_enriched__intergenic'\n",
    ")\n",
    "ax.set_title('border SNPs (intergenic)')\n",
    "ax.text(0, 1, 'C', transform=ax.transAxes, **panel_label_params)\n",
    "\n",
    "ax = fig.add_subplot(gs[1, 1])\n",
    "plot_network(\n",
    "    nx.subgraph(graph_nonborder_intergenic, graph_border_intergenic.nodes()),\n",
    "    ax=ax,\n",
    "    enrichment_color_key='is_enriched__intergenic',\n",
    ")\n",
    "ax.set_title('nonborder SNPs (intergenic)')\n",
    "ax.text(0, 1, 'D', transform=ax.transAxes, **panel_label_params)\n",
    "\n",
    "ax.legend(\n",
    "    handles=[\n",
    "        Line2D(\n",
    "            [0],\n",
    "            [0],\n",
    "            marker='o',\n",
    "            color='w',\n",
    "            label={True: 'Cancer', False: 'Non-cancer'}[is_cancer]\n",
    "            + ' & '\n",
    "            + {True: 'enriched', False: 'not enriched'}[is_enriched],\n",
    "            markerfacecolor=color,\n",
    "            markersize=10,\n",
    "        )\n",
    "        for (is_cancer, is_enriched), color in node_color_map.items()\n",
    "    ],\n",
    "    loc='lower right',\n",
    "    fontsize=8,\n",
    "    frameon=False,\n",
    ")\n",
    "\n",
    "\n",
    "# save figure\n",
    "plt.tight_layout()\n",
    "plt.savefig(outdir / 'figure4.pdf')"
   ]
  },
  {
   "cell_type": "markdown",
   "metadata": {},
   "source": [
    "## Network Statistics"
   ]
  },
  {
   "cell_type": "code",
   "execution_count": null,
   "metadata": {},
   "outputs": [],
   "source": [
    "graph_list = [\n",
    "    graph_nonborder,\n",
    "    graph_border,\n",
    "    graph_nonborder_intergenic,\n",
    "    graph_border_intergenic,\n",
    "]"
   ]
  },
  {
   "cell_type": "markdown",
   "metadata": {},
   "source": [
    "### General stuff"
   ]
  },
  {
   "cell_type": "code",
   "execution_count": null,
   "metadata": {},
   "outputs": [],
   "source": [
    "for cur_graph in tqdm(graph_list):\n",
    "    print(cur_graph.name)\n",
    "\n",
    "    print('-- whole graph --')\n",
    "\n",
    "    print('#nodes:', len(cur_graph.nodes()))\n",
    "    print('#nodes (degree > 0):', len([n for n in cur_graph.nodes() if cur_graph.degree[n] > 0]))\n",
    "\n",
    "    cancer_nodes = [node for node, data in cur_graph.nodes(data=True) if data['is_cancer']]\n",
    "    print('#cancer nodes:', len(cancer_nodes))\n",
    "    print('#cancer nodes (degree > 0):', len([n for n in cancer_nodes if cur_graph.degree[n] > 0]))\n",
    "\n",
    "    noncancer_nodes = [node for node, data in cur_graph.nodes(data=True) if not data['is_cancer']]\n",
    "    print('#noncancer nodes:', len(noncancer_nodes))\n",
    "    print('#noncancer nodes (degree > 0):', len([n for n in noncancer_nodes if cur_graph.degree[n] > 0]))\n",
    "\n",
    "    print('-- cancer subgraph --')\n",
    "    cur_cancer_subgraph = cur_graph.subgraph(cancer_nodes)\n",
    "\n",
    "    enr_key = 'is_enriched__intergenic' if 'intergenic' in cur_graph.name else 'is_enriched__nofilter'\n",
    "    enriched_cancer_nodes = [node for node, data in cur_cancer_subgraph.nodes(data=True) if data[enr_key]]\n",
    "    nonenriched_cancer_nodes = [node for node, data in cur_cancer_subgraph.nodes(data=True) if not data[enr_key]]\n",
    "\n",
    "    print('#nodes:', len(cur_cancer_subgraph.nodes()))\n",
    "    print('#nodes (degree > 0):', len([n for n in cur_cancer_subgraph.nodes() if cur_cancer_subgraph.degree[n] > 0]))\n",
    "    print('#enriched nodes (degree > 0):', len([n for n in enriched_cancer_nodes if cur_cancer_subgraph.degree[n] > 0]))\n",
    "    print('#nonenriched nodes (degree > 0):', len([n for n in nonenriched_cancer_nodes if cur_cancer_subgraph.degree[n] > 0]))\n",
    "    \n",
    "    print('-- noncancer subgraph --')\n",
    "    cur_noncancer_subgraph = cur_graph.subgraph(noncancer_nodes)\n",
    "\n",
    "    enr_key = 'is_enriched__intergenic' if 'intergenic' in cur_graph.name else 'is_enriched__nofilter'\n",
    "    enriched_noncancer_nodes = [node for node, data in cur_noncancer_subgraph.nodes(data=True) if data[enr_key]]\n",
    "    nonenriched_noncancer_nodes = [node for node, data in cur_noncancer_subgraph.nodes(data=True) if not data[enr_key]]\n",
    "\n",
    "    print('#nodes:', len(cur_noncancer_subgraph.nodes()))\n",
    "    print('#nodes (degree > 0):', len([n for n in cur_noncancer_subgraph.nodes() if cur_noncancer_subgraph.degree[n] > 0]))\n",
    "    print('#enriched nodes (degree > 0):', len([n for n in enriched_noncancer_nodes if cur_noncancer_subgraph.degree[n] > 0]))\n",
    "    print('#nonenriched nodes (degree > 0):', len([n for n in nonenriched_noncancer_nodes if cur_noncancer_subgraph.degree[n] > 0]))\n",
    "\n",
    "    print()"
   ]
  },
  {
   "cell_type": "markdown",
   "metadata": {},
   "source": [
    "### Network Coherences"
   ]
  },
  {
   "cell_type": "code",
   "execution_count": null,
   "metadata": {},
   "outputs": [],
   "source": [
    "tmp = []\n",
    "for cur_graph in tqdm(graph_list):\n",
    "    node_dict = {\n",
    "        'nodes_enrichedcancer': [\n",
    "            n\n",
    "            for n, data in cur_graph.nodes(data=True)\n",
    "            if data['is_cancer'] and data['is_enriched__nofilter']\n",
    "        ],\n",
    "        'nodes_enrichednoncancer': [\n",
    "            n\n",
    "            for n, data in cur_graph.nodes(data=True)\n",
    "            if not data['is_cancer'] and data['is_enriched__nofilter']\n",
    "        ],\n",
    "        'nodes_nonenrichedcancer': [\n",
    "            n\n",
    "            for n, data in cur_graph.nodes(data=True)\n",
    "            if data['is_cancer'] and not data['is_enriched__nofilter']\n",
    "        ],\n",
    "        'nodes_nonenrichednoncancer': [\n",
    "            n\n",
    "            for n, data in cur_graph.nodes(data=True)\n",
    "            if not data['is_cancer'] and not data['is_enriched__nofilter']\n",
    "        ],\n",
    "        'nodes_cancer': [\n",
    "            n for n, data in cur_graph.nodes(data=True) if data['is_cancer']\n",
    "        ],\n",
    "        'nodes_noncancer': [\n",
    "            n for n, data in cur_graph.nodes(data=True) if not data['is_cancer']\n",
    "        ],\n",
    "    }\n",
    "\n",
    "    nc_dict = {}\n",
    "    for name, nodes in node_dict.items():\n",
    "        nc_dict[name] = compute_network_coherence(cur_graph, nodes)\n",
    "\n",
    "    tmp.append({'graph': cur_graph.name, **{name: nc for name, nc in nc_dict.items()}})\n",
    "\n",
    "df_nc = pd.DataFrame(tmp)\n",
    "df_nc.head()"
   ]
  },
  {
   "cell_type": "code",
   "execution_count": null,
   "metadata": {},
   "outputs": [],
   "source": [
    "print('Network coherences')\n",
    "print(df_nc.to_string(index=False))"
   ]
  },
  {
   "cell_type": "markdown",
   "metadata": {},
   "source": [
    "## Edge statistics"
   ]
  },
  {
   "cell_type": "code",
   "execution_count": null,
   "id": "tribal-chinese",
   "metadata": {},
   "outputs": [],
   "source": [
    "def compute_edge_asymmetries(graph):\n",
    "    disease_nodes = list(graph.nodes())\n",
    "    disease_pairs = list(graph.edges())\n",
    "\n",
    "    tmp = dict(\n",
    "        collections.Counter([iscancer_map[d] for d in disease_nodes]).most_common()\n",
    "    )\n",
    "    node_type_counts = {'cancer': tmp.get(True, 0), 'noncancer': tmp.get(False, 0)}\n",
    "\n",
    "    tmp = dict(\n",
    "        collections.Counter(\n",
    "            [(iscancer_map[d1], iscancer_map[d2]) for d1, d2 in disease_pairs]\n",
    "        ).most_common()\n",
    "    )\n",
    "    edge_type_counts = {\n",
    "        'cancer_pairs': tmp.get((True, True), 0),\n",
    "        'noncancer_pairs': tmp.get((False, False), 0),\n",
    "        'across': tmp.get((True, False), 0) + tmp.get((False, True), 0),\n",
    "    }\n",
    "\n",
    "    if (node_type_counts['cancer'] * (node_type_counts['cancer'] - 1)) == 0:\n",
    "        print(f'Warning: division by zero (cancer: {node_type_counts})')\n",
    "        cancer_asym = np.nan\n",
    "    else:\n",
    "        cancer_asym = 2 * edge_type_counts['cancer_pairs'] / (\n",
    "            node_type_counts['cancer'] * (node_type_counts['cancer'] - 1)\n",
    "        ) - edge_type_counts['across'] / (\n",
    "            node_type_counts['cancer'] * node_type_counts['noncancer']\n",
    "        )\n",
    "\n",
    "    if (node_type_counts['noncancer'] * (node_type_counts['noncancer'] - 1)) == 0:\n",
    "        print(f'Warning: division by zero (noncancer: {node_type_counts})')\n",
    "        noncancer_asym = np.nan\n",
    "    else:\n",
    "        noncancer_asym = 2 * edge_type_counts['noncancer_pairs'] / (\n",
    "            node_type_counts['noncancer'] * (node_type_counts['noncancer'] - 1)\n",
    "        ) - edge_type_counts['across'] / (\n",
    "            node_type_counts['cancer'] * node_type_counts['noncancer']\n",
    "        )\n",
    "\n",
    "    return (cancer_asym, noncancer_asym)"
   ]
  },
  {
   "cell_type": "code",
   "execution_count": null,
   "id": "broke-uncle",
   "metadata": {},
   "outputs": [],
   "source": [
    "sub_border = df_data_sub[\n",
    "    (df_data_sub['20in'] == 'border') & (df_data_sub['filter_intergenic_hg38'])\n",
    "]\n",
    "\n",
    "tmp = []\n",
    "for thres in trange(1, 10):\n",
    "    graph = assemble_network(sub_border, thres, hub_threshold=0)\n",
    "    asyms = compute_edge_asymmetries(graph)\n",
    "\n",
    "    tmp.append(\n",
    "        {\n",
    "            'threshold': thres,\n",
    "            'graph_density': nx.density(graph),\n",
    "            'avg_degree': 2 * len(graph.edges()) / len(graph.nodes())\n",
    "            if len(graph.nodes()) > 0\n",
    "            else pd.NA,\n",
    "            'cancer_asymmetry': asyms[0],\n",
    "            'noncancer_asymmetry': asyms[1],\n",
    "            'node_count': len(graph.nodes()),\n",
    "            'edge_count': len(graph.edges()),\n",
    "        }\n",
    "    )\n",
    "\n",
    "df_asym_border = pd.DataFrame(tmp)\n",
    "df_asym_border.head()"
   ]
  },
  {
   "cell_type": "code",
   "execution_count": null,
   "id": "lesser-gnome",
   "metadata": {},
   "outputs": [],
   "source": [
    "sub_nonborder = df_data_sub[\n",
    "    ~(df_data_sub['20in'] == 'border') & (df_data_sub['filter_intergenic_hg38'])\n",
    "]\n",
    "\n",
    "tmp = []\n",
    "for thres in trange(1, 10):\n",
    "    graph = assemble_network(sub_nonborder, thres, hub_threshold=0)\n",
    "\n",
    "    graph_tmp = assemble_network(sub_border, thres, hub_threshold=0)\n",
    "    graph = nx.subgraph(graph, graph_tmp.nodes())\n",
    "\n",
    "    asyms = compute_edge_asymmetries(graph)\n",
    "\n",
    "    tmp.append(\n",
    "        {\n",
    "            'threshold': thres,\n",
    "            'graph_density': nx.density(graph),\n",
    "            'avg_degree': 2 * len(graph.edges()) / len(graph.nodes())\n",
    "            if len(graph.nodes()) > 0\n",
    "            else pd.NA,\n",
    "            'cancer_asymmetry': asyms[0],\n",
    "            'noncancer_asymmetry': asyms[1],\n",
    "            'node_count': len(graph.nodes()),\n",
    "            'edge_count': len(graph.edges()),\n",
    "        }\n",
    "    )\n",
    "\n",
    "df_asym_nonborder = pd.DataFrame(tmp)\n",
    "df_asym_nonborder.head()"
   ]
  },
  {
   "cell_type": "code",
   "execution_count": null,
   "metadata": {},
   "outputs": [],
   "source": [
    "df_asym_border['type'] = 'border'\n",
    "df_asym_nonborder['type'] = 'nonborder'\n",
    "\n",
    "df_wide = pd.concat([df_asym_border, df_asym_nonborder])\n",
    "df_long = pd.melt(df_wide, id_vars=['threshold', 'graph_density', 'avg_degree', 'type'])\n",
    "df_long.head()"
   ]
  },
  {
   "cell_type": "code",
   "execution_count": null,
   "id": "united-regular",
   "metadata": {},
   "outputs": [],
   "source": [
    "fig, ax_list = plt.subplots(ncols=2, figsize=(16, 6))\n",
    "\n",
    "sns.lineplot(\n",
    "    x='graph_density',\n",
    "    y='value',\n",
    "    hue='variable',\n",
    "    style='type',\n",
    "    marker='o',\n",
    "    data=df_long,\n",
    "    hue_order=['noncancer_asymmetry', 'cancer_asymmetry'],\n",
    "    ax=ax_list[0],\n",
    ")\n",
    "sns.lineplot(\n",
    "    x='avg_degree',\n",
    "    y='value',\n",
    "    hue='variable',\n",
    "    style='type',\n",
    "    marker='o',\n",
    "    data=df_long,\n",
    "    hue_order=['noncancer_asymmetry', 'cancer_asymmetry'],\n",
    "    ax=ax_list[1],\n",
    ")\n",
    "\n",
    "fig.tight_layout()\n",
    "fig.savefig(outdir / 'edge_asymmetries.pdf')"
   ]
  },
  {
   "cell_type": "code",
   "execution_count": null,
   "id": "agreed-black",
   "metadata": {},
   "outputs": [],
   "source": [
    "plt.figure(figsize=(8, 6))\n",
    "sns.lineplot(\n",
    "    x='threshold',\n",
    "    y='value',\n",
    "    hue='variable',\n",
    "    style='type',\n",
    "    data=df_long,\n",
    "    hue_order=['node_count', 'edge_count'],\n",
    ")"
   ]
  },
  {
   "cell_type": "code",
   "execution_count": null,
   "id": "revised-location",
   "metadata": {},
   "outputs": [],
   "source": [
    "# compute\n",
    "df_quotient = pd.DataFrame(\n",
    "    {\n",
    "        'threshold': df_asym_border.loc[df_asym_border.index, 'threshold'],\n",
    "        'noncancer_quotient': df_asym_border.loc[\n",
    "            df_asym_border.index, 'noncancer_asymmetry'\n",
    "        ]\n",
    "        / df_asym_nonborder.loc[df_asym_border.index, 'noncancer_asymmetry'],\n",
    "        'cancer_quotient': df_asym_border.loc[df_asym_border.index, 'cancer_asymmetry']\n",
    "        / df_asym_nonborder.loc[df_asym_border.index, 'cancer_asymmetry'],\n",
    "    }\n",
    ")\n",
    "\n",
    "# plot\n",
    "plt.figure(figsize=(8, 6))\n",
    "\n",
    "sns.lineplot(\n",
    "    x='threshold',\n",
    "    y='value',\n",
    "    hue='variable',\n",
    "    data=pd.melt(df_quotient, id_vars='threshold'),\n",
    "    hue_order=['noncancer_quotient', 'cancer_quotient'],\n",
    ")\n",
    "plt.axhline(1, color='red', ls='dashed')\n",
    "\n",
    "plt.tight_layout()\n",
    "plt.savefig(outdir / 'edge_asymmetry_quotients.pdf')"
   ]
  },
  {
   "cell_type": "markdown",
   "metadata": {},
   "source": [
    "# Miscellaneous Figures"
   ]
  },
  {
   "cell_type": "markdown",
   "metadata": {},
   "source": [
    "## SNP associations to Cancer and Non-Cancer"
   ]
  },
  {
   "cell_type": "code",
   "execution_count": null,
   "metadata": {},
   "outputs": [],
   "source": [
    "df_data.head()"
   ]
  },
  {
   "cell_type": "code",
   "execution_count": null,
   "id": "otherwise-soccer",
   "metadata": {},
   "outputs": [],
   "source": [
    "%%time\n",
    "\n",
    "tmp_sub = df_data.loc[:, ['diseaseId', 'snpId', 'is_cancer']].drop_duplicates().dropna()\n",
    "tmp_sub['is_cancer_shuffled'] = np.random.permutation(tmp_sub['is_cancer'].values)\n",
    "\n",
    "df_cancercounts = (\n",
    "    tmp_sub.groupby('snpId')['is_cancer']\n",
    "    .apply(\n",
    "        lambda x: pd.Series(\n",
    "            [x.tolist().count(False), x.tolist().count(True)],\n",
    "            index=['noncancer_count', 'cancer_count'],\n",
    "        )\n",
    "    )\n",
    "    .unstack()\n",
    ")\n",
    "df_cancercountsshuffled = (\n",
    "    tmp_sub.groupby('snpId')['is_cancer_shuffled']\n",
    "    .apply(\n",
    "        lambda x: pd.Series(\n",
    "            [x.tolist().count(False), x.tolist().count(True)],\n",
    "            index=['noncancer_count', 'cancer_count'],\n",
    "        )\n",
    "    )\n",
    "    .unstack()\n",
    ")"
   ]
  },
  {
   "cell_type": "code",
   "execution_count": null,
   "metadata": {},
   "outputs": [],
   "source": [
    "df_cancercounts.head()"
   ]
  },
  {
   "cell_type": "code",
   "execution_count": null,
   "id": "champion-frost",
   "metadata": {},
   "outputs": [],
   "source": [
    "plt.figure(figsize=(2 * 8, 6))\n",
    "\n",
    "plt.subplot(121)\n",
    "sns.scatterplot(x='cancer_count', y='noncancer_count', data=df_cancercounts, alpha=0.2)\n",
    "plt.title(f'observed (#SNPs: {df_cancercounts.shape[0]})')\n",
    "\n",
    "plt.subplot(122)\n",
    "sns.scatterplot(\n",
    "    x='cancer_count', y='noncancer_count', data=df_cancercountsshuffled, alpha=0.2\n",
    ")\n",
    "plt.title(f'shuffled (#SNPs: {df_cancercounts.shape[0]})')"
   ]
  }
 ],
 "metadata": {
  "kernelspec": {
   "display_name": "Python 3",
   "language": "python",
   "name": "python3"
  },
  "language_info": {
   "codemirror_mode": {
    "name": "ipython",
    "version": 3
   },
   "file_extension": ".py",
   "mimetype": "text/x-python",
   "name": "python",
   "nbconvert_exporter": "python",
   "pygments_lexer": "ipython3",
   "version": "3.9.0"
  },
  "toc": {
   "base_numbering": 1,
   "nav_menu": {},
   "number_sections": true,
   "sideBar": true,
   "skip_h1_title": false,
   "title_cell": "Table of Contents",
   "title_sidebar": "Contents",
   "toc_cell": false,
   "toc_position": {},
   "toc_section_display": true,
   "toc_window_display": false
  },
  "toc-autonumbering": false
 },
 "nbformat": 4,
 "nbformat_minor": 4
}
