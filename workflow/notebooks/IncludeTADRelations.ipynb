{
 "cells": [
  {
   "cell_type": "code",
   "execution_count": null,
   "metadata": {},
   "outputs": [],
   "source": [
    "import numpy as np\n",
    "import pandas as pd\n",
    "\n",
    "import seaborn as sns\n",
    "import matplotlib.pyplot as plt\n",
    "\n",
    "from tad_helper_functions import parse_tad_annotations"
   ]
  },
  {
   "cell_type": "code",
   "execution_count": null,
   "metadata": {},
   "outputs": [],
   "source": [
    "sns.set_context('talk')"
   ]
  },
  {
   "cell_type": "markdown",
   "metadata": {},
   "source": [
    "# Parameters"
   ]
  },
  {
   "cell_type": "code",
   "execution_count": null,
   "metadata": {},
   "outputs": [],
   "source": [
    "tads_fname = snakemake.input.tads_fname\n",
    "db_fname = snakemake.input.db_fname\n",
    "info_fname = snakemake.input.info_fname\n",
    "\n",
    "source = snakemake.wildcards.source\n",
    "tad_borders = snakemake.config['tad_borders']\n",
    "\n",
    "db_out_fname = snakemake.output.db_fname\n",
    "tad_length_plot = snakemake.output.tad_length_plot"
   ]
  },
  {
   "cell_type": "markdown",
   "metadata": {},
   "source": [
    "# Load data"
   ]
  },
  {
   "cell_type": "code",
   "execution_count": null,
   "metadata": {},
   "outputs": [],
   "source": [
    "df = pd.read_csv(db_fname)\n",
    "df.head()"
   ]
  },
  {
   "cell_type": "code",
   "execution_count": null,
   "metadata": {},
   "outputs": [],
   "source": [
    "df_info = pd.read_csv(info_fname, index_col=1)\n",
    "df_info.head()"
   ]
  },
  {
   "cell_type": "markdown",
   "metadata": {},
   "source": [
    "# Access SNP positions"
   ]
  },
  {
   "cell_type": "code",
   "execution_count": null,
   "metadata": {},
   "outputs": [],
   "source": [
    "genome_assembly = df_info.loc[source, 'genome_assembly']\n",
    "genome_assembly"
   ]
  },
  {
   "cell_type": "code",
   "execution_count": null,
   "id": "uniform-steel",
   "metadata": {},
   "outputs": [],
   "source": [
    "df_snppos = df[\n",
    "    ['snpId', f'chromosome_{genome_assembly}', f'position_{genome_assembly}']\n",
    "].copy()\n",
    "df_snppos.rename(\n",
    "    columns={\n",
    "        f'chromosome_{genome_assembly}': 'chromosome',\n",
    "        f'position_{genome_assembly}': 'position',\n",
    "    },\n",
    "    inplace=True,\n",
    ")\n",
    "\n",
    "df_snppos.drop_duplicates(subset=['snpId'], inplace=True)\n",
    "\n",
    "df_snppos.head(5)"
   ]
  },
  {
   "cell_type": "markdown",
   "metadata": {},
   "source": [
    "# Load TAD data"
   ]
  },
  {
   "cell_type": "code",
   "execution_count": null,
   "metadata": {},
   "outputs": [],
   "source": [
    "df_tads = pd.read_csv(tads_fname)"
   ]
  },
  {
   "cell_type": "code",
   "execution_count": null,
   "metadata": {},
   "outputs": [],
   "source": [
    "df_tads.head()"
   ]
  },
  {
   "cell_type": "markdown",
   "metadata": {},
   "source": [
    "### TAD statistics"
   ]
  },
  {
   "cell_type": "code",
   "execution_count": null,
   "metadata": {},
   "outputs": [],
   "source": [
    "df_tads['length'] = df_tads['tad_stop'] - df_tads['tad_start']"
   ]
  },
  {
   "cell_type": "code",
   "execution_count": null,
   "id": "catholic-figure",
   "metadata": {},
   "outputs": [],
   "source": [
    "sns.displot(\n",
    "    data=df_tads[df_tads['length'] > 0], x='length', log_scale=True, element='step'\n",
    ")\n",
    "\n",
    "plt.xlabel('TAD length')\n",
    "plt.ylabel('Count')\n",
    "\n",
    "plt.tight_layout()\n",
    "plt.savefig(tad_length_plot)"
   ]
  },
  {
   "cell_type": "markdown",
   "metadata": {},
   "source": [
    "## Do work"
   ]
  },
  {
   "cell_type": "code",
   "execution_count": null,
   "id": "cultural-delicious",
   "metadata": {},
   "outputs": [],
   "source": [
    "def access_range_dict(row, dict_):\n",
    "    range_dict_ = dict_.get(str(row['chromosome']), None)\n",
    "    if range_dict_ is None:\n",
    "        return 'undef'\n",
    "\n",
    "    try:\n",
    "        return range_dict_[row['position']]\n",
    "    except KeyError:\n",
    "        return 'outside'"
   ]
  },
  {
   "cell_type": "code",
   "execution_count": null,
   "id": "chubby-debut",
   "metadata": {},
   "outputs": [],
   "source": [
    "for border_name, border_range in tad_borders.items():\n",
    "    tad_anno = parse_tad_annotations(border_range, fname=tads_fname)\n",
    "    df_snppos[border_name] = df_snppos.progress_apply(\n",
    "        lambda x: access_range_dict(x, tad_anno), axis=1\n",
    "    )"
   ]
  },
  {
   "cell_type": "code",
   "execution_count": null,
   "metadata": {},
   "outputs": [],
   "source": [
    "df_snptads = df_snppos.drop(['chromosome', 'position'], axis=1)\n",
    "df_snptads.head()"
   ]
  },
  {
   "cell_type": "markdown",
   "metadata": {},
   "source": [
    "Possible cell values:\n",
    "* `tad`: SNP is in TAD body (i.e. not in border)\n",
    "* `border`: SNP is in TAD border\n",
    "* `undef`: chromosome that SNP is in has no TAD information available\n",
    "* `outside`: SNP is outside of TAD"
   ]
  },
  {
   "cell_type": "markdown",
   "metadata": {},
   "source": [
    "# Merge into input database"
   ]
  },
  {
   "cell_type": "code",
   "execution_count": null,
   "metadata": {},
   "outputs": [],
   "source": [
    "df_merged = df.merge(df_snptads, on='snpId')"
   ]
  },
  {
   "cell_type": "code",
   "execution_count": null,
   "metadata": {},
   "outputs": [],
   "source": [
    "df_merged.head()"
   ]
  },
  {
   "cell_type": "markdown",
   "metadata": {},
   "source": [
    "# Save result"
   ]
  },
  {
   "cell_type": "code",
   "execution_count": null,
   "metadata": {},
   "outputs": [],
   "source": [
    "df_merged.to_csv(db_out_fname, index=False)"
   ]
  }
 ],
 "metadata": {
  "kernelspec": {
   "display_name": "Python 3",
   "language": "python",
   "name": "python3"
  },
  "language_info": {
   "codemirror_mode": {
    "name": "ipython",
    "version": 3
   },
   "file_extension": ".py",
   "mimetype": "text/x-python",
   "name": "python",
   "nbconvert_exporter": "python",
   "pygments_lexer": "ipython3",
   "version": "3.9.0"
  },
  "toc": {
   "base_numbering": 1,
   "nav_menu": {},
   "number_sections": true,
   "sideBar": true,
   "skip_h1_title": false,
   "title_cell": "Table of Contents",
   "title_sidebar": "Contents",
   "toc_cell": false,
   "toc_position": {},
   "toc_section_display": true,
   "toc_window_display": false
  }
 },
 "nbformat": 4,
 "nbformat_minor": 4
}
