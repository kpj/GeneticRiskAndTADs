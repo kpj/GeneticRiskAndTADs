{
 "cells": [
  {
   "cell_type": "code",
   "execution_count": null,
   "metadata": {},
   "outputs": [],
   "source": [
    "import collections\n",
    "from pathlib import Path\n",
    "\n",
    "import numpy as np\n",
    "import pandas as pd\n",
    "import networkx as nx\n",
    "import pyranges as pr\n",
    "\n",
    "from scipy import ndimage\n",
    "from scipy.stats import fisher_exact\n",
    "\n",
    "import statannot\n",
    "import seaborn as sns\n",
    "import matplotlib.pyplot as plt\n",
    "from adjustText import adjust_text\n",
    "\n",
    "import matplotlib.transforms as tx\n",
    "from matplotlib.colors import SymLogNorm\n",
    "from matplotlib.gridspec import GridSpec\n",
    "from matplotlib.patches import ConnectionPatch\n",
    "from matplotlib.collections import LineCollection\n",
    "\n",
    "from dna_features_viewer import GraphicFeature, GraphicRecord\n",
    "\n",
    "import cooler\n",
    "\n",
    "from natsort import natsorted\n",
    "from tqdm.auto import tqdm, trange"
   ]
  },
  {
   "cell_type": "code",
   "execution_count": null,
   "metadata": {},
   "outputs": [],
   "source": [
    "sns.set_context('talk')\n",
    "pd.set_option('display.max_columns', None)"
   ]
  },
  {
   "cell_type": "markdown",
   "metadata": {},
   "source": [
    "# Parameters"
   ]
  },
  {
   "cell_type": "code",
   "execution_count": null,
   "metadata": {},
   "outputs": [],
   "source": [
    "fname_data = snakemake.input.fname_data\n",
    "\n",
    "sketch_hicfile = snakemake.input.sketch_hicfile\n",
    "sketch_tadfile = snakemake.input.sketch_tadfile\n",
    "\n",
    "tad_fname_list = snakemake.input.tad_fname_list\n",
    "multitad_plot_type = snakemake.params.multitad_plot_type\n",
    "\n",
    "sketch_region = snakemake.config['sketch']['region']\n",
    "\n",
    "outdir = Path(snakemake.output.outdir)"
   ]
  },
  {
   "cell_type": "code",
   "execution_count": null,
   "metadata": {},
   "outputs": [],
   "source": [
    "outdir.mkdir(parents=True, exist_ok=True)"
   ]
  },
  {
   "cell_type": "markdown",
   "metadata": {},
   "source": [
    "# Read data"
   ]
  },
  {
   "cell_type": "markdown",
   "metadata": {},
   "source": [
    "## Read general data"
   ]
  },
  {
   "cell_type": "code",
   "execution_count": null,
   "metadata": {},
   "outputs": [],
   "source": [
    "df_data = pd.read_csv(fname_data, low_memory=True)\n",
    "df_data.head()"
   ]
  },
  {
   "cell_type": "code",
   "execution_count": null,
   "id": "industrial-percentage",
   "metadata": {},
   "outputs": [],
   "source": [
    "# classify SNPs\n",
    "def classify(x):\n",
    "    return x['is_cancer'].value_counts().idxmax()\n",
    "\n",
    "\n",
    "snp_cancer_map = (\n",
    "    df_data[['diseaseId', 'snpId', 'is_cancer']]\n",
    "    .drop_duplicates()\n",
    "    .dropna()\n",
    "    .groupby('snpId')\n",
    "    .apply(classify)\n",
    "    .to_dict()\n",
    ")\n",
    "list(snp_cancer_map.items())[:2]"
   ]
  },
  {
   "cell_type": "markdown",
   "metadata": {},
   "source": [
    "## Read contact matrix"
   ]
  },
  {
   "cell_type": "code",
   "execution_count": null,
   "metadata": {},
   "outputs": [],
   "source": [
    "c = cooler.Cooler(sketch_hicfile)\n",
    "\n",
    "mat = c.matrix(balance=False).fetch(sketch_region)\n",
    "df_bins = c.bins().fetch(sketch_region)\n",
    "\n",
    "df_mat = pd.DataFrame(mat, index=df_bins['start'], columns=df_bins['start'])"
   ]
  },
  {
   "cell_type": "code",
   "execution_count": null,
   "metadata": {},
   "outputs": [],
   "source": [
    "df_mat.head()"
   ]
  },
  {
   "cell_type": "markdown",
   "metadata": {},
   "source": [
    "## Read TAD data"
   ]
  },
  {
   "cell_type": "code",
   "execution_count": null,
   "id": "drawn-sullivan",
   "metadata": {},
   "outputs": [],
   "source": [
    "df_tads = pr.PyRanges(\n",
    "    pd.read_csv(sketch_tadfile).rename(\n",
    "        columns={'chrname': 'Chromosome', 'tad_start': 'Start', 'tad_stop': 'End'}\n",
    "    )\n",
    ")\n",
    "df_tads.head()"
   ]
  },
  {
   "cell_type": "markdown",
   "metadata": {},
   "source": [
    "## Read SNPs"
   ]
  },
  {
   "cell_type": "code",
   "execution_count": null,
   "id": "material-referral",
   "metadata": {},
   "outputs": [],
   "source": [
    "tmp = (\n",
    "    df_data[['chromosome_hg19', 'position_hg19', 'snpId']]\n",
    "    .drop_duplicates()\n",
    "    .dropna()\n",
    "    .copy()\n",
    "    .rename(columns={'chromosome_hg19': 'Chromosome', 'position_hg19': 'Start'})\n",
    ")\n",
    "tmp['Chromosome'] = 'chr' + tmp['Chromosome'].astype(str)\n",
    "tmp['End'] = tmp['Start'] + 1\n",
    "\n",
    "df_snps = pr.PyRanges(tmp)\n",
    "df_snps"
   ]
  },
  {
   "cell_type": "markdown",
   "metadata": {},
   "source": [
    "# Preprocessing"
   ]
  },
  {
   "cell_type": "code",
   "execution_count": null,
   "id": "fatty-castle",
   "metadata": {},
   "outputs": [],
   "source": [
    "df_region = pr.PyRanges(\n",
    "    pd.DataFrame(\n",
    "        {\n",
    "            'Chromosome': [sketch_region[0]],\n",
    "            'Start': [sketch_region[1]],\n",
    "            'End': [sketch_region[2]],\n",
    "        }\n",
    "    )\n",
    ")\n",
    "df_region"
   ]
  },
  {
   "cell_type": "markdown",
   "metadata": {},
   "source": [
    "## TAD subsetting"
   ]
  },
  {
   "cell_type": "code",
   "execution_count": null,
   "metadata": {},
   "outputs": [],
   "source": [
    "tad_list = df_tads.overlap(df_region)\n",
    "# tad_list = tad_list[(tad_list.Start >= sketch_region[1]) & (tad_list.End <= sketch_region[2])]\n",
    "tad_list"
   ]
  },
  {
   "cell_type": "markdown",
   "metadata": {},
   "source": [
    "## Border computation"
   ]
  },
  {
   "cell_type": "code",
   "execution_count": null,
   "metadata": {},
   "outputs": [],
   "source": [
    "border_size = -20_000"
   ]
  },
  {
   "cell_type": "code",
   "execution_count": null,
   "id": "sustainable-carroll",
   "metadata": {},
   "outputs": [],
   "source": [
    "def get_boundaries(df):\n",
    "    tmp_front = df.copy()\n",
    "    tmp_front.loc[:, 'End'] = tmp_front.Start - border_size\n",
    "    tmp_front['type'] = 'front'\n",
    "\n",
    "    tmp_back = df.copy()\n",
    "    tmp_back.loc[:, 'Start'] = tmp_back.End + border_size\n",
    "    tmp_back['type'] = 'back'\n",
    "\n",
    "    return pd.concat([tmp_front, tmp_back])"
   ]
  },
  {
   "cell_type": "code",
   "execution_count": null,
   "metadata": {},
   "outputs": [],
   "source": [
    "border_list = tad_list.apply(get_boundaries)\n",
    "border_list"
   ]
  },
  {
   "cell_type": "markdown",
   "metadata": {},
   "source": [
    "## SNP subsetting"
   ]
  },
  {
   "cell_type": "code",
   "execution_count": null,
   "metadata": {},
   "outputs": [],
   "source": [
    "# find SNPs in TAD borders\n",
    "snp_list = df_snps.overlap(border_list)\n",
    "snp_list"
   ]
  },
  {
   "cell_type": "code",
   "execution_count": null,
   "metadata": {},
   "outputs": [],
   "source": [
    "snp_list = snp_list.overlap(df_region)"
   ]
  },
  {
   "cell_type": "markdown",
   "metadata": {},
   "source": [
    "# Plot"
   ]
  },
  {
   "cell_type": "markdown",
   "metadata": {},
   "source": [
    "## Generate features"
   ]
  },
  {
   "cell_type": "code",
   "execution_count": null,
   "id": "equivalent-porcelain",
   "metadata": {},
   "outputs": [],
   "source": [
    "features_tads = collections.defaultdict(list)\n",
    "\n",
    "for fname in tqdm(natsorted(tad_fname_list)):\n",
    "    _, tad_source, window_size, _ = os.path.basename(fname).split('.')\n",
    "\n",
    "    if multitad_plot_type == 'multidataset':\n",
    "        name = tad_source\n",
    "    elif multitad_plot_type == 'multiwindowsize':\n",
    "        name = window_size\n",
    "    else:\n",
    "        raise RuntimeError(f'Invalid multitad_plot_type: {multitad_plot_type}')\n",
    "\n",
    "    df_tads_current = pr.PyRanges(\n",
    "        pd.read_csv(fname).rename(\n",
    "            columns={'chrname': 'Chromosome', 'tad_start': 'Start', 'tad_stop': 'End'}\n",
    "        )\n",
    "    )\n",
    "    tad_list_current = df_tads_current.overlap(df_region)\n",
    "\n",
    "    for row in tad_list_current.df.itertuples():\n",
    "        tad_len = row.End - row.Start\n",
    "\n",
    "        if tad_len < 2 * abs(border_size):\n",
    "            features_tads[name].append(\n",
    "                GraphicFeature(start=row.Start, end=row.End, color='yellow')\n",
    "            )\n",
    "        else:\n",
    "            # body\n",
    "            features_tads[name].append(\n",
    "                GraphicFeature(\n",
    "                    start=row.Start - border_size,\n",
    "                    end=row.End + border_size,\n",
    "                    color='blue',\n",
    "                )\n",
    "            )\n",
    "\n",
    "            # border\n",
    "            features_tads[name].append(\n",
    "                GraphicFeature(\n",
    "                    start=row.Start, end=row.Start - border_size, color='red'\n",
    "                )\n",
    "            )\n",
    "            features_tads[name].append(\n",
    "                GraphicFeature(start=row.End + border_size, end=row.End, color='red')\n",
    "            )\n",
    "\n",
    "features_tads = dict(features_tads)"
   ]
  },
  {
   "cell_type": "markdown",
   "metadata": {},
   "source": [
    "## Main figure"
   ]
  },
  {
   "cell_type": "code",
   "execution_count": null,
   "id": "binary-islam",
   "metadata": {},
   "outputs": [],
   "source": [
    "fig, ax_list = plt.subplots(\n",
    "    nrows=1 + len(features_tads) + 1,\n",
    "    ncols=1,\n",
    "    gridspec_kw={'height_ratios': [10] + [1] * len(features_tads) + [5]},\n",
    "    #     sharex=True,\n",
    "    figsize=(15, 25),\n",
    ")\n",
    "\n",
    "# substitute for `sharex=True` which leads to crash due to axis formatter set in dna_features_viewer\n",
    "for ax in ax_list:\n",
    "    ax.set_xlim(df_mat.index[0], df_mat.index[-1])\n",
    "\n",
    "# heatmap\n",
    "mat_rot = ndimage.rotate(df_mat, 45, order=0, reshape=True, cval=0, prefilter=False)\n",
    "\n",
    "ax = ax_list[0]\n",
    "plotted_mat = ax.matshow(\n",
    "    mat_rot,\n",
    "    norm=SymLogNorm(1),\n",
    "    cmap='YlOrRd',\n",
    "    origin='lower',\n",
    "    extent=(\n",
    "        df_mat.index[0] + 0.5,\n",
    "        df_mat.index[-1] + 0.5,\n",
    "        df_mat.index[0] + 0.5,\n",
    "        df_mat.index[-1] + 0.5,\n",
    "    ),\n",
    "    aspect='auto',\n",
    ")\n",
    "\n",
    "ax_colobar = ax.inset_axes([0.9, 0.6, 0.025, 0.3])\n",
    "plt.colorbar(plotted_mat, cax=ax_colobar)\n",
    "ax_colobar.set_ylabel('Contacts', rotation=90)\n",
    "\n",
    "center_height = (df_mat.index[0] + df_mat.index[-1]) / 2 + 0.5\n",
    "ax.set_ylim(center_height, df_mat.index[-1] + 0.5)\n",
    "\n",
    "ax.set_xlabel(sketch_region[0])\n",
    "ax.xaxis.set_label_position('top')\n",
    "ax.set_xlim(df_mat.index[0], df_mat.index[-1])\n",
    "\n",
    "ax.tick_params(\n",
    "    axis='both',\n",
    "    reset=True,\n",
    "    which='both',\n",
    "    top=True,\n",
    "    labeltop=True,\n",
    "    right=False,\n",
    "    labelright=False,\n",
    "    left=False,\n",
    "    labelleft=False,\n",
    "    bottom=False,\n",
    "    labelbottom=False,\n",
    ")\n",
    "\n",
    "ax.ticklabel_format(axis='both', style='plain')\n",
    "\n",
    "for row in tad_list.df.itertuples():\n",
    "    tmp = np.sin(np.deg2rad(90)) * (row.End - row.Start) / 2\n",
    "\n",
    "    pg = plt.Polygon(\n",
    "        [\n",
    "            [row.Start, center_height],\n",
    "            [(row.Start + row.End) / 2, center_height + tmp],\n",
    "            [row.End, center_height],\n",
    "        ],\n",
    "        edgecolor='black',\n",
    "        facecolor='none',\n",
    "    )\n",
    "    ax.add_patch(pg)\n",
    "\n",
    "for row in border_list.df.itertuples():\n",
    "    tmp = np.tan(np.deg2rad(45)) * (row.End - row.Start)\n",
    "\n",
    "    pg = plt.Polygon(\n",
    "        [\n",
    "            [row.Start, center_height],\n",
    "            [row.End if row.type == 'front' else row.Start, center_height + tmp],\n",
    "            [row.End, center_height],\n",
    "        ],\n",
    "        edgecolor='black',\n",
    "        facecolor='gray',\n",
    "        alpha=0.6,\n",
    "    )\n",
    "    ax.add_patch(pg)\n",
    "\n",
    "# TAD plots\n",
    "# for (name, feature_list), ax in zip(features_tads.items(), ax_list[1:-1]):\n",
    "for name, ax in zip(natsorted(features_tads), ax_list[1:-1]):\n",
    "    feature_list = features_tads[name]\n",
    "\n",
    "    record = GraphicRecord(\n",
    "        sequence_length=sketch_region[2] + 1_000_000, features=feature_list\n",
    "    )\n",
    "    record_zoom = record.crop(sketch_region[1:])\n",
    "\n",
    "    record_zoom.plot(ax=ax, with_ruler=False)\n",
    "\n",
    "    ax.axis('off')\n",
    "    ax.text(\n",
    "        0,\n",
    "        1,\n",
    "        name,\n",
    "        horizontalalignment='left',\n",
    "        verticalalignment='top',\n",
    "        fontsize=10,\n",
    "        transform=ax.transAxes,\n",
    "    )\n",
    "\n",
    "# SNP plot\n",
    "ax = ax_list[-1]\n",
    "dash_style = (0, (5, 10))\n",
    "\n",
    "for row in snp_list.df.itertuples():\n",
    "    id_ = row.snpId\n",
    "    pos = row.Start\n",
    "\n",
    "    con = ConnectionPatch(\n",
    "        xyA=(pos, 0),\n",
    "        coordsA=tx.blended_transform_factory(\n",
    "            ax_list[0].transData, ax_list[0].transAxes\n",
    "        ),\n",
    "        xyB=(pos, 0.8),\n",
    "        coordsB=tx.blended_transform_factory(\n",
    "            ax_list[-1].transData, ax_list[-1].transAxes\n",
    "        ),\n",
    "        linewidth=0.5,\n",
    "        linestyle='solid' if snp_cancer_map[id_] else dash_style,\n",
    "    )\n",
    "    fig.add_artist(con)\n",
    "\n",
    "# SNP label plot\n",
    "annotation_list = []\n",
    "for row in snp_list.df.itertuples():\n",
    "    id_ = row.snpId\n",
    "    pos = row.Start\n",
    "\n",
    "    linestyle = 'solid' if snp_cancer_map[id_] else dash_style\n",
    "\n",
    "    a = ax.annotate(\n",
    "        id_,\n",
    "        xy=(pos, 0.8),\n",
    "        xytext=(pos, 0.5),\n",
    "        xycoords=('data', 'axes fraction'),\n",
    "        textcoords=('data', 'axes fraction'),\n",
    "        arrowprops=dict(arrowstyle='-', linewidth=0.5, linestyle=linestyle),\n",
    "        annotation_clip=False,\n",
    "        fontsize=13,\n",
    "    )\n",
    "    annotation_list.append(a)\n",
    "\n",
    "adjust_text(annotation_list, ax=ax)\n",
    "\n",
    "ax.axis('off')\n",
    "\n",
    "# save figure\n",
    "sketch_appendix = '_'.join([str(e) for e in sketch_region])\n",
    "\n",
    "plt.tight_layout()\n",
    "plt.savefig(outdir / f'sketch_multitads_{multitad_plot_type}_{sketch_appendix}.pdf')"
   ]
  }
 ],
 "metadata": {
  "kernelspec": {
   "display_name": "Python 3",
   "language": "python",
   "name": "python3"
  },
  "language_info": {
   "codemirror_mode": {
    "name": "ipython",
    "version": 3
   },
   "file_extension": ".py",
   "mimetype": "text/x-python",
   "name": "python",
   "nbconvert_exporter": "python",
   "pygments_lexer": "ipython3",
   "version": "3.9.0"
  },
  "toc-autonumbering": true
 },
 "nbformat": 4,
 "nbformat_minor": 4
}
