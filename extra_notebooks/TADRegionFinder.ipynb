{
 "cells": [
  {
   "cell_type": "code",
   "execution_count": null,
   "metadata": {},
   "outputs": [],
   "source": [
    "import os\n",
    "\n",
    "import pandas as pd\n",
    "import pyranges as pr\n",
    "\n",
    "from tqdm.auto import tqdm"
   ]
  },
  {
   "cell_type": "markdown",
   "metadata": {},
   "source": [
    "# Parameters"
   ]
  },
  {
   "cell_type": "markdown",
   "metadata": {},
   "source": [
    "## Input files"
   ]
  },
  {
   "cell_type": "code",
   "execution_count": null,
   "id": "little-noise",
   "metadata": {},
   "outputs": [],
   "source": [
    "fname = '../pipeline_run/results/final_data.csv.gz'\n",
    "\n",
    "tad_fname_list = [\n",
    "    entry.path\n",
    "    for entry in os.scandir('../pipeline_run/tads/data/')\n",
    "    if 'Rao2014-IMR90-MboI-allreps-filtered-10kb' in fname\n",
    "]"
   ]
  },
  {
   "cell_type": "markdown",
   "metadata": {},
   "source": [
    "## Search configuration"
   ]
  },
  {
   "cell_type": "code",
   "execution_count": null,
   "metadata": {},
   "outputs": [],
   "source": [
    "region_length = 1e6\n",
    "\n",
    "min_border_cancer_snp_count = 4\n",
    "min_border_noncancer_snp_count = 2\n",
    "\n",
    "min_tad_number = 5\n",
    "gap_number = 1\n",
    "\n",
    "step_size = 1e5"
   ]
  },
  {
   "cell_type": "markdown",
   "metadata": {},
   "source": [
    "# Read data"
   ]
  },
  {
   "cell_type": "markdown",
   "metadata": {},
   "source": [
    "## SNP data"
   ]
  },
  {
   "cell_type": "code",
   "execution_count": null,
   "metadata": {},
   "outputs": [],
   "source": [
    "df_all = pd.read_csv(fname, dtype={'associated_genes': str})\n",
    "df_all.head()"
   ]
  },
  {
   "cell_type": "code",
   "execution_count": null,
   "id": "sensitive-myrtle",
   "metadata": {},
   "outputs": [],
   "source": [
    "%%time\n",
    "# classify SNPs\n",
    "def classify(x):\n",
    "    return x['is_cancer'].value_counts().idxmax()\n",
    "\n",
    "\n",
    "snp_cancer_map = (\n",
    "    df_all[['diseaseId', 'snpId', 'is_cancer']]\n",
    "    .drop_duplicates()\n",
    "    .dropna()\n",
    "    .groupby('snpId')\n",
    "    .apply(classify)\n",
    "    .to_dict()\n",
    ")\n",
    "list(snp_cancer_map.items())[:2]"
   ]
  },
  {
   "cell_type": "code",
   "execution_count": null,
   "id": "radio-battlefield",
   "metadata": {},
   "outputs": [],
   "source": [
    "%%time\n",
    "tmp = (\n",
    "    df_all[\n",
    "        [\n",
    "            'chromosome_hg19',\n",
    "            'position_hg19',\n",
    "            'snpId',\n",
    "            'TAD_20in',\n",
    "            'tad_source',\n",
    "            'window_size',\n",
    "        ]\n",
    "    ]\n",
    "    .drop_duplicates()\n",
    "    .dropna()\n",
    "    .copy()\n",
    "    .rename(columns={'chromosome_hg19': 'Chromosome', 'position_hg19': 'Start'})\n",
    ")\n",
    "tmp['Chromosome'] = 'chr' + tmp['Chromosome'].astype(str)\n",
    "tmp['End'] = tmp['Start'] + 1\n",
    "\n",
    "tmp['idx'] = tmp['tad_source'] + '_' + tmp['window_size'].astype(str)\n",
    "tmp.drop(columns=['tad_source', 'window_size'], inplace=True)\n",
    "\n",
    "tmp = tmp[tmp['TAD_20in'] == 'boundary']\n",
    "tmp['is_cancer'] = tmp['snpId'].apply(lambda x: snp_cancer_map[x])\n",
    "\n",
    "tmp = tmp[tmp['idx'] == 'Rao2014-IMR90-MboI-allreps-filtered-10kb_10']\n",
    "\n",
    "df_snps = pr.PyRanges(tmp)\n",
    "df_snps"
   ]
  },
  {
   "cell_type": "markdown",
   "metadata": {},
   "source": [
    "## TAD data"
   ]
  },
  {
   "cell_type": "code",
   "execution_count": null,
   "id": "capital-compiler",
   "metadata": {},
   "outputs": [],
   "source": [
    "df_list = []\n",
    "for fname in tqdm(tad_fname_list):\n",
    "    _, tad_source, window_size, _ = os.path.basename(fname).split('.')\n",
    "\n",
    "    tmp = pd.read_csv(fname)\n",
    "    tmp['idx'] = f'{tad_source}_{window_size}'\n",
    "\n",
    "    df_list.append(tmp)\n",
    "\n",
    "tmp = pd.concat(df_list)\n",
    "tmp.rename(\n",
    "    columns={'chrname': 'Chromosome', 'tad_start': 'Start', 'tad_stop': 'End'},\n",
    "    inplace=True,\n",
    ")\n",
    "\n",
    "tmp = tmp[tmp['idx'] == 'Rao2014-IMR90-MboI-allreps-filtered-10kb_10']\n",
    "\n",
    "df_tads = pr.PyRanges(tmp)\n",
    "df_tads"
   ]
  },
  {
   "cell_type": "markdown",
   "metadata": {},
   "source": [
    "# Statistics"
   ]
  },
  {
   "cell_type": "code",
   "execution_count": null,
   "metadata": {},
   "outputs": [],
   "source": [
    "df_snps.df.query('is_cancer').groupby('Chromosome')['snpId'].count()"
   ]
  },
  {
   "cell_type": "markdown",
   "metadata": {},
   "source": [
    "# Conduct search"
   ]
  },
  {
   "cell_type": "code",
   "execution_count": null,
   "metadata": {},
   "outputs": [],
   "source": [
    "chrom = 'chr2'"
   ]
  },
  {
   "cell_type": "code",
   "execution_count": null,
   "id": "incomplete-teacher",
   "metadata": {},
   "outputs": [],
   "source": [
    "sub_tads = df_tads[chrom]  # , 25_000_000:35_000_000]\n",
    "sub_snps = df_snps[chrom]  # , 25_000_000:35_000_000]"
   ]
  },
  {
   "cell_type": "code",
   "execution_count": null,
   "id": "maritime-house",
   "metadata": {},
   "outputs": [],
   "source": [
    "position = 0\n",
    "max_range = sub_tads.df['End'].max()\n",
    "\n",
    "matches = []\n",
    "\n",
    "pbar = tqdm(total=max_range - position)\n",
    "while True:\n",
    "    pbar.update(step_size)\n",
    "\n",
    "    # get region\n",
    "    df_region = pr.PyRanges(\n",
    "        pd.DataFrame(\n",
    "            {\n",
    "                'Chromosome': [chrom],\n",
    "                'Start': [position],\n",
    "                'End': [position + region_length],\n",
    "            }\n",
    "        )\n",
    "    )\n",
    "\n",
    "    tad_list = sub_tads.overlap(df_region)\n",
    "    snp_list = sub_snps.overlap(df_region)\n",
    "\n",
    "    if tad_list.empty or snp_list.empty:\n",
    "        position += step_size\n",
    "\n",
    "        if position >= max_range:\n",
    "            break\n",
    "        continue\n",
    "\n",
    "    # count occurrences\n",
    "    tad_count = len(tad_list)\n",
    "    gap_count = (\n",
    "        (tad_list.df['Start'] - tad_list.df['End'].shift(1)).iloc[1:] > 0\n",
    "    ).sum()\n",
    "\n",
    "    cancer_snp_count = snp_list.df['is_cancer'].sum()\n",
    "    noncancer_snp_count = (~snp_list.df['is_cancer']).sum()\n",
    "\n",
    "    # check criteria\n",
    "    if (\n",
    "        tad_count >= min_tad_number\n",
    "        and gap_count >= gap_number\n",
    "        and cancer_snp_count >= min_border_cancer_snp_count\n",
    "        and noncancer_snp_count >= min_border_noncancer_snp_count\n",
    "        and cancer_snp_count > noncancer_snp_count\n",
    "    ):\n",
    "        print(position, tad_count, gap_count, cancer_snp_count, noncancer_snp_count)\n",
    "        matches.append((position, tad_list, snp_list))\n",
    "\n",
    "    # prepare for next iteration\n",
    "    position += step_size\n",
    "\n",
    "    if position >= max_range:\n",
    "        break\n",
    "pbar.close()"
   ]
  }
 ],
 "metadata": {
  "kernelspec": {
   "display_name": "Python 3",
   "language": "python",
   "name": "python3"
  },
  "language_info": {
   "codemirror_mode": {
    "name": "ipython",
    "version": 3
   },
   "file_extension": ".py",
   "mimetype": "text/x-python",
   "name": "python",
   "nbconvert_exporter": "python",
   "pygments_lexer": "ipython3",
   "version": "3.9.0"
  }
 },
 "nbformat": 4,
 "nbformat_minor": 4
}
