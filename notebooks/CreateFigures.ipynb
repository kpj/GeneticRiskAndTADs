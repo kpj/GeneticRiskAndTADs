{
 "cells": [
  {
   "cell_type": "code",
   "execution_count": null,
   "metadata": {},
   "outputs": [],
   "source": [
    "from pathlib import Path\n",
    "\n",
    "import numpy as np\n",
    "import pandas as pd\n",
    "\n",
    "import seaborn as sns\n",
    "import matplotlib.pyplot as plt"
   ]
  },
  {
   "cell_type": "code",
   "execution_count": null,
   "metadata": {},
   "outputs": [],
   "source": [
    "sns.set_context('talk')"
   ]
  },
  {
   "cell_type": "markdown",
   "metadata": {},
   "source": [
    "# Parameters"
   ]
  },
  {
   "cell_type": "code",
   "execution_count": null,
   "metadata": {},
   "outputs": [],
   "source": [
    "db_fname = snakemake.input.db_fname\n",
    "enr_fname = snakemake.input.enr_fname\n",
    "\n",
    "tad_borders = snakemake.config['tad_borders']\n",
    "\n",
    "outdir = Path(snakemake.output.outdir)"
   ]
  },
  {
   "cell_type": "markdown",
   "metadata": {},
   "source": [
    "# Load data"
   ]
  },
  {
   "cell_type": "code",
   "execution_count": null,
   "metadata": {},
   "outputs": [],
   "source": [
    "df = pd.read_csv(db_fname)\n",
    "df.head()"
   ]
  },
  {
   "cell_type": "code",
   "execution_count": null,
   "metadata": {},
   "outputs": [],
   "source": [
    "df_enr = pd.read_csv(enr_fname)\n",
    "\n",
    "# mark cancer diseases\n",
    "iscancer_map = df[['diseaseId', 'is_cancer']].set_index('diseaseId').to_dict()['is_cancer']\n",
    "df_enr['is_cancer'] = df_enr['diseaseId'].map(iscancer_map)\n",
    "\n",
    "# add disease name\n",
    "# disname_map = df[['diseaseId', 'diseaseName']].set_index('diseaseId').to_dict()['diseaseName']\n",
    "# df_enr['disease_name'] = df_enr['diseaseId'].map(disname_map)\n",
    "\n",
    "df_enr.head()"
   ]
  },
  {
   "cell_type": "markdown",
   "metadata": {},
   "source": [
    "# Plots"
   ]
  },
  {
   "cell_type": "code",
   "execution_count": null,
   "metadata": {},
   "outputs": [],
   "source": [
    "tmp = {}\n",
    "\n",
    "# copy some columns\n",
    "copy_col = ['TAD_type', 'is_cancer']\n",
    "for col in copy_col:\n",
    "    tmp[col] = df_enr[col]\n",
    "\n",
    "# transform p-values\n",
    "df_enr_copy = df_enr.copy()\n",
    "for col in df_enr_copy.columns:\n",
    "    if not col.startswith('pval_'):\n",
    "        continue\n",
    "    \n",
    "    df_enr_copy.loc[df_enr_copy[col]==0, col] = 1e-16\n",
    "    tmp[col] = df_enr_copy[col].apply(lambda x: -np.log10(x))\n",
    "\n",
    "# create dataframe\n",
    "df_enr_log = pd.DataFrame(tmp)\n",
    "# df_enr_log = df_enr_log.replace([np.inf, -np.inf], np.nan)\n",
    "df_enr_log.head()"
   ]
  },
  {
   "cell_type": "code",
   "execution_count": null,
   "metadata": {},
   "outputs": [],
   "source": [
    "df_enr_log_long = pd.melt(df_enr_log, id_vars=['TAD_type', 'is_cancer'])\n",
    "\n",
    "df_enr_log_long['pvalue_type'] = df_enr_log_long['variable'].apply(lambda x: 'notcorrected' if x.endswith('__notcorrected') else 'corrected')\n",
    "df_enr_log_long['variable'] = df_enr_log_long['variable'].str.split('__').str[0]\n",
    "\n",
    "df_enr_log_long.head()"
   ]
  },
  {
   "cell_type": "markdown",
   "metadata": {},
   "source": [
    "## TAD border enrichment"
   ]
  },
  {
   "cell_type": "code",
   "execution_count": null,
   "metadata": {},
   "outputs": [],
   "source": [
    "for pvalue_type, group in df_enr_log_long.groupby('pvalue_type'):\n",
    "    # filter data\n",
    "    max_x = 3  # group.loc[group['variable'] == 'pval_border', 'value'].max()\n",
    "\n",
    "    tmp = group.copy()\n",
    "    tmp = tmp[tmp['variable'] == 'pval_border']\n",
    "    tmp.loc[tmp['value'] > max_x, 'value'] = max_x\n",
    "\n",
    "    # plot\n",
    "    g = sns.FacetGrid(\n",
    "        tmp, col='TAD_type', col_wrap=3, hue='is_cancer',\n",
    "        col_order=tad_borders.keys(),\n",
    "        height=5, aspect=1.2)\n",
    "\n",
    "    bins = np.linspace(0, max_x, int(max_x * 10))\n",
    "\n",
    "    g = g.map(sns.distplot, 'value', hist_kws=dict(alpha=.5), bins=bins, kde=False, norm_hist=True)\n",
    "    g = g.map(plt.axvline, x=-np.log10(.05), color='red', linestyle='dashed')\n",
    "\n",
    "    g.set(xlim=(0, max_x))\n",
    "    g.add_legend()\n",
    "\n",
    "    plt.suptitle(rf'values $>{max_x}$ are set to ${max_x}$ ({pvalue_type})')\n",
    "\n",
    "    #plt.tight_layout()\n",
    "    plt.subplots_adjust(top=.92)\n",
    "    plt.savefig(outdir / f'tad_border_enrichment_{pvalue_type}.pdf')"
   ]
  }
 ],
 "metadata": {
  "kernelspec": {
   "display_name": "Python 3",
   "language": "python",
   "name": "python3"
  },
  "language_info": {
   "codemirror_mode": {
    "name": "ipython",
    "version": 3
   },
   "file_extension": ".py",
   "mimetype": "text/x-python",
   "name": "python",
   "nbconvert_exporter": "python",
   "pygments_lexer": "ipython3",
   "version": "3.7.6"
  }
 },
 "nbformat": 4,
 "nbformat_minor": 4
}
