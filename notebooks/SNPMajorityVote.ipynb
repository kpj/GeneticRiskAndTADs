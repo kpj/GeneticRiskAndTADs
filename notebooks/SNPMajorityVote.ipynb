{
 "cells": [
  {
   "cell_type": "code",
   "execution_count": null,
   "metadata": {},
   "outputs": [],
   "source": [
    "import os\n",
    "\n",
    "import pandas as pd\n",
    "\n",
    "from tqdm.auto import tqdm"
   ]
  },
  {
   "cell_type": "markdown",
   "metadata": {},
   "source": [
    "# Parameters"
   ]
  },
  {
   "cell_type": "code",
   "execution_count": null,
   "metadata": {},
   "outputs": [],
   "source": [
    "fname_list = snakemake.input.fname_list\n",
    "\n",
    "source = snakemake.wildcards.source\n",
    "\n",
    "border_fraction_threshold = snakemake.config['parameters']['snp_majority_vote_border_fraction_threshold']\n",
    "tad_borders = snakemake.config['tad_borders']\n",
    "\n",
    "fname_output = snakemake.output.fname\n",
    "fname_output_tads = snakemake.output.fname_tads"
   ]
  },
  {
   "cell_type": "markdown",
   "metadata": {},
   "source": [
    "# Load data"
   ]
  },
  {
   "cell_type": "code",
   "execution_count": null,
   "metadata": {},
   "outputs": [],
   "source": [
    "df_list = []\n",
    "for fname in tqdm(fname_list):\n",
    "    tmp = pd.read_csv(fname)\n",
    "    \n",
    "    _, tad_source, window_size, _ = os.path.basename(fname).split('.')\n",
    "#     tmp['window_size'] = window_size\n",
    "    assert tad_source == source\n",
    "    \n",
    "    df_list.append(tmp)\n",
    "\n",
    "df_all = pd.concat(df_list)\n",
    "df_all.head()"
   ]
  },
  {
   "cell_type": "markdown",
   "metadata": {},
   "source": [
    "# SNP Majority Vote\n",
    "\n",
    "Notes:\n",
    "* in a disease-SNP group, the `odds_ratio` can vary (because different studies reported different values)"
   ]
  },
  {
   "cell_type": "code",
   "execution_count": null,
   "metadata": {},
   "outputs": [],
   "source": [
    "%%time\n",
    "\n",
    "variable_columns = {'odds_ratio'}\n",
    "\n",
    "row_list = []\n",
    "for idx, group in tqdm(df_all.groupby(['diseaseId', 'snpId'])):\n",
    "    # make sure all other columns are equal for all grouped SNPs\n",
    "    for col in set(group.columns) - set(tad_borders.keys()) - variable_columns:\n",
    "        assert group[col].nunique() <= 1, group[col]  # can be 0 if all NaN\n",
    "    \n",
    "    # find majority SNP classification\n",
    "    row = group.iloc[0].copy()\n",
    "\n",
    "    for border_col in tad_borders.keys():\n",
    "        counts = group[border_col].value_counts()\n",
    "\n",
    "        if counts.get('border', 0) >= border_fraction_threshold * counts.sum():\n",
    "            type_ = 'border'\n",
    "        else:\n",
    "            type_ = counts.idxmax()\n",
    "\n",
    "        row[tad_borders] = type_\n",
    "    \n",
    "    row_list.append(row)"
   ]
  },
  {
   "cell_type": "code",
   "execution_count": null,
   "metadata": {},
   "outputs": [],
   "source": [
    "df_agg = pd.DataFrame(row_list)\n",
    "df_agg.head()"
   ]
  },
  {
   "cell_type": "markdown",
   "metadata": {},
   "source": [
    "# Inspect result"
   ]
  },
  {
   "cell_type": "code",
   "execution_count": null,
   "metadata": {},
   "outputs": [],
   "source": [
    "for fname in fname_list:\n",
    "    tmp = pd.read_csv(fname)\n",
    "    \n",
    "    print(os.path.basename(fname))\n",
    "    print(tmp['20in'].value_counts())\n",
    "    print()"
   ]
  },
  {
   "cell_type": "code",
   "execution_count": null,
   "metadata": {},
   "outputs": [],
   "source": [
    "df_agg['20in'].value_counts()"
   ]
  },
  {
   "cell_type": "markdown",
   "metadata": {},
   "source": [
    "# Save result"
   ]
  },
  {
   "cell_type": "code",
   "execution_count": null,
   "metadata": {},
   "outputs": [],
   "source": [
    "df_agg.to_csv(fname_output, index=False)"
   ]
  },
  {
   "cell_type": "markdown",
   "metadata": {},
   "source": [
    "# Create dummy TAD file\n",
    "\n",
    "This is needed for Snakemake DAG building."
   ]
  },
  {
   "cell_type": "code",
   "execution_count": null,
   "metadata": {},
   "outputs": [],
   "source": [
    "pd.DataFrame({\n",
    "    'chrname': [],\n",
    "    'tad_stop': [],\n",
    "    'tad_start': []\n",
    "}).to_csv(fname_output_tads, index=False)"
   ]
  }
 ],
 "metadata": {
  "kernelspec": {
   "display_name": "Python 3",
   "language": "python",
   "name": "python3"
  },
  "language_info": {
   "codemirror_mode": {
    "name": "ipython",
    "version": 3
   },
   "file_extension": ".py",
   "mimetype": "text/x-python",
   "name": "python",
   "nbconvert_exporter": "python",
   "pygments_lexer": "ipython3",
   "version": "3.8.6"
  },
  "toc": {
   "base_numbering": 1,
   "nav_menu": {},
   "number_sections": true,
   "sideBar": true,
   "skip_h1_title": false,
   "title_cell": "Table of Contents",
   "title_sidebar": "Contents",
   "toc_cell": false,
   "toc_position": {},
   "toc_section_display": true,
   "toc_window_display": false
  }
 },
 "nbformat": 4,
 "nbformat_minor": 4
}
