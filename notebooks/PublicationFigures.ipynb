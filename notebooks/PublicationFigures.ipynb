{
 "cells": [
  {
   "cell_type": "code",
   "execution_count": null,
   "metadata": {},
   "outputs": [],
   "source": [
    "from pathlib import Path\n",
    "\n",
    "import numpy as np\n",
    "import pandas as pd\n",
    "import networkx as nx\n",
    "\n",
    "from scipy.stats import fisher_exact\n",
    "\n",
    "import statannot\n",
    "import seaborn as sns\n",
    "import matplotlib.pyplot as plt\n",
    "\n",
    "from natsort import natsorted\n",
    "from tqdm.auto import tqdm"
   ]
  },
  {
   "cell_type": "code",
   "execution_count": null,
   "metadata": {},
   "outputs": [],
   "source": [
    "sns.set_context('talk')\n",
    "pd.set_option('display.max_columns', None)"
   ]
  },
  {
   "cell_type": "markdown",
   "metadata": {},
   "source": [
    "# Parameters"
   ]
  },
  {
   "cell_type": "code",
   "execution_count": null,
   "metadata": {},
   "outputs": [],
   "source": [
    "fname_data = snakemake.input.fname_data\n",
    "fname_enr = snakemake.input.fname_enr\n",
    "\n",
    "outdir = Path(snakemake.output.outdir)"
   ]
  },
  {
   "cell_type": "markdown",
   "metadata": {},
   "source": [
    "# Load data"
   ]
  },
  {
   "cell_type": "markdown",
   "metadata": {},
   "source": [
    "## Database data"
   ]
  },
  {
   "cell_type": "code",
   "execution_count": null,
   "metadata": {},
   "outputs": [],
   "source": [
    "df_data = pd.read_csv(fname_data, low_memory=True)\n",
    "df_data.head()"
   ]
  },
  {
   "cell_type": "markdown",
   "metadata": {},
   "source": [
    "## Enrichment data"
   ]
  },
  {
   "cell_type": "code",
   "execution_count": null,
   "metadata": {},
   "outputs": [],
   "source": [
    "df_enr = pd.read_csv(fname_enr, low_memory=True)"
   ]
  },
  {
   "cell_type": "code",
   "execution_count": null,
   "metadata": {},
   "outputs": [],
   "source": [
    "max_enrichment = 16\n",
    "df_enr['pval_boundary_trans'] = df_enr['pval_boundary'].apply(lambda x: max_enrichment if x == 0 else -np.log10(x))"
   ]
  },
  {
   "cell_type": "code",
   "execution_count": null,
   "metadata": {},
   "outputs": [],
   "source": [
    "df_enr.head()"
   ]
  },
  {
   "cell_type": "markdown",
   "metadata": {},
   "source": [
    "# Create figures"
   ]
  },
  {
   "cell_type": "markdown",
   "metadata": {},
   "source": [
    "## Figure 1: Overview Sketch"
   ]
  },
  {
   "cell_type": "code",
   "execution_count": null,
   "metadata": {},
   "outputs": [],
   "source": [
    "# TODO"
   ]
  },
  {
   "cell_type": "markdown",
   "metadata": {
    "toc-hr-collapsed": false
   },
   "source": [
    "## Figure 2: p-value Histogram for nice case"
   ]
  },
  {
   "cell_type": "code",
   "execution_count": null,
   "metadata": {},
   "outputs": [],
   "source": [
    "def plot_histogram(df, fname, bins=np.linspace(0, 3, 50)):\n",
    "    plt.figure(figsize=(8, 6))\n",
    "    \n",
    "    for is_cancer, group in df.groupby('is_cancer'):\n",
    "        tmp = group.copy()\n",
    "\n",
    "        tmp.loc[tmp['pval_boundary_trans'] > 3, 'pval_boundary_trans'] = 3\n",
    "\n",
    "        sns.distplot(\n",
    "            tmp['pval_boundary_trans'],\n",
    "            kde=False, norm_hist=True, bins=bins,\n",
    "            label=is_cancer\n",
    "        )\n",
    "\n",
    "    plt.xlabel(r'$-log_{10}(\\mathrm{pvalue})$')\n",
    "    plt.ylabel('Frequency')\n",
    "    \n",
    "    plt.ylim(0, 1)\n",
    "\n",
    "    plt.axvline(-np.log10(.05), ls='dashed', color='red')\n",
    "    plt.legend(loc='best', title='is_cancer')\n",
    "\n",
    "    plt.tight_layout()\n",
    "    plt.savefig(outdir / fname)"
   ]
  },
  {
   "cell_type": "markdown",
   "metadata": {},
   "source": [
    "### Subfigure 2a: nofilter"
   ]
  },
  {
   "cell_type": "code",
   "execution_count": null,
   "metadata": {},
   "outputs": [],
   "source": [
    "sub_nofilter = df_enr[\n",
    "    (df_enr['filter'] == 'nofilter') &\n",
    "    (df_enr['TAD_type'] == '20in') &\n",
    "    (df_enr['#border_snp'] > 10)\n",
    "]"
   ]
  },
  {
   "cell_type": "code",
   "execution_count": null,
   "metadata": {},
   "outputs": [],
   "source": [
    "plot_histogram(sub_nofilter, 'pvalue_histogram_nofilter.pdf')"
   ]
  },
  {
   "cell_type": "markdown",
   "metadata": {},
   "source": [
    "### Subfigure 2b: intergenic filter"
   ]
  },
  {
   "cell_type": "code",
   "execution_count": null,
   "metadata": {},
   "outputs": [],
   "source": [
    "sub_intergenic = df_enr[\n",
    "    (df_enr['filter'] == 'intergenic') &\n",
    "    (df_enr['TAD_type'] == '20in') &\n",
    "    (df_enr['#border_snp'] > 10)\n",
    "]"
   ]
  },
  {
   "cell_type": "code",
   "execution_count": null,
   "metadata": {},
   "outputs": [],
   "source": [
    "plot_histogram(sub_intergenic, 'pvalue_histogram_intergenic.pdf')"
   ]
  },
  {
   "cell_type": "markdown",
   "metadata": {},
   "source": [
    "## Figure 3: Zoomed-out multi-dataset overview"
   ]
  },
  {
   "cell_type": "code",
   "execution_count": null,
   "metadata": {},
   "outputs": [],
   "source": [
    "df_enr.head(2)"
   ]
  },
  {
   "cell_type": "code",
   "execution_count": null,
   "metadata": {},
   "outputs": [],
   "source": [
    "%%time\n",
    "\n",
    "df_detailed = (df_enr.groupby(['TAD_type', 'filter', 'tad_source', 'is_cancer', 'diseaseId'])\n",
    "       .apply(lambda x: (x['pval_boundary'] <= .05).mean() > .5)\n",
    "       .to_frame('majority_is_sig')\n",
    "       .reset_index()\n",
    ")\n",
    "\n",
    "df_majority = (df_detailed.drop('diseaseId', axis=1)\n",
    "       .groupby(['TAD_type', 'filter', 'tad_source', 'is_cancer'])['majority_is_sig']\n",
    "       .apply(lambda x: x.mean())\n",
    "       .to_frame('sig_frac')\n",
    "       .reset_index()\n",
    ")\n",
    "df_majority.head()"
   ]
  },
  {
   "cell_type": "code",
   "execution_count": null,
   "metadata": {},
   "outputs": [],
   "source": [
    "def select_one(df, col):\n",
    "    assert df[col].nunique() == 1\n",
    "    return df[col].iloc[0]\n",
    "\n",
    "def compute_pvalue(x, y):\n",
    "    ct = pd.crosstab(x, y)\n",
    "    return fisher_exact(ct)[1]\n",
    "\n",
    "def custom_barplot(*args, **kwargs):\n",
    "    data = kwargs['data']\n",
    "    x = kwargs['x']\n",
    "    y = kwargs['y']\n",
    "    hue = kwargs['hue']\n",
    "    \n",
    "    order = data[x].unique()\n",
    "    hue_order = data[hue].unique()\n",
    "    \n",
    "    # standard barplot\n",
    "    ax = sns.barplot(*args, **kwargs, order=order, hue_order=hue_order)\n",
    "    \n",
    "    # add annotations\n",
    "    box_pairs = []\n",
    "    pvalues = []\n",
    "    \n",
    "    for filter_ in order:\n",
    "        box_pairs.append(((filter_, False), (filter_, True)))\n",
    "        \n",
    "        # select corresponding detailed data\n",
    "        tad_type = select_one(data, 'TAD_type')\n",
    "        tad_source = select_one(data, 'tad_source')\n",
    "        \n",
    "        sub_detailed = df_detailed[(df_detailed['TAD_type'] == tad_type) & (df_detailed['tad_source'] == tad_source) & (df_detailed['filter'] == filter_)]\n",
    "        \n",
    "        # compute p-value\n",
    "        sub_x = sub_detailed['is_cancer']\n",
    "        sub_y = sub_detailed['majority_is_sig']\n",
    "        pval = compute_pvalue(sub_x, sub_y)\n",
    "        \n",
    "        pvalues.append(pval)\n",
    "            \n",
    "    statannot.add_stat_annotation(\n",
    "        ax, plot='barplot',\n",
    "        data=kwargs['data'], x=kwargs['x'], y=kwargs['y'], hue=kwargs['hue'],\n",
    "        order=order, hue_order=hue_order,\n",
    "        box_pairs=box_pairs,\n",
    "        text_format='simple',\n",
    "        pvalues=pvalues,\n",
    "        perform_stat_test=False\n",
    "    )"
   ]
  },
  {
   "cell_type": "code",
   "execution_count": null,
   "metadata": {},
   "outputs": [],
   "source": [
    "g = sns.FacetGrid(df_majority, row='TAD_type', col='tad_source', height=5, aspect=2)\n",
    "\n",
    "g.map_dataframe(custom_barplot, x='filter', y='sig_frac', hue='is_cancer', palette='tab10')\n",
    "\n",
    "g.set_axis_labels('Filter', 'Disease fraction sig. in $>0.5$ cases')\n",
    "g.add_legend(title='is_cancer')\n",
    "\n",
    "for ax in g.axes.flat:\n",
    "    ax.tick_params(labelbottom=True)\n",
    "\n",
    "g.savefig(outdir / 'dataset_overview.pdf')"
   ]
  },
  {
   "cell_type": "markdown",
   "metadata": {},
   "source": [
    "## Figure 4: Comparison between 20in and 40in borders"
   ]
  },
  {
   "cell_type": "code",
   "execution_count": null,
   "metadata": {},
   "outputs": [],
   "source": [
    "# TODO"
   ]
  },
  {
   "cell_type": "markdown",
   "metadata": {},
   "source": [
    "## Figure 5: multipartite graph"
   ]
  },
  {
   "cell_type": "code",
   "execution_count": null,
   "metadata": {},
   "outputs": [],
   "source": [
    "sub = df_data[df_data['20in'] == 'boundary']"
   ]
  },
  {
   "cell_type": "code",
   "execution_count": null,
   "metadata": {},
   "outputs": [],
   "source": [
    "graph = nx.from_pandas_edgelist(sub, 'diseaseId', 'snpId')\n",
    "print(nx.info(graph))"
   ]
  },
  {
   "cell_type": "code",
   "execution_count": null,
   "metadata": {},
   "outputs": [],
   "source": [
    "graph_proj = nx.bipartite.projected_graph(graph, sub['diseaseId'].unique().tolist())\n",
    "print(nx.info(graph_proj))"
   ]
  },
  {
   "cell_type": "code",
   "execution_count": null,
   "metadata": {},
   "outputs": [],
   "source": [
    "pos = nx.drawing.nx_agraph.graphviz_layout(graph_proj, prog='neato', args='-Goverlap=scale')"
   ]
  },
  {
   "cell_type": "code",
   "execution_count": null,
   "metadata": {},
   "outputs": [],
   "source": [
    "iscancer_map = sub.set_index('diseaseId').to_dict()['is_cancer']\n",
    "node_color_list = ['orange' if iscancer_map[n] else 'blue' for n in graph_proj.nodes()]"
   ]
  },
  {
   "cell_type": "code",
   "execution_count": null,
   "metadata": {},
   "outputs": [],
   "source": [
    "plt.figure(figsize=(2*8, 2*6))\n",
    "\n",
    "nx.draw_networkx_nodes(graph_proj, pos, node_size=20, node_color=node_color_list)\n",
    "nx.draw_networkx_edges(graph_proj, pos, alpha=.2)\n",
    "\n",
    "plt.axis('off')\n",
    "\n",
    "plt.tight_layout()\n",
    "plt.savefig(outdir / 'network.pdf')"
   ]
  }
 ],
 "metadata": {
  "kernelspec": {
   "display_name": "Python 3",
   "language": "python",
   "name": "python3"
  },
  "language_info": {
   "codemirror_mode": {
    "name": "ipython",
    "version": 3
   },
   "file_extension": ".py",
   "mimetype": "text/x-python",
   "name": "python",
   "nbconvert_exporter": "python",
   "pygments_lexer": "ipython3",
   "version": "3.7.7"
  },
  "toc-autonumbering": false
 },
 "nbformat": 4,
 "nbformat_minor": 4
}
