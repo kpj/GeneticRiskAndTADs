{
 "cells": [
  {
   "cell_type": "code",
   "execution_count": null,
   "metadata": {},
   "outputs": [],
   "source": [
    "import collections\n",
    "from pathlib import Path\n",
    "\n",
    "import numpy as np\n",
    "import pandas as pd\n",
    "import networkx as nx\n",
    "import pyranges as pr\n",
    "\n",
    "from scipy import ndimage\n",
    "from scipy.stats import fisher_exact\n",
    "\n",
    "import statannot\n",
    "import seaborn as sns\n",
    "import matplotlib.pyplot as plt\n",
    "from adjustText import adjust_text\n",
    "\n",
    "import matplotlib.transforms as tx\n",
    "from matplotlib.colors import SymLogNorm\n",
    "from matplotlib.gridspec import GridSpec\n",
    "from matplotlib.collections import LineCollection\n",
    "\n",
    "import cooler\n",
    "\n",
    "from natsort import natsorted\n",
    "from tqdm.auto import tqdm, trange"
   ]
  },
  {
   "cell_type": "code",
   "execution_count": null,
   "metadata": {},
   "outputs": [],
   "source": [
    "sns.set_context('talk')\n",
    "pd.set_option('display.max_columns', None)"
   ]
  },
  {
   "cell_type": "markdown",
   "metadata": {},
   "source": [
    "# Parameters"
   ]
  },
  {
   "cell_type": "code",
   "execution_count": null,
   "metadata": {},
   "outputs": [],
   "source": [
    "fname_data = snakemake.input.fname_data\n",
    "fname_enr = snakemake.input.fname_enr\n",
    "\n",
    "sketch_hicfile = snakemake.input.sketch_hicfile\n",
    "sketch_tadfile = snakemake.input.sketch_tadfile\n",
    "\n",
    "sketch_region = snakemake.config['sketch']['region']\n",
    "\n",
    "outdir = Path(snakemake.output.outdir)"
   ]
  },
  {
   "cell_type": "markdown",
   "metadata": {},
   "source": [
    "# Load data"
   ]
  },
  {
   "cell_type": "markdown",
   "metadata": {},
   "source": [
    "## Database data"
   ]
  },
  {
   "cell_type": "code",
   "execution_count": null,
   "metadata": {},
   "outputs": [],
   "source": [
    "df_data = pd.read_csv(fname_data, low_memory=True)\n",
    "df_data.head()"
   ]
  },
  {
   "cell_type": "markdown",
   "metadata": {},
   "source": [
    "## Enrichment data"
   ]
  },
  {
   "cell_type": "code",
   "execution_count": null,
   "metadata": {},
   "outputs": [],
   "source": [
    "df_enr = pd.read_csv(fname_enr, low_memory=True)"
   ]
  },
  {
   "cell_type": "code",
   "execution_count": null,
   "metadata": {},
   "outputs": [],
   "source": [
    "max_enrichment = 16\n",
    "df_enr['pval_boundary_trans'] = df_enr['pval_boundary'].apply(lambda x: max_enrichment if x == 0 else -np.log10(x))"
   ]
  },
  {
   "cell_type": "code",
   "execution_count": null,
   "metadata": {},
   "outputs": [],
   "source": [
    "df_enr.head()"
   ]
  },
  {
   "cell_type": "markdown",
   "metadata": {},
   "source": [
    "# Publication Figures"
   ]
  },
  {
   "cell_type": "markdown",
   "metadata": {},
   "source": [
    "## Figure 1: Overview Sketch"
   ]
  },
  {
   "cell_type": "markdown",
   "metadata": {},
   "source": [
    "Interesting regions:\n",
    "* chr6:25960228-31407777 (hg19), chr6:25960000-31440000 (hg38)"
   ]
  },
  {
   "cell_type": "markdown",
   "metadata": {},
   "source": [
    "### Read contact matrix"
   ]
  },
  {
   "cell_type": "code",
   "execution_count": null,
   "metadata": {},
   "outputs": [],
   "source": [
    "c = cooler.Cooler(sketch_hicfile)\n",
    "\n",
    "mat = c.matrix(balance=False).fetch(sketch_region)\n",
    "df_bins = c.bins().fetch(sketch_region)\n",
    "\n",
    "df_mat = pd.DataFrame(mat, index=df_bins['start'], columns=df_bins['start'])"
   ]
  },
  {
   "cell_type": "code",
   "execution_count": null,
   "metadata": {},
   "outputs": [],
   "source": [
    "df_mat.head()"
   ]
  },
  {
   "cell_type": "markdown",
   "metadata": {},
   "source": [
    "### Read TADs"
   ]
  },
  {
   "cell_type": "code",
   "execution_count": null,
   "metadata": {},
   "outputs": [],
   "source": [
    "df_tads = pr.PyRanges(pd.read_csv(sketch_tadfile).rename(columns={'chrname': 'Chromosome', 'tad_start': 'Start', 'tad_stop': 'End'}))\n",
    "df_tads.head()"
   ]
  },
  {
   "cell_type": "code",
   "execution_count": null,
   "metadata": {},
   "outputs": [],
   "source": [
    "df_region = pr.PyRanges(pd.DataFrame({\n",
    "    'Chromosome': [sketch_region[0]],\n",
    "    'Start': [sketch_region[1]],\n",
    "    'End': [sketch_region[2]]\n",
    "}))\n",
    "df_region"
   ]
  },
  {
   "cell_type": "code",
   "execution_count": null,
   "metadata": {},
   "outputs": [],
   "source": [
    "tad_list = df_tads.overlap(df_region)\n",
    "# tad_list = tad_list[(tad_list.Start >= sketch_region[1]) & (tad_list.End <= sketch_region[2])]\n",
    "tad_list"
   ]
  },
  {
   "cell_type": "markdown",
   "metadata": {},
   "source": [
    "#### Find TAD boundaries"
   ]
  },
  {
   "cell_type": "code",
   "execution_count": null,
   "metadata": {},
   "outputs": [],
   "source": [
    "boundary_size = -20_000\n",
    "\n",
    "def get_boundaries(df):\n",
    "    tmp_front = df.copy()\n",
    "    tmp_front.loc[:, 'End'] = tmp_front.Start - boundary_size\n",
    "    tmp_front['type'] = 'front'\n",
    "    \n",
    "    tmp_back = df.copy()\n",
    "    tmp_back.loc[:, 'Start'] = tmp_back.End + boundary_size\n",
    "    tmp_back['type'] = 'back'\n",
    "\n",
    "    return pd.concat([tmp_front, tmp_back])"
   ]
  },
  {
   "cell_type": "code",
   "execution_count": null,
   "metadata": {},
   "outputs": [],
   "source": [
    "border_list = tad_list.apply(get_boundaries)\n",
    "border_list"
   ]
  },
  {
   "cell_type": "markdown",
   "metadata": {},
   "source": [
    "### Read SNPs"
   ]
  },
  {
   "cell_type": "code",
   "execution_count": null,
   "metadata": {},
   "outputs": [],
   "source": [
    "tmp = df_data[['chromosome_hg19', 'position_hg19', 'snpId']].drop_duplicates().dropna().copy().rename(columns={'chromosome_hg19': 'Chromosome', 'position_hg19': 'Start'})\n",
    "tmp['Chromosome'] = 'chr' + tmp['Chromosome'].astype(str)\n",
    "tmp['End'] = tmp['Start'] + 1\n",
    "\n",
    "df_snps = pr.PyRanges(tmp)\n",
    "df_snps"
   ]
  },
  {
   "cell_type": "code",
   "execution_count": null,
   "metadata": {},
   "outputs": [],
   "source": [
    "# find SNPs in TAD borders\n",
    "snp_list = df_snps.overlap(border_list)\n",
    "snp_list"
   ]
  },
  {
   "cell_type": "code",
   "execution_count": null,
   "metadata": {},
   "outputs": [],
   "source": [
    "# classify SNPs\n",
    "def classify(x):\n",
    "    return x['is_cancer'].value_counts().idxmax()\n",
    "\n",
    "snp_cancer_map = df_data[['diseaseId', 'snpId', 'is_cancer']].drop_duplicates().dropna().groupby('snpId').apply(classify).to_dict()\n",
    "list(snp_cancer_map.items())[:2]"
   ]
  },
  {
   "cell_type": "markdown",
   "metadata": {},
   "source": [
    "### Create plot"
   ]
  },
  {
   "cell_type": "code",
   "execution_count": null,
   "metadata": {},
   "outputs": [],
   "source": [
    "# rotate contact matrix\n",
    "mat_rot = ndimage.rotate(df_mat, 45, order=0, reshape=True, cval=0, prefilter=False)\n",
    "\n",
    "# create figure\n",
    "s = 2\n",
    "fig = plt.figure(figsize=(s*8, s*8))\n",
    "\n",
    "# main plot\n",
    "ax_main = plt.gca()\n",
    "\n",
    "# plot rotated contact matrix\n",
    "ax_main.matshow(\n",
    "    mat_rot,\n",
    "    norm=SymLogNorm(1),\n",
    "    cmap='YlOrRd',\n",
    "    origin='lower',\n",
    "    extent=(\n",
    "        df_mat.index[0] + .5, df_mat.index[-1] + .5,\n",
    "        df_mat.index[0] + .5, df_mat.index[-1] + .5\n",
    "    ),\n",
    "    aspect='equal'\n",
    ")\n",
    "\n",
    "# adjust axes\n",
    "center_height = (df_mat.index[0] + df_mat.index[-1]) / 2 + .5\n",
    "ax_main.set_ylim(center_height, df_mat.index[-1] + .5)\n",
    "\n",
    "ax_main.set_xlabel(sketch_region[0])\n",
    "ax_main.xaxis.set_label_position('top') \n",
    "ax_main.set_xlim(sketch_region[1], sketch_region[2])\n",
    "\n",
    "ax_main.tick_params(\n",
    "    axis='both',\n",
    "    reset=True,\n",
    "    which='both',\n",
    "    top=True, labeltop=True,\n",
    "    right=False, labelright=False,\n",
    "    left=False, labelleft=False,\n",
    "    bottom=False, labelbottom=False,\n",
    ")\n",
    "\n",
    "ax_main.ticklabel_format(axis='both', style='plain')\n",
    "\n",
    "# highlight TADs\n",
    "for row in tad_list.df.itertuples():\n",
    "    tmp = np.sin(np.deg2rad(90)) * (row.End - row.Start) / 2\n",
    "\n",
    "    pg = plt.Polygon([\n",
    "        [row.Start, center_height], \n",
    "        [(row.Start + row.End) / 2, center_height + tmp], \n",
    "        [row.End, center_height]\n",
    "    ], edgecolor='black', facecolor='none')\n",
    "    ax_main.add_patch(pg)\n",
    "\n",
    "# highlight TAD boundaries\n",
    "for row in border_list.df.itertuples():\n",
    "    tmp = np.tan(np.deg2rad(45)) * (row.End - row.Start)\n",
    "\n",
    "    pg = plt.Polygon([\n",
    "        [row.Start, center_height], \n",
    "        [row.End if row.type == 'front' else row.Start, center_height + tmp], \n",
    "        [row.End, center_height]\n",
    "    ], edgecolor='black', facecolor='gray', alpha=.6)\n",
    "    ax_main.add_patch(pg)\n",
    "    \n",
    "# auxiliary plot\n",
    "ax_height = .3\n",
    "ax_aux = ax_main.inset_axes([0, -ax_height, 1, ax_height])\n",
    "\n",
    "ax_main.get_shared_x_axes().join(ax_main, ax_aux)\n",
    "ax_aux.set_xlim(sketch_region[1], sketch_region[2])\n",
    "    \n",
    "# highlight SNPs\n",
    "snp_pos = snp_list.df['Start']\n",
    "snp_colors = 'black' #['orange' if snp_cancer_map[s] else 'blue' for s in snp_list.df['snpId']]\n",
    "snp_ls = ['solid' if snp_cancer_map[s] else 'dashed' for s in snp_list.df['snpId']]\n",
    "\n",
    "trans = tx.blended_transform_factory(ax_aux.transData, ax_aux.transAxes)\n",
    "xy_pairs = np.column_stack([np.repeat(snp_pos, 2), np.tile([.8, 1], len(snp_pos))])\n",
    "\n",
    "line_segs = xy_pairs.reshape([len(snp_pos), 2, 2])\n",
    "ax_aux.add_collection(LineCollection(line_segs, transform=trans, colors=snp_colors, ls=snp_ls))\n",
    "\n",
    "ax_aux.axis('off')\n",
    "\n",
    "annotation_list = []\n",
    "for row in snp_list.df.itertuples():\n",
    "    pos = row.Start\n",
    "    id_ = row.snpId\n",
    "    \n",
    "    a = ax_aux.annotate(\n",
    "        id_,\n",
    "        xy=(pos, .8), xytext=(pos, .5),\n",
    "        xycoords=('data', 'axes fraction'), textcoords=('data', 'axes fraction'),\n",
    "        arrowprops=dict(arrowstyle='-'),\n",
    "        annotation_clip=False,\n",
    "        fontsize=13)\n",
    "    annotation_list.append(a)\n",
    "\n",
    "adjust_text(annotation_list, ax=ax_aux)\n",
    "\n",
    "# save figure\n",
    "plt.tight_layout()\n",
    "plt.savefig(outdir / 'sketch.pdf')"
   ]
  },
  {
   "cell_type": "markdown",
   "metadata": {
    "toc-hr-collapsed": false
   },
   "source": [
    "## Figure 2: p-value Histogram for nice case"
   ]
  },
  {
   "cell_type": "code",
   "execution_count": null,
   "metadata": {},
   "outputs": [],
   "source": [
    "def plot_histogram(df, fname, bins=np.linspace(0, 3, 50)):\n",
    "    plt.figure(figsize=(8, 6))\n",
    "    \n",
    "    for is_cancer, group in df.groupby('is_cancer'):\n",
    "        tmp = group.copy()\n",
    "\n",
    "        tmp.loc[tmp['pval_boundary_trans'] > 3, 'pval_boundary_trans'] = 3\n",
    "\n",
    "        sns.distplot(\n",
    "            tmp['pval_boundary_trans'],\n",
    "            kde=False, norm_hist=True, bins=bins,\n",
    "            label=is_cancer\n",
    "        )\n",
    "\n",
    "    plt.xlabel(r'$-log_{10}(\\mathrm{pvalue})$')\n",
    "    plt.ylabel('Frequency')\n",
    "    \n",
    "    plt.ylim(0, 1)\n",
    "\n",
    "    plt.axvline(-np.log10(.05), ls='dashed', color='red')\n",
    "    plt.legend(loc='best', title='is_cancer')\n",
    "\n",
    "    plt.tight_layout()\n",
    "    plt.savefig(outdir / fname)"
   ]
  },
  {
   "cell_type": "markdown",
   "metadata": {},
   "source": [
    "### Subfigure 2a: nofilter"
   ]
  },
  {
   "cell_type": "code",
   "execution_count": null,
   "metadata": {},
   "outputs": [],
   "source": [
    "sub_nofilter = df_enr[\n",
    "    (df_enr['filter'] == 'nofilter') &\n",
    "    (df_enr['TAD_type'] == '20in') &\n",
    "    (df_enr['#border_snp'] > 10)\n",
    "]"
   ]
  },
  {
   "cell_type": "code",
   "execution_count": null,
   "metadata": {},
   "outputs": [],
   "source": [
    "plot_histogram(sub_nofilter, 'pvalue_histogram_nofilter.pdf')"
   ]
  },
  {
   "cell_type": "markdown",
   "metadata": {},
   "source": [
    "### Subfigure 2b: intergenic filter"
   ]
  },
  {
   "cell_type": "code",
   "execution_count": null,
   "metadata": {},
   "outputs": [],
   "source": [
    "sub_intergenic = df_enr[\n",
    "    (df_enr['filter'] == 'intergenic') &\n",
    "    (df_enr['TAD_type'] == '20in') &\n",
    "    (df_enr['#border_snp'] > 10)\n",
    "]"
   ]
  },
  {
   "cell_type": "code",
   "execution_count": null,
   "metadata": {},
   "outputs": [],
   "source": [
    "plot_histogram(sub_intergenic, 'pvalue_histogram_intergenic.pdf')"
   ]
  },
  {
   "cell_type": "markdown",
   "metadata": {},
   "source": [
    "## Figure 3: Zoomed-out multi-dataset overview"
   ]
  },
  {
   "cell_type": "code",
   "execution_count": null,
   "metadata": {},
   "outputs": [],
   "source": [
    "df_enr.head(2)"
   ]
  },
  {
   "cell_type": "code",
   "execution_count": null,
   "metadata": {},
   "outputs": [],
   "source": [
    "%%time\n",
    "\n",
    "df_detailed = (df_enr.groupby(['TAD_type', 'filter', 'tad_source', 'is_cancer', 'diseaseId'])\n",
    "       .apply(lambda x: (x['pval_boundary'] <= .05).mean() > .5)\n",
    "       .to_frame('majority_is_sig')\n",
    "       .reset_index()\n",
    ")\n",
    "\n",
    "df_majority = (df_detailed.drop('diseaseId', axis=1)\n",
    "       .groupby(['TAD_type', 'filter', 'tad_source', 'is_cancer'])['majority_is_sig']\n",
    "       .apply(lambda x: x.mean())\n",
    "       .to_frame('sig_frac')\n",
    "       .reset_index()\n",
    ")\n",
    "df_majority.head()"
   ]
  },
  {
   "cell_type": "code",
   "execution_count": null,
   "metadata": {},
   "outputs": [],
   "source": [
    "def select_one(df, col):\n",
    "    assert df[col].nunique() == 1\n",
    "    return df[col].iloc[0]\n",
    "\n",
    "def compute_pvalue(x, y):\n",
    "    ct = pd.crosstab(x, y)\n",
    "    return fisher_exact(ct)[1]\n",
    "\n",
    "def custom_barplot(*args, **kwargs):\n",
    "    data = kwargs['data']\n",
    "    x = kwargs['x']\n",
    "    y = kwargs['y']\n",
    "    hue = kwargs['hue']\n",
    "    \n",
    "    order = ['nofilter', 'exonic', 'intronic', 'intergenic']\n",
    "    assert set(order) <= set(data[x].unique())\n",
    "    hue_order = data[hue].unique()\n",
    "    \n",
    "    # standard barplot\n",
    "    ax = sns.barplot(*args, **kwargs, order=order, hue_order=hue_order)\n",
    "    \n",
    "    # add annotations\n",
    "    box_pairs = []\n",
    "    pvalues = []\n",
    "    \n",
    "    for filter_ in order:\n",
    "        box_pairs.append(((filter_, False), (filter_, True)))\n",
    "        \n",
    "        # select corresponding detailed data\n",
    "        tad_type = select_one(data, 'TAD_type')\n",
    "        tad_source = select_one(data, 'tad_source')\n",
    "        \n",
    "        sub_detailed = df_detailed[(df_detailed['TAD_type'] == tad_type) & (df_detailed['tad_source'] == tad_source) & (df_detailed['filter'] == filter_)]\n",
    "        \n",
    "        # compute p-value\n",
    "        sub_x = sub_detailed['is_cancer']\n",
    "        sub_y = sub_detailed['majority_is_sig']\n",
    "        pval = compute_pvalue(sub_x, sub_y)\n",
    "        \n",
    "        pvalues.append(pval)\n",
    "            \n",
    "    statannot.add_stat_annotation(\n",
    "        ax, plot='barplot',\n",
    "        data=kwargs['data'], x=kwargs['x'], y=kwargs['y'], hue=kwargs['hue'],\n",
    "        order=order, hue_order=hue_order,\n",
    "        box_pairs=box_pairs,\n",
    "        text_format='simple',\n",
    "        pvalues=pvalues,\n",
    "        perform_stat_test=False\n",
    "    )"
   ]
  },
  {
   "cell_type": "code",
   "execution_count": null,
   "metadata": {},
   "outputs": [],
   "source": [
    "g = sns.FacetGrid(df_majority, row='TAD_type', col='tad_source', height=5, aspect=2)\n",
    "\n",
    "g.map_dataframe(custom_barplot, x='filter', y='sig_frac', hue='is_cancer', palette='tab10')\n",
    "\n",
    "g.set_axis_labels('Filter', 'Disease fraction sig. in $>0.5$ cases')\n",
    "g.add_legend(title='is_cancer')\n",
    "\n",
    "for ax in g.axes.flat:\n",
    "    ax.tick_params(labelbottom=True)\n",
    "\n",
    "g.savefig(outdir / 'dataset_overview.pdf')"
   ]
  },
  {
   "cell_type": "markdown",
   "metadata": {},
   "source": [
    "## Figure 4: multipartite graph"
   ]
  },
  {
   "cell_type": "markdown",
   "metadata": {},
   "source": [
    "## Helper functions"
   ]
  },
  {
   "cell_type": "code",
   "execution_count": null,
   "metadata": {},
   "outputs": [],
   "source": [
    "def assemble_network(df, min_snp_num=1, hub_threshold=0, verbose=False):\n",
    "    # remove hub diseases\n",
    "#     counts = df_data.groupby('diseaseId')['snpId'].nunique().sort_values()\n",
    "#     nonhub_diseases = counts[counts > hub_threshold].index\n",
    "    \n",
    "#     df = df[df['diseaseId'].isin(nonhub_diseases)]\n",
    "    \n",
    "    # transform dataframe to networkx object\n",
    "    graph = nx.from_pandas_edgelist(df, 'diseaseId', 'snpId')\n",
    "    graph.name = 'bipartite graph'\n",
    "    if verbose: print(nx.info(graph))\n",
    "    \n",
    "    # project bipartite graph\n",
    "    graph_proj_multi = nx.bipartite.projected_graph(graph, df['diseaseId'].unique().tolist(), multigraph=True)\n",
    "    graph_proj_multi.name = 'projected multigraph'\n",
    "    if verbose: print(nx.info(graph_proj_multi))\n",
    "    \n",
    "    # remove isolated nodes\n",
    "    if verbose: print('Remove isolated nodes')\n",
    "    graph_proj_multi.remove_nodes_from(list(nx.isolates(graph_proj_multi)))\n",
    "    if verbose: print(nx.info(graph_proj_multi))\n",
    "    \n",
    "    # merge multiple edges in MultiGraph into single edge with weight attribute\n",
    "    graph_proj = nx.Graph()\n",
    "    graph_proj.name = 'projected graph'\n",
    "\n",
    "    for u, v, data in graph_proj_multi.edges(data=True):\n",
    "        w = data.get('weight', 1)\n",
    "        assert w == 1, 'oopsie'\n",
    "\n",
    "        if graph_proj.has_edge(u, v):\n",
    "            graph_proj[u][v]['weight'] += w\n",
    "        else:\n",
    "            graph_proj.add_edge(u, v, weight=w)\n",
    "\n",
    "    if verbose: print(nx.info(graph_proj))\n",
    "    \n",
    "    # subset graph based on SNP count threshold\n",
    "    if verbose: print('Subset graph')\n",
    "    graph_proj = graph_proj.edge_subgraph([(u, v) for u, v, data in graph_proj.edges(data=True) if data['weight'] >= min_snp_num])\n",
    "    if verbose: print(nx.info(graph_proj))\n",
    "    \n",
    "    return graph_proj"
   ]
  },
  {
   "cell_type": "code",
   "execution_count": null,
   "metadata": {},
   "outputs": [],
   "source": [
    "def plot_network(graph):\n",
    "    # graph layout\n",
    "    pos = nx.drawing.nx_agraph.graphviz_layout(graph, prog='neato', args='-Goverlap=scale')\n",
    "    \n",
    "    # node colors\n",
    "    iscancer_map = df_data.set_index('diseaseId').loc[list(graph.nodes())].to_dict()['is_cancer']\n",
    "    node_color_list = ['orange' if iscancer_map[n] else 'blue' for n in graph.nodes()]\n",
    "    \n",
    "    # edge colors\n",
    "#     max_weight = max(nx.get_edge_attributes(graph, 'weight').values())\n",
    "#     edge_color_list = [(0, 0, 0, data['weight'] / max_weight) for u, v, data in graph.edges(data=True)]\n",
    "    edge_color_list = (0, 0, 0, .2)\n",
    "#     edge_color_list = [(0, 0, 0, .5 if data['weight'] > 1 else 0) for u, v, data in graph.edges(data=True)]\n",
    "    \n",
    "    # do plot\n",
    "    nx.draw_networkx_nodes(graph, pos, node_size=20, node_color=node_color_list)\n",
    "    nx.draw_networkx_edges(graph, pos, edge_color=edge_color_list)\n",
    "\n",
    "    plt.axis('off')"
   ]
  },
  {
   "cell_type": "markdown",
   "metadata": {},
   "source": [
    "### Create network"
   ]
  },
  {
   "cell_type": "code",
   "execution_count": null,
   "metadata": {},
   "outputs": [],
   "source": [
    "df_data.head()"
   ]
  },
  {
   "cell_type": "code",
   "execution_count": null,
   "metadata": {},
   "outputs": [],
   "source": [
    "sub_boundary = df_data[(df_data['20in'] == 'boundary')]\n",
    "graph_boundary = assemble_network(sub_boundary, 2)"
   ]
  },
  {
   "cell_type": "code",
   "execution_count": null,
   "metadata": {},
   "outputs": [],
   "source": [
    "sub_nonboundary = df_data[~(df_data['20in'] == 'boundary')]\n",
    "graph_nonboundary = assemble_network(sub_nonboundary, 2)"
   ]
  },
  {
   "cell_type": "markdown",
   "metadata": {},
   "source": [
    "### Plot networks"
   ]
  },
  {
   "cell_type": "code",
   "execution_count": null,
   "metadata": {},
   "outputs": [],
   "source": [
    "plt.figure(figsize=(12, 6))\n",
    "\n",
    "plt.subplot(121)\n",
    "plot_network(graph_nonboundary)\n",
    "plt.title('nonboundary SNPs')\n",
    "\n",
    "plt.subplot(122)\n",
    "plot_network(graph_boundary)\n",
    "plt.title('boundary SNPs')\n",
    "\n",
    "plt.tight_layout()\n",
    "plt.savefig(outdir / 'networks.pdf')"
   ]
  },
  {
   "cell_type": "markdown",
   "metadata": {},
   "source": [
    "## Edge statistics"
   ]
  },
  {
   "cell_type": "code",
   "execution_count": null,
   "metadata": {},
   "outputs": [],
   "source": [
    "def compute_edge_asymmetries(graph):\n",
    "    disease_nodes = list(graph.nodes())\n",
    "    disease_pairs = list(graph.edges())\n",
    "    iscancer_map = df_data.set_index('diseaseId').loc[list(graph.nodes())].to_dict()['is_cancer']\n",
    "    \n",
    "    tmp = dict(collections.Counter([iscancer_map[d] for d in disease_nodes]).most_common())\n",
    "    node_type_counts = {\n",
    "        'cancer': tmp[True],\n",
    "        'noncancer': tmp[False] \n",
    "    }\n",
    "    \n",
    "    tmp = dict(collections.Counter([(iscancer_map[d1], iscancer_map[d2]) for d1, d2 in disease_pairs]).most_common())\n",
    "    edge_type_counts = {\n",
    "        'cancer_pairs': tmp.get((True, True), 0),\n",
    "        'noncancer_pairs': tmp.get((False, False), 0),\n",
    "        'across': tmp.get((True, False), 0) + tmp.get((False, True), 0)\n",
    "    }\n",
    "\n",
    "    cancer_asym = 2 * edge_type_counts['cancer_pairs'] / (node_type_counts['cancer'] * (node_type_counts['cancer'] - 1)) - edge_type_counts['across'] / (node_type_counts['cancer'] * node_type_counts['noncancer'])\n",
    "    noncancer_asym = 2 * edge_type_counts['noncancer_pairs'] / (node_type_counts['noncancer'] * (node_type_counts['noncancer'] - 1)) - edge_type_counts['across'] / (node_type_counts['cancer'] * node_type_counts['noncancer'])\n",
    "    \n",
    "    return (cancer_asym, noncancer_asym)"
   ]
  },
  {
   "cell_type": "code",
   "execution_count": null,
   "metadata": {},
   "outputs": [],
   "source": [
    "sub = df_data[(df_data['20in'] == 'boundary')]\n",
    "\n",
    "tmp = []\n",
    "for thres in trange(1, 10):\n",
    "    graph = assemble_network(sub, thres, hub_threshold=0)\n",
    "    asyms = compute_edge_asymmetries(graph)\n",
    "    \n",
    "    tmp.append({\n",
    "        'threshold': thres,\n",
    "        'cancer_asymmetry': asyms[0],\n",
    "        'noncancer_asymmetry': asyms[1],\n",
    "        'node_count': len(graph.nodes()),\n",
    "        'edge_count': len(graph.edges())\n",
    "    })\n",
    "\n",
    "df_asym_boundary = pd.DataFrame(tmp)\n",
    "df_asym_boundary.head()"
   ]
  },
  {
   "cell_type": "code",
   "execution_count": null,
   "metadata": {},
   "outputs": [],
   "source": [
    "sub = df_data[~(df_data['20in'] == 'boundary')]\n",
    "\n",
    "tmp = []\n",
    "for thres in trange(1, 10):\n",
    "    graph = assemble_network(sub, thres, hub_threshold=0)\n",
    "    asyms = compute_edge_asymmetries(graph)\n",
    "    \n",
    "    tmp.append({\n",
    "        'threshold': thres,\n",
    "        'cancer_asymmetry': asyms[0],\n",
    "        'noncancer_asymmetry': asyms[1],\n",
    "        'node_count': len(graph.nodes()),\n",
    "        'edge_count': len(graph.edges())\n",
    "    })\n",
    "\n",
    "df_asym_nonboundary = pd.DataFrame(tmp)\n",
    "df_asym_nonboundary.head()"
   ]
  },
  {
   "cell_type": "code",
   "execution_count": null,
   "metadata": {},
   "outputs": [],
   "source": [
    "df_asym_boundary['type'] = 'boundary'\n",
    "df_asym_nonboundary['type'] = 'nonboundary'\n",
    "\n",
    "df_long = pd.melt(pd.concat([df_asym_boundary, df_asym_nonboundary]), id_vars=['threshold', 'type'])\n",
    "df_long.head()"
   ]
  },
  {
   "cell_type": "code",
   "execution_count": null,
   "metadata": {},
   "outputs": [],
   "source": [
    "plt.figure(figsize=(8, 6))\n",
    "\n",
    "sns.lineplot(x='threshold', y='value', hue='variable', style='type', data=df_long, hue_order=['noncancer_asymmetry', 'cancer_asymmetry'])\n",
    "\n",
    "plt.tight_layout()\n",
    "plt.savefig(outdir / 'edge_asymmetries.pdf')"
   ]
  },
  {
   "cell_type": "code",
   "execution_count": null,
   "metadata": {},
   "outputs": [],
   "source": [
    "plt.figure(figsize=(8, 6))\n",
    "sns.lineplot(x='threshold', y='value', hue='variable', style='type', data=df_long, hue_order=['node_count', 'edge_count'])"
   ]
  },
  {
   "cell_type": "code",
   "execution_count": null,
   "metadata": {},
   "outputs": [],
   "source": [
    "# compute\n",
    "df_quotient = pd.DataFrame({\n",
    "    'threshold': df_asym_boundary.loc[df_asym_boundary.index, 'threshold'],\n",
    "    'noncancer_quotient': df_asym_boundary.loc[df_asym_boundary.index, 'noncancer_asymmetry'] / df_asym_nonboundary.loc[df_asym_boundary.index, 'noncancer_asymmetry'],\n",
    "    'cancer_quotient': df_asym_boundary.loc[df_asym_boundary.index, 'cancer_asymmetry'] / df_asym_nonboundary.loc[df_asym_boundary.index, 'cancer_asymmetry']\n",
    "})\n",
    "\n",
    "# plot\n",
    "plt.figure(figsize=(8, 6))\n",
    "\n",
    "sns.lineplot(x='threshold', y='value', hue='variable', data=pd.melt(df_quotient, id_vars='threshold'), hue_order=['noncancer_quotient', 'cancer_quotient'])\n",
    "plt.axhline(1, color='red', ls='dashed')\n",
    "\n",
    "plt.tight_layout()\n",
    "plt.savefig(outdir / 'edge_asymmetry_quotients.pdf')"
   ]
  },
  {
   "cell_type": "markdown",
   "metadata": {},
   "source": [
    "# Miscellaneous Figures"
   ]
  },
  {
   "cell_type": "markdown",
   "metadata": {},
   "source": [
    "## SNP associations to Cancer and Non-Cancer"
   ]
  },
  {
   "cell_type": "code",
   "execution_count": null,
   "metadata": {},
   "outputs": [],
   "source": [
    "df_data.head()"
   ]
  },
  {
   "cell_type": "code",
   "execution_count": null,
   "metadata": {},
   "outputs": [],
   "source": [
    "%%time\n",
    "\n",
    "tmp_sub = df_data.loc[:, ['diseaseId', 'snpId', 'is_cancer']].drop_duplicates().dropna()\n",
    "tmp_sub['is_cancer_shuffled'] = np.random.permutation(tmp_sub['is_cancer'].values)\n",
    "\n",
    "df_cancercounts = (tmp_sub.groupby('snpId')['is_cancer']\n",
    "                          .apply(lambda x: pd.Series(\n",
    "                              [x.tolist().count(False), x.tolist().count(True)],\n",
    "                              index=['noncancer_count', 'cancer_count']))\n",
    "                          .unstack())\n",
    "df_cancercountsshuffled = (tmp_sub.groupby('snpId')['is_cancer_shuffled']\n",
    "                                  .apply(lambda x: pd.Series(\n",
    "                                      [x.tolist().count(False), x.tolist().count(True)],\n",
    "                                      index=['noncancer_count', 'cancer_count']))\n",
    "                                  .unstack())"
   ]
  },
  {
   "cell_type": "code",
   "execution_count": null,
   "metadata": {},
   "outputs": [],
   "source": [
    "df_cancercounts.head()"
   ]
  },
  {
   "cell_type": "code",
   "execution_count": null,
   "metadata": {},
   "outputs": [],
   "source": [
    "plt.figure(figsize=(2*8, 6))\n",
    "\n",
    "plt.subplot(121)\n",
    "sns.scatterplot(x='cancer_count', y='noncancer_count', data=df_cancercounts, alpha=.2)\n",
    "plt.title('observed')\n",
    "\n",
    "plt.subplot(122)\n",
    "sns.scatterplot(x='cancer_count', y='noncancer_count', data=df_cancercountsshuffled, alpha=.2)\n",
    "plt.title('shuffled')"
   ]
  }
 ],
 "metadata": {
  "kernelspec": {
   "display_name": "Python 3",
   "language": "python",
   "name": "python3"
  },
  "language_info": {
   "codemirror_mode": {
    "name": "ipython",
    "version": 3
   },
   "file_extension": ".py",
   "mimetype": "text/x-python",
   "name": "python",
   "nbconvert_exporter": "python",
   "pygments_lexer": "ipython3",
   "version": "3.7.7"
  },
  "toc-autonumbering": false
 },
 "nbformat": 4,
 "nbformat_minor": 4
}
