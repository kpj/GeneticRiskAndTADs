{
 "cells": [
  {
   "cell_type": "code",
   "execution_count": null,
   "metadata": {},
   "outputs": [],
   "source": [
    "import collections\n",
    "from pathlib import Path\n",
    "\n",
    "import numpy as np\n",
    "import pandas as pd\n",
    "import networkx as nx\n",
    "import pyranges as pr\n",
    "\n",
    "from scipy import ndimage, stats\n",
    "from scipy.stats import fisher_exact\n",
    "\n",
    "import statannot\n",
    "from statannot.statannot import simple_text, pval_annotation_text\n",
    "\n",
    "import seaborn as sns\n",
    "import matplotlib.pyplot as plt\n",
    "from adjustText import adjust_text\n",
    "\n",
    "import matplotlib.transforms as tx\n",
    "from matplotlib.lines import Line2D\n",
    "from matplotlib.patches import Patch\n",
    "from matplotlib.colors import SymLogNorm\n",
    "from matplotlib.gridspec import GridSpec\n",
    "from matplotlib.collections import LineCollection\n",
    "\n",
    "import cooler\n",
    "\n",
    "from natsort import natsorted\n",
    "from tqdm.auto import tqdm, trange\n",
    "\n",
    "from bioinf_common.tools import multipletests_nan\n",
    "from bioinf_common.plotting import add_identity"
   ]
  },
  {
   "cell_type": "code",
   "execution_count": null,
   "metadata": {},
   "outputs": [],
   "source": [
    "sns.set_context('talk')\n",
    "pd.set_option('display.max_columns', None)"
   ]
  },
  {
   "cell_type": "markdown",
   "metadata": {},
   "source": [
    "# Parameters"
   ]
  },
  {
   "cell_type": "code",
   "execution_count": null,
   "metadata": {},
   "outputs": [],
   "source": [
    "fname_data = snakemake.input.fname_data\n",
    "fname_enr = snakemake.input.fname_enr\n",
    "\n",
    "sketch_hicfile = snakemake.input.sketch_hicfile\n",
    "sketch_tadfile = snakemake.input.sketch_tadfile\n",
    "\n",
    "sketch_region = snakemake.config['sketch']['region']\n",
    "\n",
    "outdir = Path(snakemake.output.outdir)"
   ]
  },
  {
   "cell_type": "code",
   "execution_count": null,
   "metadata": {},
   "outputs": [],
   "source": [
    "outdir.mkdir(parents=True, exist_ok=True)"
   ]
  },
  {
   "cell_type": "markdown",
   "metadata": {},
   "source": [
    "# Load data"
   ]
  },
  {
   "cell_type": "markdown",
   "metadata": {},
   "source": [
    "## Database data"
   ]
  },
  {
   "cell_type": "code",
   "execution_count": null,
   "metadata": {},
   "outputs": [],
   "source": [
    "df_data = pd.read_csv(fname_data, low_memory=True)\n",
    "df_data.head()"
   ]
  },
  {
   "cell_type": "code",
   "execution_count": null,
   "metadata": {},
   "outputs": [],
   "source": [
    "iscancer_map = df_data.drop_duplicates(subset=['diseaseId']).set_index('diseaseId').to_dict()['is_cancer']"
   ]
  },
  {
   "cell_type": "markdown",
   "metadata": {},
   "source": [
    "## Enrichment data"
   ]
  },
  {
   "cell_type": "code",
   "execution_count": null,
   "metadata": {},
   "outputs": [],
   "source": [
    "df_enr = pd.read_csv(fname_enr, low_memory=True)"
   ]
  },
  {
   "cell_type": "code",
   "execution_count": null,
   "metadata": {},
   "outputs": [],
   "source": [
    "max_enrichment = 16\n",
    "df_enr['pval_border_trans'] = df_enr['pval_border'].apply(lambda x: max_enrichment if x == 0 else -np.log10(x))\n",
    "df_enr['pval_border__notcorrected_trans'] = df_enr['pval_border__notcorrected'].apply(lambda x: max_enrichment if x == 0 else -np.log10(x))"
   ]
  },
  {
   "cell_type": "code",
   "execution_count": null,
   "metadata": {},
   "outputs": [],
   "source": [
    "df_enr.head()"
   ]
  },
  {
   "cell_type": "markdown",
   "metadata": {},
   "source": [
    "# Publication Figures"
   ]
  },
  {
   "cell_type": "markdown",
   "metadata": {},
   "source": [
    "## Figure 1: Overview Sketch"
   ]
  },
  {
   "cell_type": "markdown",
   "metadata": {},
   "source": [
    "### Read contact matrix"
   ]
  },
  {
   "cell_type": "code",
   "execution_count": null,
   "metadata": {},
   "outputs": [],
   "source": [
    "c = cooler.Cooler(sketch_hicfile)\n",
    "\n",
    "mat = c.matrix(balance=False).fetch(sketch_region)\n",
    "df_bins = c.bins().fetch(sketch_region)\n",
    "\n",
    "df_mat = pd.DataFrame(mat, index=df_bins['start'], columns=df_bins['start'])"
   ]
  },
  {
   "cell_type": "code",
   "execution_count": null,
   "metadata": {},
   "outputs": [],
   "source": [
    "df_mat.head()"
   ]
  },
  {
   "cell_type": "markdown",
   "metadata": {},
   "source": [
    "### Read TADs"
   ]
  },
  {
   "cell_type": "code",
   "execution_count": null,
   "metadata": {},
   "outputs": [],
   "source": [
    "df_tads = pr.PyRanges(pd.read_csv(sketch_tadfile).rename(columns={'chrname': 'Chromosome', 'tad_start': 'Start', 'tad_stop': 'End'}))\n",
    "df_tads.head()"
   ]
  },
  {
   "cell_type": "code",
   "execution_count": null,
   "metadata": {},
   "outputs": [],
   "source": [
    "df_region = pr.PyRanges(pd.DataFrame({\n",
    "    'Chromosome': [sketch_region[0]],\n",
    "    'Start': [sketch_region[1]],\n",
    "    'End': [sketch_region[2]]\n",
    "}))\n",
    "df_region"
   ]
  },
  {
   "cell_type": "code",
   "execution_count": null,
   "metadata": {},
   "outputs": [],
   "source": [
    "tad_list = df_tads.overlap(df_region)\n",
    "# tad_list = tad_list[(tad_list.Start >= sketch_region[1]) & (tad_list.End <= sketch_region[2])]\n",
    "tad_list"
   ]
  },
  {
   "cell_type": "markdown",
   "metadata": {},
   "source": [
    "#### Find TAD boundaries"
   ]
  },
  {
   "cell_type": "code",
   "execution_count": null,
   "metadata": {},
   "outputs": [],
   "source": [
    "border_size = -20_000\n",
    "\n",
    "def get_boundaries(df):\n",
    "    tmp_front = df.copy()\n",
    "    tmp_front.loc[:, 'End'] = tmp_front.Start - border_size\n",
    "    tmp_front['type'] = 'front'\n",
    "    \n",
    "    tmp_back = df.copy()\n",
    "    tmp_back.loc[:, 'Start'] = tmp_back.End + border_size\n",
    "    tmp_back['type'] = 'back'\n",
    "\n",
    "    return pd.concat([tmp_front, tmp_back])"
   ]
  },
  {
   "cell_type": "code",
   "execution_count": null,
   "metadata": {},
   "outputs": [],
   "source": [
    "border_list = tad_list.apply(get_boundaries).overlap(df_region)\n",
    "border_list"
   ]
  },
  {
   "cell_type": "markdown",
   "metadata": {},
   "source": [
    "### Read SNPs"
   ]
  },
  {
   "cell_type": "code",
   "execution_count": null,
   "metadata": {},
   "outputs": [],
   "source": [
    "tmp = df_data[['chromosome_hg19', 'position_hg19', 'snpId']].drop_duplicates().dropna().copy().rename(columns={'chromosome_hg19': 'Chromosome', 'position_hg19': 'Start'})\n",
    "tmp['Chromosome'] = 'chr' + tmp['Chromosome'].astype(str)\n",
    "tmp['End'] = tmp['Start'] + 1\n",
    "\n",
    "df_snps = pr.PyRanges(tmp)\n",
    "df_snps"
   ]
  },
  {
   "cell_type": "code",
   "execution_count": null,
   "metadata": {},
   "outputs": [],
   "source": [
    "# find SNPs in TAD borders\n",
    "snp_list = df_snps.overlap(border_list)\n",
    "snp_list"
   ]
  },
  {
   "cell_type": "code",
   "execution_count": null,
   "metadata": {},
   "outputs": [],
   "source": [
    "# classify SNPs\n",
    "def classify(x):\n",
    "    return x['is_cancer'].value_counts().idxmax()\n",
    "\n",
    "snp_cancer_map = df_data[['diseaseId', 'snpId', 'is_cancer']].drop_duplicates().dropna().groupby('snpId').apply(classify).to_dict()\n",
    "list(snp_cancer_map.items())[:2]"
   ]
  },
  {
   "cell_type": "markdown",
   "metadata": {},
   "source": [
    "### Create plot"
   ]
  },
  {
   "cell_type": "code",
   "execution_count": null,
   "metadata": {},
   "outputs": [],
   "source": [
    "# rotate contact matrix\n",
    "mat_rot = ndimage.rotate(df_mat, 45, order=0, reshape=True, cval=0, prefilter=False)\n",
    "\n",
    "# create figure\n",
    "s = 2\n",
    "fig = plt.figure(figsize=(s*8, s*8))\n",
    "\n",
    "# main plot\n",
    "ax_main = plt.gca()\n",
    "\n",
    "# plot rotated contact matrix\n",
    "plotted_mat = ax_main.matshow(\n",
    "    mat_rot,\n",
    "    norm=SymLogNorm(1),\n",
    "    cmap='YlOrRd',\n",
    "    origin='lower',\n",
    "    extent=(\n",
    "        df_mat.index[0] + .5, df_mat.index[-1] + .5,\n",
    "        df_mat.index[0] + .5, df_mat.index[-1] + .5\n",
    "    ),\n",
    "    aspect='equal'\n",
    ")\n",
    "\n",
    "# contact colorbar\n",
    "ax_colobar = ax_main.inset_axes([.9, .6, .025, .3])\n",
    "plt.colorbar(plotted_mat, cax=ax_colobar)\n",
    "ax_colobar.set_ylabel('Contacts', rotation=90)\n",
    "\n",
    "# adjust axes\n",
    "center_height = (df_mat.index[0] + df_mat.index[-1]) / 2 + .5\n",
    "ax_main.set_ylim(center_height, df_mat.index[-1] + .5)\n",
    "\n",
    "ax_main.set_xlabel(sketch_region[0])\n",
    "ax_main.xaxis.set_label_position('top') \n",
    "ax_main.set_xlim(df_mat.index[0], df_mat.index[-1])\n",
    "\n",
    "ax_main.tick_params(\n",
    "    axis='both',\n",
    "    reset=True,\n",
    "    which='both',\n",
    "    top=True, labeltop=True,\n",
    "    right=False, labelright=False,\n",
    "    left=False, labelleft=False,\n",
    "    bottom=False, labelbottom=False,\n",
    ")\n",
    "\n",
    "ax_main.ticklabel_format(axis='both', style='plain')\n",
    "\n",
    "# highlight TADs\n",
    "for row in tad_list.df.itertuples():\n",
    "    tmp = np.sin(np.deg2rad(90)) * (row.End - row.Start) / 2\n",
    "\n",
    "    pg = plt.Polygon([\n",
    "        [row.Start, center_height], \n",
    "        [(row.Start + row.End) / 2, center_height + tmp], \n",
    "        [row.End, center_height]\n",
    "    ], edgecolor='black', facecolor='none')\n",
    "    ax_main.add_patch(pg)\n",
    "\n",
    "# highlight TAD boundaries\n",
    "for row in border_list.df.itertuples():\n",
    "    tmp = np.tan(np.deg2rad(45)) * (row.End - row.Start)\n",
    "\n",
    "    pg = plt.Polygon([\n",
    "        [row.Start, center_height], \n",
    "        [row.End if row.type == 'front' else row.Start, center_height + tmp], \n",
    "        [row.End, center_height]\n",
    "    ], edgecolor='black', facecolor='gray', alpha=.6)\n",
    "    ax_main.add_patch(pg)\n",
    "    \n",
    "# auxiliary plot\n",
    "ax_height = .3\n",
    "ax_aux = ax_main.inset_axes([0, -ax_height, 1, ax_height])\n",
    "\n",
    "ax_main.get_shared_x_axes().join(ax_main, ax_aux)\n",
    "ax_aux.set_xlim(df_mat.index[0], df_mat.index[-1])\n",
    "    \n",
    "# highlight SNPs\n",
    "dash_style = (0, (5, 5))\n",
    "\n",
    "snp_pos = snp_list.df['Start']\n",
    "snp_colors = 'black' #['orange' if snp_cancer_map[s] else 'blue' for s in snp_list.df['snpId']]\n",
    "snp_ls = ['solid' if snp_cancer_map[s] else dash_style for s in snp_list.df['snpId']]\n",
    "\n",
    "trans = tx.blended_transform_factory(ax_aux.transData, ax_aux.transAxes)\n",
    "xy_pairs = np.column_stack([np.repeat(snp_pos, 2), np.tile([.8, 1], len(snp_pos))])\n",
    "\n",
    "line_segs = xy_pairs.reshape([len(snp_pos), 2, 2])\n",
    "ax_aux.add_collection(LineCollection(line_segs, transform=trans, colors=snp_colors, ls=snp_ls))\n",
    "\n",
    "ax_aux.axis('off')\n",
    "\n",
    "annotation_list = []\n",
    "for row in snp_list.df.itertuples():\n",
    "    pos = row.Start\n",
    "    id_ = row.snpId\n",
    "\n",
    "    linestyle = 'solid' if snp_cancer_map[id_] else dash_style\n",
    "\n",
    "    a = ax_aux.annotate(\n",
    "        id_,\n",
    "        xy=(pos, .8), xytext=(pos, .5),\n",
    "        xycoords=('data', 'axes fraction'), textcoords=('data', 'axes fraction'),\n",
    "        arrowprops=dict(arrowstyle='-', linestyle=linestyle),\n",
    "        annotation_clip=False,\n",
    "        fontsize=13)\n",
    "    annotation_list.append(a)\n",
    "\n",
    "adjust_text(annotation_list, ax=ax_aux)\n",
    "\n",
    "# save figure\n",
    "plt.tight_layout()\n",
    "plt.savefig(outdir / 'figure1.pdf')"
   ]
  },
  {
   "cell_type": "markdown",
   "metadata": {
    "toc-hr-collapsed": false
   },
   "source": [
    "## Figure 2: p-value Histogram for nice case"
   ]
  },
  {
   "cell_type": "markdown",
   "metadata": {},
   "source": [
    "### Helper functions"
   ]
  },
  {
   "cell_type": "code",
   "execution_count": null,
   "metadata": {},
   "outputs": [],
   "source": [
    "def plot_histogram(df, ax=None, bins=np.linspace(0, 4, 50), column_name='pval_border_trans'):\n",
    "    ax = ax if ax is not None else plt.gca()\n",
    "\n",
    "    sns.histplot(\n",
    "        data=df,\n",
    "        x=column_name, hue='is_cancer',\n",
    "        stat='density', common_norm=False,\n",
    "        bins=bins, element='step',\n",
    "        ax=ax)\n",
    "\n",
    "    ax.axvline(x=-np.log10(.05), ls='dashed', color='red')\n",
    "    \n",
    "    ax.set_xlabel(r'$-log_{10}(\\mathrm{pvalue})$')\n",
    "    ax.set_ylabel('Density')"
   ]
  },
  {
   "cell_type": "code",
   "execution_count": null,
   "metadata": {},
   "outputs": [],
   "source": [
    "def plot_histogram_difference(df, ax=None, bins=np.linspace(0, 4, 50)):\n",
    "    # compute histogram difference\n",
    "    hist_cancer, bin_edges = np.histogram(df.loc[df['is_cancer'], 'pval_border_trans'], bins=bins, density=True)\n",
    "    hist_noncancer, _ = np.histogram(df.loc[~df['is_cancer'], 'pval_border_trans'], bins=bins, density=True)\n",
    "    \n",
    "    hist_diff = hist_cancer - hist_noncancer\n",
    "    bin_edge_list = [round(n, 2) for n in bin_edges[1:]]\n",
    "    \n",
    "    # plot\n",
    "    ax = ax if ax is not None else plt.gca()\n",
    "\n",
    "    markerline, stemline, baseline = ax.stem(\n",
    "        bin_edge_list, hist_diff,\n",
    "        basefmt='grey', linefmt='k', markerfmt='ok',\n",
    "        use_line_collection=True\n",
    "    )\n",
    "    markerline.set_markersize(5)\n",
    "\n",
    "    ax.axvline(-np.log10(.05), ls='dashed', color='red')\n",
    "\n",
    "    ax.set_xlabel(r'$-log_{10}(\\mathrm{pvalue})$')\n",
    "    ax.set_ylabel('Difference (Cancer $-$ Non-cancer)')"
   ]
  },
  {
   "cell_type": "markdown",
   "metadata": {},
   "source": [
    "### Compute extra multiple correction values"
   ]
  },
  {
   "cell_type": "code",
   "execution_count": null,
   "metadata": {},
   "outputs": [],
   "source": [
    "%%time\n",
    "df_newcorrection = df_enr.groupby(['filter', 'TAD_type', 'tad_source', 'window_size'])[['pval_border__notcorrected']].transform(multipletests_nan)\n",
    "df_newcorrection.head()"
   ]
  },
  {
   "cell_type": "code",
   "execution_count": null,
   "metadata": {},
   "outputs": [],
   "source": [
    "df_enr['pval_border__jointmultipletesting'] = df_newcorrection['pval_border__notcorrected']\n",
    "df_enr['pval_border__jointmultipletesting_trans'] = df_enr['pval_border__jointmultipletesting'].apply(lambda x: max_enrichment if x == 0 else -np.log10(x))"
   ]
  },
  {
   "cell_type": "markdown",
   "metadata": {},
   "source": [
    "### Main figures: nofilter"
   ]
  },
  {
   "cell_type": "markdown",
   "metadata": {},
   "source": [
    "#### Subfigure 2a: nofilter"
   ]
  },
  {
   "cell_type": "code",
   "execution_count": null,
   "metadata": {},
   "outputs": [],
   "source": [
    "sub_nofilter = df_enr[\n",
    "    (df_enr['filter'] == 'nofilter') &\n",
    "    (df_enr['TAD_type'] == '20in') &\n",
    "#     (df_enr['window_size'].isin([8,9,10,11,12])) &\n",
    "    (df_enr['tad_source'].str.contains('Rao2014')) & (df_enr['tad_source'].str.contains('10kb')) &\n",
    "    (df_enr['#snp'] >= 1)\n",
    "]"
   ]
  },
  {
   "cell_type": "code",
   "execution_count": null,
   "metadata": {},
   "outputs": [],
   "source": [
    "stats.mannwhitneyu(sub_nofilter.loc[sub_nofilter['is_cancer'], 'pval_border'], sub_nofilter.loc[~sub_nofilter['is_cancer'], 'pval_border'])"
   ]
  },
  {
   "cell_type": "code",
   "execution_count": null,
   "metadata": {},
   "outputs": [],
   "source": [
    "plt.figure(figsize=(8, 6))\n",
    "plot_histogram(sub_nofilter)"
   ]
  },
  {
   "cell_type": "markdown",
   "metadata": {},
   "source": [
    "### Supplementary figures: nofilter"
   ]
  },
  {
   "cell_type": "markdown",
   "metadata": {},
   "source": [
    "#### Supplementary subfigure 3a: nofilter"
   ]
  },
  {
   "cell_type": "code",
   "execution_count": null,
   "metadata": {},
   "outputs": [],
   "source": [
    "plt.figure(figsize=(8, 6))\n",
    "plot_histogram_difference(sub_nofilter)"
   ]
  },
  {
   "cell_type": "markdown",
   "metadata": {},
   "source": [
    "#### Supplementary subfigure 4a: nofilter"
   ]
  },
  {
   "cell_type": "code",
   "execution_count": null,
   "metadata": {},
   "outputs": [],
   "source": [
    "fig = plt.figure(figsize=(2*8, 6))\n",
    "gs = fig.add_gridspec(nrows=1, ncols=2)\n",
    "\n",
    "ax = fig.add_subplot(gs[0, 0])\n",
    "plot_histogram(sub_nofilter, column_name='pval_border__notcorrected_trans')\n",
    "ax.set_title('No multiple testing correction')\n",
    "\n",
    "ax = fig.add_subplot(gs[0, 1])\n",
    "plot_histogram(sub_nofilter, column_name='pval_border__jointmultipletesting_trans')\n",
    "ax.set_title('Joint multiple testing correction')"
   ]
  },
  {
   "cell_type": "markdown",
   "metadata": {},
   "source": [
    "### Main figures: intergenic"
   ]
  },
  {
   "cell_type": "markdown",
   "metadata": {},
   "source": [
    "#### Subfigure 2b: intergenic filter"
   ]
  },
  {
   "cell_type": "code",
   "execution_count": null,
   "metadata": {},
   "outputs": [],
   "source": [
    "sub_intergenic = df_enr[\n",
    "    (df_enr['filter'] == 'intergenic') &\n",
    "    (df_enr['TAD_type'] == '20in') &\n",
    "#     (df_enr['window_size'].isin([8,9,10,11,12])) &\n",
    "    (df_enr['tad_source'].str.contains('Rao2014')) & (df_enr['tad_source'].str.contains('10kb')) &\n",
    "    (df_enr['#snp'] >= 1)\n",
    "]"
   ]
  },
  {
   "cell_type": "code",
   "execution_count": null,
   "metadata": {},
   "outputs": [],
   "source": [
    "stats.mannwhitneyu(sub_intergenic.loc[sub_intergenic['is_cancer'], 'pval_border'], sub_intergenic.loc[~sub_intergenic['is_cancer'], 'pval_border'])"
   ]
  },
  {
   "cell_type": "code",
   "execution_count": null,
   "metadata": {},
   "outputs": [],
   "source": [
    "plt.figure(figsize=(8, 6))\n",
    "plot_histogram(sub_intergenic)"
   ]
  },
  {
   "cell_type": "markdown",
   "metadata": {},
   "source": [
    "### Supplementary figures: intergenic"
   ]
  },
  {
   "cell_type": "markdown",
   "metadata": {},
   "source": [
    "#### Supplementary subfigure 3b: intergenic"
   ]
  },
  {
   "cell_type": "code",
   "execution_count": null,
   "metadata": {},
   "outputs": [],
   "source": [
    "plt.figure(figsize=(8, 6))\n",
    "plot_histogram_difference(sub_intergenic)"
   ]
  },
  {
   "cell_type": "markdown",
   "metadata": {},
   "source": [
    "#### Supplementary subfigure 4b: intergenic"
   ]
  },
  {
   "cell_type": "code",
   "execution_count": null,
   "metadata": {},
   "outputs": [],
   "source": [
    "fig = plt.figure(figsize=(2*8, 6))\n",
    "gs = fig.add_gridspec(nrows=1, ncols=2)\n",
    "\n",
    "ax = fig.add_subplot(gs[0, 0])\n",
    "plot_histogram(sub_intergenic, column_name='pval_border__notcorrected_trans')\n",
    "ax.set_title('No multiple testing correction')\n",
    "\n",
    "ax = fig.add_subplot(gs[0, 1])\n",
    "plot_histogram(sub_intergenic, column_name='pval_border__jointmultipletesting_trans')\n",
    "ax.set_title('Joint multiple testing correction')"
   ]
  },
  {
   "cell_type": "markdown",
   "metadata": {},
   "source": [
    "### Panel figure"
   ]
  },
  {
   "cell_type": "code",
   "execution_count": null,
   "metadata": {},
   "outputs": [],
   "source": [
    "fig = plt.figure(figsize=(4*4, 4*3))\n",
    "gs = fig.add_gridspec(nrows=2, ncols=2)\n",
    "\n",
    "ax = fig.add_subplot(gs[0, 0])\n",
    "plot_histogram(sub_nofilter, ax)\n",
    "ax.set_title('nofilter')\n",
    "\n",
    "ax = fig.add_subplot(gs[0, 1])\n",
    "plot_histogram(sub_intergenic, ax)\n",
    "ax.set_title('intergenic')\n",
    "\n",
    "ax = fig.add_subplot(gs[1, 0])\n",
    "plot_histogram_difference(sub_nofilter, ax)\n",
    "\n",
    "ax = fig.add_subplot(gs[1, 1])\n",
    "plot_histogram_difference(sub_intergenic, ax)\n",
    "\n",
    "plt.tight_layout()\n",
    "plt.savefig(outdir / 'figure2.pdf')"
   ]
  },
  {
   "cell_type": "markdown",
   "metadata": {},
   "source": [
    "## Figure 3: Zoomed-out multi-dataset overview"
   ]
  },
  {
   "cell_type": "code",
   "execution_count": null,
   "metadata": {},
   "outputs": [],
   "source": [
    "df_enr.head(2)"
   ]
  },
  {
   "cell_type": "markdown",
   "metadata": {},
   "source": [
    "### Parameter combinations"
   ]
  },
  {
   "cell_type": "code",
   "execution_count": null,
   "metadata": {},
   "outputs": [],
   "source": [
    "fraction_threshold = .5\n",
    "\n",
    "window_size_list = df_enr['window_size'].unique()\n",
    "snp_count_threshold_list = [0, 2, 5, 7, 10, 15, 20, 30, 40, 50]"
   ]
  },
  {
   "cell_type": "code",
   "execution_count": null,
   "metadata": {},
   "outputs": [],
   "source": [
    "def helper_function(x):\n",
    "    assert x.shape[0] == 1\n",
    "    return x.iloc[0] <= .05"
   ]
  },
  {
   "cell_type": "code",
   "execution_count": null,
   "metadata": {},
   "outputs": [],
   "source": [
    "%%time\n",
    "\n",
    "df_list_detailed = []\n",
    "for snp_threshold in tqdm(snp_count_threshold_list):\n",
    "    for window_size in tqdm(window_size_list):\n",
    "        sub = df_enr[(df_enr['#snp'] >= snp_threshold) & (df_enr['window_size'] == window_size)]\n",
    "\n",
    "        tmp_detailed = (sub.groupby(['TAD_type', 'filter', 'tad_source', 'is_cancer', 'diseaseId'])['pval_border']\n",
    "               .apply(helper_function)\n",
    "               .to_frame('majority_is_sig')\n",
    "               .reset_index()\n",
    "        )\n",
    "\n",
    "        tmp_detailed['snp_threshold'] = snp_threshold\n",
    "        tmp_detailed['window_size'] = window_size\n",
    "        \n",
    "        df_list_detailed.append(tmp_detailed)\n",
    "    \n",
    "df_detailed = pd.concat(df_list_detailed)\n",
    "df_detailed.head()"
   ]
  },
  {
   "cell_type": "code",
   "execution_count": null,
   "metadata": {},
   "outputs": [],
   "source": [
    "df_detailed.to_csv(outdir / 'snpthreshold_data.csv.gz', index=False)"
   ]
  },
  {
   "cell_type": "markdown",
   "metadata": {},
   "source": [
    "### Majority vote over window sizes"
   ]
  },
  {
   "cell_type": "code",
   "execution_count": null,
   "metadata": {},
   "outputs": [],
   "source": [
    "fraction_threshold = .5"
   ]
  },
  {
   "cell_type": "code",
   "execution_count": null,
   "metadata": {},
   "outputs": [],
   "source": [
    "%%time\n",
    "\n",
    "sub = df_enr[\n",
    "    (df_enr['#snp'] >= 0) &\n",
    "    (~df_enr['window_size'].isin([0, 1]))\n",
    "]\n",
    "\n",
    "df_majority = (sub.groupby(['TAD_type', 'filter', 'tad_source', 'is_cancer', 'diseaseId'])\n",
    "       .apply(lambda x: (x['pval_border'] <= .05).mean() > fraction_threshold)\n",
    "       .to_frame('majority_is_sig')\n",
    "       .reset_index()\n",
    ")\n",
    "df_majority.head()"
   ]
  },
  {
   "cell_type": "code",
   "execution_count": null,
   "metadata": {},
   "outputs": [],
   "source": [
    "df_majority.to_csv(outdir / 'majorityvote_data.csv.gz', index=False)"
   ]
  },
  {
   "cell_type": "markdown",
   "metadata": {},
   "source": [
    "## Cancer vs Non-cancer"
   ]
  },
  {
   "cell_type": "markdown",
   "metadata": {},
   "source": [
    "### Helper functions"
   ]
  },
  {
   "cell_type": "code",
   "execution_count": null,
   "metadata": {},
   "outputs": [],
   "source": [
    "def select_one(df, col):\n",
    "    assert df[col].nunique() == 1\n",
    "    return df[col].iloc[0]"
   ]
  },
  {
   "cell_type": "code",
   "execution_count": null,
   "metadata": {},
   "outputs": [],
   "source": [
    "def compute_pvalue(x, y):\n",
    "    ct = pd.crosstab(x, y)\n",
    "    \n",
    "    if ct.shape != (2, 2):\n",
    "        print(f'Warning: invalid contingency table: {ct}')\n",
    "        return np.nan\n",
    "        \n",
    "    return fisher_exact(ct)[1]"
   ]
  },
  {
   "cell_type": "code",
   "execution_count": null,
   "metadata": {},
   "outputs": [],
   "source": [
    "def custom_barplot(*args, order=None, additional_varying_columns=None, ax=None, **kwargs):\n",
    "    # initial setup\n",
    "    data = kwargs['data']\n",
    "    x = kwargs['x']\n",
    "\n",
    "    if order is None:\n",
    "        order = natsorted(data[x].unique())\n",
    "\n",
    "    assert set(order) <= set(data[x].unique())\n",
    "    \n",
    "    # make sure data all required columns are constant (i.e. grouping has worked)\n",
    "    additional_varying_columns = additional_varying_columns if additional_varying_columns is not None else set()\n",
    "    \n",
    "    varying_columns = {x, 'is_cancer', 'diseaseId', 'majority_is_sig', *additional_varying_columns}\n",
    "    for col in set(data.columns) - varying_columns:\n",
    "        assert data[col].nunique() == 1, col\n",
    "    \n",
    "    # compute fraction\n",
    "    data_agg = (data.groupby([x, 'is_cancer'])['majority_is_sig']\n",
    "           .apply(lambda x: x.mean())\n",
    "           .to_frame('sig_frac')\n",
    "           .reset_index()\n",
    "    )\n",
    "    \n",
    "    # standard barplot\n",
    "    ax = sns.barplot(\n",
    "        data=data_agg,\n",
    "        x=x, y='sig_frac', hue='is_cancer',\n",
    "        palette='tab10',\n",
    "        order=order, hue_order=[False, True],\n",
    "        ax=ax)\n",
    "    \n",
    "    # add annotations\n",
    "    box_pairs = []\n",
    "    pvalues = []\n",
    "    text_annot_custom = []\n",
    "    \n",
    "    for order_value in order:\n",
    "        box_pairs.append(((order_value, False), (order_value, True)))\n",
    "\n",
    "        # subset data\n",
    "        sub = data[data[x] == order_value]\n",
    "    \n",
    "        # compute p-value\n",
    "        sub_x = sub['is_cancer']\n",
    "        sub_y = sub['majority_is_sig']\n",
    "        pval = compute_pvalue(sub_x, sub_y)\n",
    "        \n",
    "        pvalues.append(pval)\n",
    "        \n",
    "        txt_stars = pval_annotation_text(pval, [[1e-4, \"****\"], [1e-3, \"***\"], [1e-2, \"**\"], [0.05, \"*\"], [1, \"\"]])\n",
    "        txt_value = simple_text(pval, '{:.2f}', [[1e-5, \"1e-5\"], [1e-4, \"1e-4\"], [1e-3, \"0.001\"], [1e-2, \"0.01\"]], '')\n",
    "        text_annot_custom.append(f'{txt_stars}\\n{txt_value}')\n",
    "            \n",
    "    statannot.add_stat_annotation(\n",
    "        ax, plot='barplot',\n",
    "        data=data_agg, x=x, y='sig_frac', hue='is_cancer',\n",
    "        order=order, hue_order=[False, True],\n",
    "        box_pairs=box_pairs,\n",
    "#         text_format='star',\n",
    "        pvalues=pvalues,\n",
    "        text_annot_custom=text_annot_custom,\n",
    "        perform_stat_test=False,\n",
    "        verbose=0\n",
    "    )"
   ]
  },
  {
   "cell_type": "markdown",
   "metadata": {},
   "source": [
    "### SNP count threshold effect"
   ]
  },
  {
   "cell_type": "code",
   "execution_count": null,
   "metadata": {},
   "outputs": [],
   "source": [
    "snpcount_outdir = outdir / 'snpcount_effect'\n",
    "snpcount_outdir.mkdir(exist_ok=True)"
   ]
  },
  {
   "cell_type": "code",
   "execution_count": null,
   "metadata": {},
   "outputs": [],
   "source": [
    "for (tad_type, tad_source, window_size, filter_), group in df_detailed.groupby(['TAD_type', 'tad_source' , 'window_size', 'filter']):\n",
    "    plt.figure(figsize=(16, 6))\n",
    "\n",
    "    custom_barplot(x='snp_threshold', data=group)\n",
    "    \n",
    "    plt.xlabel('SNP count threshold')\n",
    "    plt.ylabel('Significant disease fraction')\n",
    "    plt.title(f'{tad_type} - {tad_source} - {window_size} - {filter_}')\n",
    "    \n",
    "    plt.tight_layout()\n",
    "    plt.savefig(snpcount_outdir / f'dataset_overview_snpcountthreshold_{tad_type}_{tad_source}_{window_size}_{filter_}.pdf')\n",
    "    plt.close()"
   ]
  },
  {
   "cell_type": "markdown",
   "metadata": {},
   "source": [
    "### Filter effect"
   ]
  },
  {
   "cell_type": "code",
   "execution_count": null,
   "metadata": {},
   "outputs": [],
   "source": [
    "filter_outdir = outdir / 'filter_effect'\n",
    "filter_outdir.mkdir(exist_ok=True)"
   ]
  },
  {
   "cell_type": "markdown",
   "metadata": {},
   "source": [
    "#### Panel figure"
   ]
  },
  {
   "cell_type": "code",
   "execution_count": null,
   "metadata": {},
   "outputs": [],
   "source": [
    "aggregated_subset = df_majority[\n",
    "    (df_majority['TAD_type'] == '20in') &\n",
    "    (df_majority['tad_source'].str.contains('Rao2014')) & (df_majority['tad_source'].str.contains('10kb'))\n",
    "].copy()\n",
    "aggregated_subset.head()"
   ]
  },
  {
   "cell_type": "code",
   "execution_count": null,
   "metadata": {},
   "outputs": [],
   "source": [
    "# just for the visualization\n",
    "aggregated_subset['filter'] = aggregated_subset['filter'].replace('nofilter', 'all SNPs')"
   ]
  },
  {
   "cell_type": "code",
   "execution_count": null,
   "metadata": {},
   "outputs": [],
   "source": [
    "aggregated_groups = aggregated_subset.groupby('tad_source').groups.items()"
   ]
  },
  {
   "cell_type": "code",
   "execution_count": null,
   "metadata": {},
   "outputs": [],
   "source": [
    "fig = plt.figure(figsize=(20, 25), constrained_layout=False)\n",
    "gs = fig.add_gridspec(nrows=2, ncols=1, height_ratios=[1, 2])\n",
    "\n",
    "\n",
    "# main figure\n",
    "with sns.plotting_context('paper', font_scale=3):\n",
    "    ax = fig.add_subplot(gs[0, :])\n",
    "\n",
    "    custom_barplot(\n",
    "        x='filter', data=aggregated_subset,\n",
    "        additional_varying_columns={'tad_source'},\n",
    "        order=['all SNPs', 'exonic', 'intronic', 'intergenic'],\n",
    "        ax=ax)\n",
    "    \n",
    "    pal = sns.color_palette('tab10', desat=.75)  # because seaborn does it this way\n",
    "    ax.legend(handles=[\n",
    "        Patch(facecolor=pal[1], edgecolor=pal[1], label='Cancer'),\n",
    "        Patch(facecolor=pal[0], edgecolor=pal[0], label='Non-cancer')\n",
    "    ], loc='best')\n",
    "\n",
    "    ax.set_xlabel('')\n",
    "    ax.set_ylabel(f'Disease fraction sig. in $>{fraction_threshold}$ cases')\n",
    "\n",
    "    \n",
    "# subfigures\n",
    "inner_grid = gs[1, :].subgridspec(nrows=3, ncols=2, wspace=None, hspace=.3)\n",
    "axs = inner_grid.subplots()\n",
    "\n",
    "ax_list = axs.ravel()\n",
    "assert len(ax_list) == len(aggregated_groups)\n",
    "\n",
    "for (tad_source, idx_list), ax in zip(aggregated_groups, ax_list):\n",
    "    group = aggregated_subset.loc[idx_list]\n",
    "    \n",
    "    custom_barplot(\n",
    "        x='filter', data=group,\n",
    "        order=['all SNPs', 'exonic', 'intronic', 'intergenic'],\n",
    "        ax=ax)\n",
    "    ax.legend([],[], frameon=False)\n",
    "    \n",
    "    ax.set_title('-'.join(tad_source.split('-')[1:3]))\n",
    "    ax.set_xlabel('')\n",
    "    ax.set_ylabel(f'Disease fraction sig. in $>{fraction_threshold}$ cases')\n",
    "\n",
    "\n",
    "# save figure\n",
    "plt.tight_layout()\n",
    "plt.savefig(outdir / 'figure3.pdf')"
   ]
  },
  {
   "cell_type": "markdown",
   "metadata": {},
   "source": [
    "#### All figures"
   ]
  },
  {
   "cell_type": "code",
   "execution_count": null,
   "metadata": {},
   "outputs": [],
   "source": [
    "for (tad_type, tad_source), group in df_majority.groupby(['TAD_type', 'tad_source']):\n",
    "    plt.figure(figsize=(12, 6))\n",
    "\n",
    "    custom_barplot(\n",
    "        x='filter', data=group,\n",
    "        order=['nofilter', 'exonic', 'intronic', 'intergenic'])\n",
    "\n",
    "    plt.legend(loc='center left', bbox_to_anchor=(1, 0.5), title='is_cancer')\n",
    "\n",
    "    plt.xlabel('Filter')\n",
    "    plt.ylabel(f'Disease fraction sig. in $>{fraction_threshold}$ cases')\n",
    "    plt.title(f'{tad_type} - {tad_source}')\n",
    "\n",
    "    plt.tight_layout()\n",
    "    plt.savefig(filter_outdir / f'dataset_overview_filter_{tad_type}_{tad_source}.pdf')\n",
    "    plt.close()"
   ]
  },
  {
   "cell_type": "markdown",
   "metadata": {},
   "source": [
    "### TAD-type effect"
   ]
  },
  {
   "cell_type": "code",
   "execution_count": null,
   "metadata": {},
   "outputs": [],
   "source": [
    "tadtype_outdir = outdir / 'tadtype_effect'\n",
    "tadtype_outdir.mkdir(exist_ok=True)"
   ]
  },
  {
   "cell_type": "code",
   "execution_count": null,
   "metadata": {},
   "outputs": [],
   "source": [
    "for (filter_, tad_source), group in df_majority.groupby(['filter', 'tad_source']):\n",
    "    plt.figure(figsize=(12, 6))\n",
    "\n",
    "    custom_barplot(x='TAD_type', data=group)\n",
    "\n",
    "    plt.legend(loc='center left', bbox_to_anchor=(1, 0.5), title='is_cancer')\n",
    "\n",
    "    plt.xlabel('Border size [kbp]')\n",
    "    plt.ylabel(f'Disease fraction sig. in $>{fraction_threshold}$ cases')\n",
    "    plt.title(f'{tad_source} - {filter_}')\n",
    "\n",
    "    plt.tight_layout()\n",
    "    plt.savefig(tadtype_outdir / f'dataset_overview_bordersize_{filter_}_{tad_source}.pdf')\n",
    "    plt.close()"
   ]
  },
  {
   "cell_type": "markdown",
   "metadata": {},
   "source": [
    "## Figure 4: multipartite graph"
   ]
  },
  {
   "cell_type": "markdown",
   "metadata": {},
   "source": [
    "## Prepare data"
   ]
  },
  {
   "cell_type": "markdown",
   "metadata": {},
   "source": [
    "### Subset disease-SNP associations"
   ]
  },
  {
   "cell_type": "code",
   "execution_count": null,
   "metadata": {},
   "outputs": [],
   "source": [
    "df_data.head(1)"
   ]
  },
  {
   "cell_type": "code",
   "execution_count": null,
   "metadata": {},
   "outputs": [],
   "source": [
    "df_data_sub = df_data[\n",
    "    (df_data['tad_source'].str.contains('Rao2014')) & (df_data['tad_source'].str.contains('10kb')) &\n",
    "    (df_data['window_size'] == 0)\n",
    "]"
   ]
  },
  {
   "cell_type": "markdown",
   "metadata": {},
   "source": [
    "### Identify enriched diseases"
   ]
  },
  {
   "cell_type": "code",
   "execution_count": null,
   "metadata": {},
   "outputs": [],
   "source": [
    "aggregated_subset.head(1)"
   ]
  },
  {
   "cell_type": "code",
   "execution_count": null,
   "metadata": {},
   "outputs": [],
   "source": [
    "isenriched_map = (aggregated_subset.groupby(['TAD_type', 'filter', 'diseaseId'])['majority_is_sig'].mean() > .5).to_dict()\n",
    "list(isenriched_map.items())[0]"
   ]
  },
  {
   "cell_type": "markdown",
   "metadata": {},
   "source": [
    "## Helper functions"
   ]
  },
  {
   "cell_type": "code",
   "execution_count": null,
   "metadata": {},
   "outputs": [],
   "source": [
    "node_color_map = {\n",
    "    (True, True): 'red',\n",
    "    (True, False): 'orange',\n",
    "    (False, True): 'blueviolet',\n",
    "    (False, False): 'lightblue',\n",
    "}"
   ]
  },
  {
   "cell_type": "code",
   "execution_count": null,
   "metadata": {},
   "outputs": [],
   "source": [
    "def assemble_network(df, min_snp_num=1, hub_threshold=0, verbose=False, show_isolated_nodes=True):\n",
    "    # remove hub diseases\n",
    "#     counts = df_data.groupby('diseaseId')['snpId'].nunique().sort_values()\n",
    "#     nonhub_diseases = counts[counts > hub_threshold].index\n",
    "    \n",
    "#     df = df[df['diseaseId'].isin(nonhub_diseases)]\n",
    "    \n",
    "    # transform dataframe to networkx object\n",
    "    graph = nx.from_pandas_edgelist(df, 'diseaseId', 'snpId')\n",
    "    graph.name = 'bipartite graph'\n",
    "    if verbose: print(nx.info(graph))\n",
    "    \n",
    "    # project bipartite graph\n",
    "    graph_proj_multi = nx.bipartite.projected_graph(graph, df['diseaseId'].unique().tolist(), multigraph=True)\n",
    "    graph_proj_multi.name = 'projected multigraph'\n",
    "    if verbose: print(nx.info(graph_proj_multi))\n",
    "    \n",
    "    # remove isolated nodes\n",
    "    if not show_isolated_nodes:\n",
    "        if verbose: print('Remove isolated nodes')\n",
    "        graph_proj_multi.remove_nodes_from(list(nx.isolates(graph_proj_multi)))\n",
    "        if verbose: print(nx.info(graph_proj_multi))\n",
    "    \n",
    "    # merge multiple edges in MultiGraph into single edge with weight attribute\n",
    "    graph_proj = nx.Graph()\n",
    "    graph_proj.name = 'projected graph'\n",
    "\n",
    "    for u, v, data in graph_proj_multi.edges(data=True):\n",
    "        w = data.get('weight', 1)\n",
    "        assert w == 1, 'oopsie'\n",
    "\n",
    "        if graph_proj.has_edge(u, v):\n",
    "            graph_proj[u][v]['weight'] += w\n",
    "        else:\n",
    "            graph_proj.add_edge(u, v, weight=w)\n",
    "\n",
    "    if verbose: print(nx.info(graph_proj))\n",
    "    \n",
    "    # subset graph based on SNP count threshold\n",
    "    if verbose: print('Subset graph')\n",
    "    graph_proj = graph_proj.edge_subgraph([(u, v) for u, v, data in graph_proj.edges(data=True) if data['weight'] >= min_snp_num]).copy()\n",
    "    graph_proj.add_nodes_from(nx.isolates(graph_proj_multi))\n",
    "    if verbose: print(nx.info(graph_proj))\n",
    "        \n",
    "    # add node data\n",
    "    nx.set_node_attributes(graph_proj, iscancer_map, 'is_cancer')\n",
    "\n",
    "    nx.set_node_attributes(graph_proj, {n: isenriched_map.get(('20in', 'all SNPs', n), False) for n in graph_proj.nodes()}, 'is_enriched__nofilter')\n",
    "    nx.set_node_attributes(graph_proj, {n: isenriched_map.get(('20in', 'intergenic', n), False) for n in graph_proj.nodes()}, 'is_enriched__intergenic')\n",
    "    \n",
    "    return graph_proj"
   ]
  },
  {
   "cell_type": "code",
   "execution_count": null,
   "metadata": {},
   "outputs": [],
   "source": [
    "def plot_network(graph, ax=None, enrichment_color_key='is_enriched'):\n",
    "    # graph layout\n",
    "    pos = nx.drawing.nx_agraph.graphviz_layout(graph, prog='neato', args='-Goverlap=scale')\n",
    "    \n",
    "    # node colors\n",
    "    node_color_list = [node_color_map[data['is_cancer'], data[enrichment_color_key]] for n, data in graph.nodes(data=True)]\n",
    "    \n",
    "    # edge colors\n",
    "#     max_weight = max(nx.get_edge_attributes(graph, 'weight').values())\n",
    "#     edge_color_list = [(0, 0, 0, data['weight'] / max_weight) for u, v, data in graph.edges(data=True)]\n",
    "    edge_color_list = (0, 0, 0, .2)\n",
    "#     edge_color_list = [(0, 0, 0, .5 if data['weight'] > 1 else 0) for u, v, data in graph.edges(data=True)]\n",
    "    \n",
    "    # do plot\n",
    "    ax = ax if ax is not None else plt.gca()\n",
    "    \n",
    "    nx.draw_networkx_nodes(graph, pos, node_size=20, node_color=node_color_list, ax=ax)\n",
    "    nx.draw_networkx_edges(graph, pos, edge_color=edge_color_list, ax=ax)\n",
    "\n",
    "    ax.axis('off')"
   ]
  },
  {
   "cell_type": "markdown",
   "metadata": {},
   "source": [
    "### Visualize networks"
   ]
  },
  {
   "cell_type": "markdown",
   "metadata": {},
   "source": [
    "#### Nofilter"
   ]
  },
  {
   "cell_type": "code",
   "execution_count": null,
   "metadata": {},
   "outputs": [],
   "source": [
    "df_data_sub_nofilter = df_data_sub[(df_data_sub['filter_nofilter_hg38'])]"
   ]
  },
  {
   "cell_type": "code",
   "execution_count": null,
   "metadata": {},
   "outputs": [],
   "source": [
    "sub_border = df_data_sub_nofilter[(df_data_sub_nofilter['20in'] == 'border')]\n",
    "graph_border = assemble_network(sub_border, 2)\n",
    "print(nx.info(graph_border))"
   ]
  },
  {
   "cell_type": "code",
   "execution_count": null,
   "metadata": {},
   "outputs": [],
   "source": [
    "sub_nonborder = df_data_sub_nofilter[~(df_data_sub_nofilter['20in'] == 'border')]\n",
    "graph_nonborder = assemble_network(sub_nonborder, 2)\n",
    "print(nx.info(graph_nonborder))"
   ]
  },
  {
   "cell_type": "code",
   "execution_count": null,
   "metadata": {},
   "outputs": [],
   "source": [
    "plt.figure(figsize=(12, 6))\n",
    "\n",
    "plt.subplot(121)\n",
    "plot_network(graph_nonborder, enrichment_color_key='is_enriched__nofilter')\n",
    "plt.title('nonborder SNPs')\n",
    "\n",
    "plt.subplot(122)\n",
    "plot_network(graph_border, enrichment_color_key='is_enriched__nofilter')\n",
    "plt.title('border SNPs')\n",
    "\n",
    "plt.tight_layout()\n",
    "plt.savefig(outdir / 'networks_nofilter.pdf')"
   ]
  },
  {
   "cell_type": "markdown",
   "metadata": {},
   "source": [
    "#### Intergenic"
   ]
  },
  {
   "cell_type": "code",
   "execution_count": null,
   "metadata": {},
   "outputs": [],
   "source": [
    "df_data_sub_intergenic = df_data_sub[(df_data_sub['filter_intergenic_hg38'])]"
   ]
  },
  {
   "cell_type": "code",
   "execution_count": null,
   "metadata": {},
   "outputs": [],
   "source": [
    "sub_border = df_data_sub_intergenic[(df_data_sub_intergenic['20in'] == 'border')]\n",
    "graph_border = assemble_network(sub_border, 2)\n",
    "print(nx.info(graph_border))"
   ]
  },
  {
   "cell_type": "code",
   "execution_count": null,
   "metadata": {},
   "outputs": [],
   "source": [
    "sub_nonborder = df_data_sub_intergenic[~(df_data_sub_intergenic['20in'] == 'border')]\n",
    "graph_nonborder = assemble_network(sub_nonborder, 2)\n",
    "print(nx.info(graph_nonborder))"
   ]
  },
  {
   "cell_type": "code",
   "execution_count": null,
   "metadata": {},
   "outputs": [],
   "source": [
    "plt.figure(figsize=(12, 6))\n",
    "\n",
    "plt.subplot(121)\n",
    "plot_network(graph_nonborder, enrichment_color_key='is_enriched__intergenic')\n",
    "plt.title('nonborder SNPs')\n",
    "\n",
    "plt.subplot(122)\n",
    "plot_network(graph_border, enrichment_color_key='is_enriched__intergenic')\n",
    "plt.title('border SNPs')\n",
    "\n",
    "plt.tight_layout()\n",
    "plt.savefig(outdir / 'networks_intergenic.pdf')"
   ]
  },
  {
   "cell_type": "markdown",
   "metadata": {},
   "source": [
    "#### Network grid"
   ]
  },
  {
   "cell_type": "code",
   "execution_count": null,
   "metadata": {},
   "outputs": [],
   "source": [
    "sub = df_data_sub_nofilter[(df_data_sub_nofilter['20in'] == 'border')]\n",
    "graph_border = assemble_network(sub, 3, hub_threshold=0)\n",
    "\n",
    "sub = df_data_sub_nofilter[~(df_data_sub_nofilter['20in'] == 'border')]\n",
    "graph_nonborder = assemble_network(sub, 3, hub_threshold=0)"
   ]
  },
  {
   "cell_type": "code",
   "execution_count": null,
   "metadata": {},
   "outputs": [],
   "source": [
    "sub = df_data_sub_intergenic[(df_data_sub_intergenic['20in'] == 'border')]\n",
    "graph_border_intergenic = assemble_network(sub, 3, hub_threshold=0)\n",
    "\n",
    "sub = df_data_sub_intergenic[~(df_data_sub_intergenic['20in'] == 'border')]\n",
    "graph_nonborder_intergenic = assemble_network(sub, 3, hub_threshold=0)"
   ]
  },
  {
   "cell_type": "code",
   "execution_count": null,
   "metadata": {},
   "outputs": [],
   "source": [
    "# setup figure\n",
    "fig = plt.figure(figsize=(12, 12))\n",
    "gs = fig.add_gridspec(nrows=2, ncols=2)\n",
    "\n",
    "\n",
    "# plot networks\n",
    "ax = fig.add_subplot(gs[0, 0])\n",
    "plot_network(nx.subgraph(graph_nonborder, graph_border.nodes()), ax=ax, enrichment_color_key='is_enriched__nofilter')\n",
    "ax.set_title('nonborder SNPs')\n",
    "\n",
    "ax = fig.add_subplot(gs[0, 1])\n",
    "plot_network(graph_border, ax=ax, enrichment_color_key='is_enriched__nofilter')\n",
    "ax.set_title('border SNPs')\n",
    "ax.legend(handles=[\n",
    "    Line2D(\n",
    "        [0], [0], marker='o', color='w',\n",
    "        label={True: 'is_cancer', False: 'not-is_cancer'}[is_cancer] + ' & ' + {True: 'is_enriched', False: 'not-is_enriched'}[is_enriched],\n",
    "        markerfacecolor=color, markersize=10)\n",
    "    for (is_cancer, is_enriched), color in node_color_map.items()\n",
    "], loc='best', fontsize=8)\n",
    "\n",
    "ax = fig.add_subplot(gs[1, 0])\n",
    "plot_network(nx.subgraph(graph_nonborder_intergenic, graph_border_intergenic.nodes()), ax=ax, enrichment_color_key='is_enriched__intergenic')\n",
    "ax.set_title('nonborder SNPs (intergenic)')\n",
    "\n",
    "ax = fig.add_subplot(gs[1, 1])\n",
    "plot_network(graph_border_intergenic, ax=ax, enrichment_color_key='is_enriched__intergenic')\n",
    "ax.set_title('border SNPs (intergenic)')\n",
    "\n",
    "\n",
    "# save figure\n",
    "plt.tight_layout()\n",
    "plt.savefig(outdir / 'figure4.pdf')"
   ]
  },
  {
   "cell_type": "markdown",
   "metadata": {},
   "source": [
    "## Edge statistics"
   ]
  },
  {
   "cell_type": "code",
   "execution_count": null,
   "metadata": {},
   "outputs": [],
   "source": [
    "def compute_edge_asymmetries(graph):\n",
    "    disease_nodes = list(graph.nodes())\n",
    "    disease_pairs = list(graph.edges())\n",
    "    \n",
    "    tmp = dict(collections.Counter([iscancer_map[d] for d in disease_nodes]).most_common())\n",
    "    node_type_counts = {\n",
    "        'cancer': tmp.get(True, 0),\n",
    "        'noncancer': tmp.get(False, 0)\n",
    "    }\n",
    "    \n",
    "    tmp = dict(collections.Counter([(iscancer_map[d1], iscancer_map[d2]) for d1, d2 in disease_pairs]).most_common())\n",
    "    edge_type_counts = {\n",
    "        'cancer_pairs': tmp.get((True, True), 0),\n",
    "        'noncancer_pairs': tmp.get((False, False), 0),\n",
    "        'across': tmp.get((True, False), 0) + tmp.get((False, True), 0)\n",
    "    }\n",
    "\n",
    "    if (node_type_counts['cancer'] * (node_type_counts['cancer'] - 1)) == 0:\n",
    "        print(f'Warning: division by zero (cancer: {node_type_counts})')\n",
    "        cancer_asym = np.nan\n",
    "    else:\n",
    "        cancer_asym = 2 * edge_type_counts['cancer_pairs'] / (node_type_counts['cancer'] * (node_type_counts['cancer'] - 1)) - edge_type_counts['across'] / (node_type_counts['cancer'] * node_type_counts['noncancer'])\n",
    "    \n",
    "    if (node_type_counts['noncancer'] * (node_type_counts['noncancer'] - 1)) == 0:\n",
    "        print(f'Warning: division by zero (noncancer: {node_type_counts})')\n",
    "        noncancer_asym = np.nan\n",
    "    else:\n",
    "        noncancer_asym = 2 * edge_type_counts['noncancer_pairs'] / (node_type_counts['noncancer'] * (node_type_counts['noncancer'] - 1)) - edge_type_counts['across'] / (node_type_counts['cancer'] * node_type_counts['noncancer'])\n",
    "    \n",
    "    \n",
    "    return (cancer_asym, noncancer_asym)"
   ]
  },
  {
   "cell_type": "code",
   "execution_count": null,
   "metadata": {},
   "outputs": [],
   "source": [
    "sub = df_data_sub[(df_data_sub['20in'] == 'border')]\n",
    "\n",
    "tmp = []\n",
    "for thres in trange(1, 10):\n",
    "    graph = assemble_network(sub, thres, hub_threshold=0)\n",
    "    asyms = compute_edge_asymmetries(graph)\n",
    "    \n",
    "    tmp.append({\n",
    "        'threshold': thres,\n",
    "        'cancer_asymmetry': asyms[0],\n",
    "        'noncancer_asymmetry': asyms[1],\n",
    "        'node_count': len(graph.nodes()),\n",
    "        'edge_count': len(graph.edges())\n",
    "    })\n",
    "\n",
    "df_asym_border = pd.DataFrame(tmp)\n",
    "df_asym_border.head()"
   ]
  },
  {
   "cell_type": "code",
   "execution_count": null,
   "metadata": {},
   "outputs": [],
   "source": [
    "sub = df_data_sub[~(df_data_sub['20in'] == 'border')]\n",
    "\n",
    "tmp = []\n",
    "for thres in trange(1, 10):\n",
    "    graph = assemble_network(sub, thres, hub_threshold=0)\n",
    "    asyms = compute_edge_asymmetries(graph)\n",
    "    \n",
    "    tmp.append({\n",
    "        'threshold': thres,\n",
    "        'cancer_asymmetry': asyms[0],\n",
    "        'noncancer_asymmetry': asyms[1],\n",
    "        'node_count': len(graph.nodes()),\n",
    "        'edge_count': len(graph.edges())\n",
    "    })\n",
    "\n",
    "df_asym_nonborder = pd.DataFrame(tmp)\n",
    "df_asym_nonborder.head()"
   ]
  },
  {
   "cell_type": "code",
   "execution_count": null,
   "metadata": {},
   "outputs": [],
   "source": [
    "df_asym_border['type'] = 'border'\n",
    "df_asym_nonborder['type'] = 'nonborder'\n",
    "\n",
    "df_long = pd.melt(pd.concat([df_asym_border, df_asym_nonborder]), id_vars=['threshold', 'type'])\n",
    "df_long.head()"
   ]
  },
  {
   "cell_type": "code",
   "execution_count": null,
   "metadata": {},
   "outputs": [],
   "source": [
    "plt.figure(figsize=(8, 6))\n",
    "\n",
    "sns.lineplot(x='threshold', y='value', hue='variable', style='type', data=df_long, hue_order=['noncancer_asymmetry', 'cancer_asymmetry'])\n",
    "\n",
    "plt.tight_layout()\n",
    "plt.savefig(outdir / 'edge_asymmetries.pdf')"
   ]
  },
  {
   "cell_type": "code",
   "execution_count": null,
   "metadata": {},
   "outputs": [],
   "source": [
    "plt.figure(figsize=(8, 6))\n",
    "sns.lineplot(x='threshold', y='value', hue='variable', style='type', data=df_long, hue_order=['node_count', 'edge_count'])"
   ]
  },
  {
   "cell_type": "code",
   "execution_count": null,
   "metadata": {},
   "outputs": [],
   "source": [
    "# compute\n",
    "df_quotient = pd.DataFrame({\n",
    "    'threshold': df_asym_border.loc[df_asym_border.index, 'threshold'],\n",
    "    'noncancer_quotient': df_asym_border.loc[df_asym_border.index, 'noncancer_asymmetry'] / df_asym_nonborder.loc[df_asym_border.index, 'noncancer_asymmetry'],\n",
    "    'cancer_quotient': df_asym_border.loc[df_asym_border.index, 'cancer_asymmetry'] / df_asym_nonborder.loc[df_asym_border.index, 'cancer_asymmetry']\n",
    "})\n",
    "\n",
    "# plot\n",
    "plt.figure(figsize=(8, 6))\n",
    "\n",
    "sns.lineplot(x='threshold', y='value', hue='variable', data=pd.melt(df_quotient, id_vars='threshold'), hue_order=['noncancer_quotient', 'cancer_quotient'])\n",
    "plt.axhline(1, color='red', ls='dashed')\n",
    "\n",
    "plt.tight_layout()\n",
    "plt.savefig(outdir / 'edge_asymmetry_quotients.pdf')"
   ]
  },
  {
   "cell_type": "markdown",
   "metadata": {},
   "source": [
    "# Miscellaneous Figures"
   ]
  },
  {
   "cell_type": "markdown",
   "metadata": {},
   "source": [
    "## SNP associations to Cancer and Non-Cancer"
   ]
  },
  {
   "cell_type": "code",
   "execution_count": null,
   "metadata": {},
   "outputs": [],
   "source": [
    "df_data.head()"
   ]
  },
  {
   "cell_type": "code",
   "execution_count": null,
   "metadata": {},
   "outputs": [],
   "source": [
    "%%time\n",
    "\n",
    "tmp_sub = df_data.loc[:, ['diseaseId', 'snpId', 'is_cancer']].drop_duplicates().dropna()\n",
    "tmp_sub['is_cancer_shuffled'] = np.random.permutation(tmp_sub['is_cancer'].values)\n",
    "\n",
    "df_cancercounts = (tmp_sub.groupby('snpId')['is_cancer']\n",
    "                          .apply(lambda x: pd.Series(\n",
    "                              [x.tolist().count(False), x.tolist().count(True)],\n",
    "                              index=['noncancer_count', 'cancer_count']))\n",
    "                          .unstack())\n",
    "df_cancercountsshuffled = (tmp_sub.groupby('snpId')['is_cancer_shuffled']\n",
    "                                  .apply(lambda x: pd.Series(\n",
    "                                      [x.tolist().count(False), x.tolist().count(True)],\n",
    "                                      index=['noncancer_count', 'cancer_count']))\n",
    "                                  .unstack())"
   ]
  },
  {
   "cell_type": "code",
   "execution_count": null,
   "metadata": {},
   "outputs": [],
   "source": [
    "df_cancercounts.head()"
   ]
  },
  {
   "cell_type": "code",
   "execution_count": null,
   "metadata": {},
   "outputs": [],
   "source": [
    "plt.figure(figsize=(2*8, 6))\n",
    "\n",
    "plt.subplot(121)\n",
    "sns.scatterplot(x='cancer_count', y='noncancer_count', data=df_cancercounts, alpha=.2)\n",
    "plt.title('observed')\n",
    "\n",
    "plt.subplot(122)\n",
    "sns.scatterplot(x='cancer_count', y='noncancer_count', data=df_cancercountsshuffled, alpha=.2)\n",
    "plt.title('shuffled')"
   ]
  }
 ],
 "metadata": {
  "kernelspec": {
   "display_name": "Python 3",
   "language": "python",
   "name": "python3"
  },
  "language_info": {
   "codemirror_mode": {
    "name": "ipython",
    "version": 3
   },
   "file_extension": ".py",
   "mimetype": "text/x-python",
   "name": "python",
   "nbconvert_exporter": "python",
   "pygments_lexer": "ipython3",
   "version": "3.8.5"
  },
  "toc-autonumbering": false
 },
 "nbformat": 4,
 "nbformat_minor": 4
}
