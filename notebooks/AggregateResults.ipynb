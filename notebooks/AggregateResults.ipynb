{
 "cells": [
  {
   "cell_type": "code",
   "execution_count": null,
   "metadata": {},
   "outputs": [],
   "source": [
    "import os\n",
    "\n",
    "import pandas as pd"
   ]
  },
  {
   "cell_type": "markdown",
   "metadata": {},
   "source": [
    "# Parameters"
   ]
  },
  {
   "cell_type": "code",
   "execution_count": null,
   "metadata": {},
   "outputs": [],
   "source": [
    "database_files = snakemake.input.database_files\n",
    "enrichment_files = snakemake.input.enrichment_files\n",
    "\n",
    "fname_data = snakemake.output.fname_data\n",
    "fname_enr = snakemake.output.fname_enr"
   ]
  },
  {
   "cell_type": "markdown",
   "metadata": {},
   "source": [
    "# Load data"
   ]
  },
  {
   "cell_type": "code",
   "execution_count": null,
   "metadata": {},
   "outputs": [],
   "source": [
    "df_list = []\n",
    "for fname in database_files:\n",
    "    tmp = pd.read_csv(fname)\n",
    "    \n",
    "    parts = os.path.basename(fname).split('.')\n",
    "    tmp['tad_source'] = parts[1]\n",
    "    tmp['window_size'] = parts[2]\n",
    "    tmp['filter'] = parts[3]\n",
    "    \n",
    "    df_list.append(tmp)\n",
    "\n",
    "df_data = pd.concat(df_list)\n",
    "df_data.sort_values(['diseaseId', 'snpId']).head()"
   ]
  },
  {
   "cell_type": "code",
   "execution_count": null,
   "metadata": {},
   "outputs": [],
   "source": [
    "df_list = []\n",
    "for fname in enrichment_files:\n",
    "    tmp = pd.read_csv(fname)\n",
    "    \n",
    "    parts = os.path.basename(fname).split('.')\n",
    "    tmp['tad_source'] = parts[1]\n",
    "    tmp['window_size'] = parts[2]\n",
    "    tmp['filter'] = parts[3]\n",
    "    \n",
    "    df_list.append(tmp)\n",
    "\n",
    "df_enr = pd.concat(df_list)\n",
    "df_enr.head()"
   ]
  },
  {
   "cell_type": "markdown",
   "metadata": {},
   "source": [
    "# Save results"
   ]
  },
  {
   "cell_type": "code",
   "execution_count": null,
   "metadata": {},
   "outputs": [],
   "source": [
    "df_data.to_csv(fname_data, index=False)"
   ]
  },
  {
   "cell_type": "code",
   "execution_count": null,
   "metadata": {},
   "outputs": [],
   "source": [
    "df_enr.to_csv(fname_enr, index=False)"
   ]
  }
 ],
 "metadata": {
  "kernelspec": {
   "display_name": "Python 3",
   "language": "python",
   "name": "python3"
  },
  "language_info": {
   "codemirror_mode": {
    "name": "ipython",
    "version": 3
   },
   "file_extension": ".py",
   "mimetype": "text/x-python",
   "name": "python",
   "nbconvert_exporter": "python",
   "pygments_lexer": "ipython3",
   "version": "3.7.6"
  }
 },
 "nbformat": 4,
 "nbformat_minor": 4
}
