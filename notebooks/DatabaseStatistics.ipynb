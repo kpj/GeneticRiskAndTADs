{
 "cells": [
  {
   "cell_type": "code",
   "execution_count": null,
   "metadata": {},
   "outputs": [],
   "source": [
    "import os\n",
    "from pathlib import Path\n",
    "\n",
    "import numpy as np\n",
    "import pandas as pd\n",
    "\n",
    "import seaborn as sns\n",
    "import matplotlib.pyplot as plt\n",
    "\n",
    "from tqdm.auto import tqdm\n",
    "\n",
    "from bioinf_common.plotting import annotated_barplot"
   ]
  },
  {
   "cell_type": "code",
   "execution_count": null,
   "metadata": {},
   "outputs": [],
   "source": [
    "sns.set_context('talk')"
   ]
  },
  {
   "cell_type": "markdown",
   "metadata": {},
   "source": [
    "# Parameters"
   ]
  },
  {
   "cell_type": "code",
   "execution_count": null,
   "metadata": {
    "tags": [
     "parameters"
    ]
   },
   "outputs": [],
   "source": [
    "fname = snakemake.input.fname\n",
    "tad_fname_list = snakemake.input.tad_fname_list\n",
    "\n",
    "main_dataset = snakemake.config['parameters']['main_dataset']\n",
    "\n",
    "outdir = Path(snakemake.output.outdir)"
   ]
  },
  {
   "cell_type": "markdown",
   "metadata": {},
   "source": [
    "# Read data"
   ]
  },
  {
   "cell_type": "markdown",
   "metadata": {},
   "source": [
    "## SNP database"
   ]
  },
  {
   "cell_type": "code",
   "execution_count": null,
   "metadata": {},
   "outputs": [],
   "source": [
    "df_all = pd.read_csv(fname, dtype={'associated_genes': str})\n",
    "df_all.head()"
   ]
  },
  {
   "cell_type": "markdown",
   "metadata": {},
   "source": [
    "## TADs"
   ]
  },
  {
   "cell_type": "code",
   "execution_count": null,
   "metadata": {},
   "outputs": [],
   "source": [
    "df_list = []\n",
    "for fname in tqdm(tad_fname_list):\n",
    "    _, tad_source, window_size, _ = os.path.basename(fname).split('.')\n",
    "    \n",
    "    tmp = pd.read_csv(fname)\n",
    "    tmp['tad_source'] = tad_source\n",
    "    tmp['window_size'] = int(window_size)\n",
    "\n",
    "    df_list.append(tmp)\n",
    "    \n",
    "df_tads_all = pd.concat(df_list)\n",
    "df_tads_all['length'] = df_tads_all['tad_stop'] - df_tads_all['tad_start']\n",
    "\n",
    "df_tads_all.head()"
   ]
  },
  {
   "cell_type": "markdown",
   "metadata": {},
   "source": [
    "# Select data subset"
   ]
  },
  {
   "cell_type": "code",
   "execution_count": null,
   "metadata": {},
   "outputs": [],
   "source": [
    "%%time\n",
    "df_sub = df_all[\n",
    "    (df_all['chromosome_hg38'] == '6') &\n",
    "    (25_000_000 <= df_all['position_hg38']) & (df_all['position_hg38'] <= 34_000_000)\n",
    "].drop_duplicates(['tad_source', 'window_size', 'diseaseId', 'snpId'])"
   ]
  },
  {
   "cell_type": "code",
   "execution_count": null,
   "metadata": {},
   "outputs": [],
   "source": [
    "df_sub.shape"
   ]
  },
  {
   "cell_type": "code",
   "execution_count": null,
   "metadata": {},
   "outputs": [],
   "source": [
    "df_sub.head(2)"
   ]
  },
  {
   "cell_type": "markdown",
   "metadata": {},
   "source": [
    "# Overview tables"
   ]
  },
  {
   "cell_type": "code",
   "execution_count": null,
   "metadata": {},
   "outputs": [],
   "source": [
    "outdir_lists = outdir / 'snp_lists'\n",
    "outdir_lists.mkdir(parents=True, exist_ok=True)"
   ]
  },
  {
   "cell_type": "code",
   "execution_count": null,
   "metadata": {},
   "outputs": [],
   "source": [
    "disease_list = ['EFO_0001071', 'EFO_0000571', 'EFO_0000708']"
   ]
  },
  {
   "cell_type": "markdown",
   "metadata": {},
   "source": [
    "## Total SNP-list per disease"
   ]
  },
  {
   "cell_type": "code",
   "execution_count": null,
   "metadata": {},
   "outputs": [],
   "source": [
    "df_totallist = df_sub.loc[\n",
    "    df_sub['diseaseId'].isin(disease_list),\n",
    "    ['tad_source', 'window_size', 'diseaseId', 'snpId', 'chromosome_hg38', 'position_hg38', 'variant_type_hg38', 'variant_group_hg38', '20in']\n",
    "].sort_values(['tad_source', 'window_size', 'diseaseId', 'snpId'])\n",
    "\n",
    "df_totallist.to_csv(outdir_lists / 'chr6_all_snp_associations.csv.gz', index=False)\n",
    "df_totallist.head()"
   ]
  },
  {
   "cell_type": "code",
   "execution_count": null,
   "metadata": {},
   "outputs": [],
   "source": [
    "for (tad_source, window_size, diseaseId), group in df_totallist.groupby(['tad_source', 'window_size', 'diseaseId']):\n",
    "    group.to_csv(outdir_lists / f'chr6_all_snp_associations_{tad_source}_{window_size}_{diseaseId}.csv.gz', index=False)"
   ]
  },
  {
   "cell_type": "markdown",
   "metadata": {},
   "source": [
    "## SNP-Class Count List"
   ]
  },
  {
   "cell_type": "code",
   "execution_count": null,
   "metadata": {},
   "outputs": [],
   "source": [
    "%%time\n",
    "\n",
    "tmp = []\n",
    "for (tad_source, diseaseId, snpId), group in df_sub.groupby(['tad_source', 'diseaseId', 'snpId']):\n",
    "    counts = group['20in'].value_counts().to_dict()\n",
    "    \n",
    "    tmp.append({        \n",
    "        'tad_source': tad_source,\n",
    "        'diseaseId': diseaseId,\n",
    "        'snpId': snpId,\n",
    "\n",
    "        'chromosome_hg38': group['chromosome_hg38'].iloc[0],\n",
    "        'position_hg38': group['position_hg38'].iloc[0],\n",
    "\n",
    "        'tad_count': counts.get('tad', 0),\n",
    "        'border_count': counts.get('border', 0),\n",
    "        'outside_count': counts.get('outside', 0)\n",
    "#         **group['20in'].value_counts().to_dict()\n",
    "    })\n",
    "    \n",
    "df_snp_class_counts_per_tadsource = pd.DataFrame(tmp)\n",
    "df_snp_class_counts_per_tadsource.to_csv(outdir_lists / 'chr6_snp_class_counts_per_tadsource.csv.gz', index=False)\n",
    "df_snp_class_counts_per_tadsource.head()"
   ]
  },
  {
   "cell_type": "code",
   "execution_count": null,
   "metadata": {},
   "outputs": [],
   "source": [
    "%%time\n",
    "\n",
    "tmp = []\n",
    "for (diseaseId, snpId), group in df_sub.groupby(['diseaseId', 'snpId']):\n",
    "    counts = group['20in'].value_counts().to_dict()\n",
    "    \n",
    "    tmp.append({        \n",
    "        'diseaseId': diseaseId,\n",
    "        'snpId': snpId,\n",
    "\n",
    "        'chromosome_hg38': group['chromosome_hg38'].iloc[0],\n",
    "        'position_hg38': group['position_hg38'].iloc[0],\n",
    "\n",
    "        'tad_count': counts.get('tad', 0),\n",
    "        'border_count': counts.get('border', 0),\n",
    "        'outside_count': counts.get('outside', 0)\n",
    "#         **group['20in'].value_counts().to_dict()\n",
    "    })\n",
    "    \n",
    "df_snp_class_counts = pd.DataFrame(tmp)\n",
    "df_snp_class_counts.to_csv(outdir_lists / 'chr6_snp_class_counts.csv.gz', index=False)\n",
    "df_snp_class_counts.head()"
   ]
  },
  {
   "cell_type": "markdown",
   "metadata": {},
   "source": [
    "### Per selected disease"
   ]
  },
  {
   "cell_type": "code",
   "execution_count": null,
   "metadata": {},
   "outputs": [],
   "source": [
    "for diseaseId, group in df_snp_class_counts_per_tadsource[df_snp_class_counts_per_tadsource['diseaseId'].isin(disease_list)].groupby('diseaseId'):\n",
    "    group.to_csv(outdir_lists / f'chr6_snp_class_counts_per_tadsource_{diseaseId}.csv.gz', index=False)"
   ]
  },
  {
   "cell_type": "code",
   "execution_count": null,
   "metadata": {},
   "outputs": [],
   "source": [
    "for diseaseId, group in df_snp_class_counts[df_snp_class_counts['diseaseId'].isin(disease_list)].groupby('diseaseId'):\n",
    "    group.to_csv(outdir_lists / f'chr6_snp_class_counts_{diseaseId}.csv.gz', index=False)"
   ]
  },
  {
   "cell_type": "markdown",
   "metadata": {},
   "source": [
    "## Other statistics"
   ]
  },
  {
   "cell_type": "code",
   "execution_count": null,
   "metadata": {},
   "outputs": [],
   "source": [
    "df = df_all[(df_all['tad_source'] == main_dataset) & (df_all['window_size'] == 10)]\n",
    "df.shape"
   ]
  },
  {
   "cell_type": "code",
   "execution_count": null,
   "metadata": {},
   "outputs": [],
   "source": [
    "df_uniqsnp = df.drop_duplicates('snpId')"
   ]
  },
  {
   "cell_type": "code",
   "execution_count": null,
   "metadata": {},
   "outputs": [],
   "source": [
    "df_uniqefo = df.drop_duplicates('diseaseId')"
   ]
  },
  {
   "cell_type": "code",
   "execution_count": null,
   "metadata": {},
   "outputs": [],
   "source": [
    "df_tads = df_tads_all[(df_tads_all['tad_source'] == main_dataset) & (df_tads_all['window_size'] == 10)]\n",
    "df_tads.shape"
   ]
  },
  {
   "cell_type": "markdown",
   "metadata": {},
   "source": [
    "### EFO database"
   ]
  },
  {
   "cell_type": "code",
   "execution_count": null,
   "metadata": {},
   "outputs": [],
   "source": [
    "pd.DataFrame({\n",
    "    '#efo': [df_uniqefo.shape[0]],\n",
    "    '#cancer_efo': ((df_uniqefo['is_cancer'])).sum(),\n",
    "    '%cancer_efo': ((df_uniqefo['is_cancer'])).sum() / df_uniqefo.shape[0],\n",
    "})"
   ]
  },
  {
   "cell_type": "markdown",
   "metadata": {},
   "source": [
    "### SNP database"
   ]
  },
  {
   "cell_type": "code",
   "execution_count": null,
   "metadata": {},
   "outputs": [],
   "source": [
    "df_uniqsnp.head(1)"
   ]
  },
  {
   "cell_type": "code",
   "execution_count": null,
   "metadata": {},
   "outputs": [],
   "source": [
    "pd.DataFrame({\n",
    "    '#snps': [df_uniqsnp.shape[0]],\n",
    "    '#border_snps': ((df_uniqsnp['20in'] == 'border')).sum(),\n",
    "    '%border_snps': ((df_uniqsnp['20in'] == 'border')).sum() / df_uniqsnp.shape[0],\n",
    "})"
   ]
  },
  {
   "cell_type": "code",
   "execution_count": null,
   "metadata": {},
   "outputs": [],
   "source": [
    "pd.DataFrame({\n",
    "    '#cancer_snps': [df_uniqsnp['is_cancer'].sum()],\n",
    "    '#border_cancer_snps': (df_uniqsnp['is_cancer'] & (df_uniqsnp['20in'] == 'border')).sum(),\n",
    "    '%border_cancer_snps': (df_uniqsnp['is_cancer'] & (df_uniqsnp['20in'] == 'border')).sum() / df_uniqsnp['is_cancer'].sum(),\n",
    "})"
   ]
  },
  {
   "cell_type": "code",
   "execution_count": null,
   "metadata": {},
   "outputs": [],
   "source": [
    "pd.DataFrame({\n",
    "    '#noncancer_snps': [(~df_uniqsnp['is_cancer']).sum()],\n",
    "    '#border_noncancer_snps': ((~df_uniqsnp['is_cancer']) & (df_uniqsnp['20in'] == 'border')).sum(),\n",
    "    '%border_noncancer_snps': ((~df_uniqsnp['is_cancer']) & (df_uniqsnp['20in'] == 'border')).sum() / (~df_uniqsnp['is_cancer']).sum(),\n",
    "})"
   ]
  },
  {
   "cell_type": "code",
   "execution_count": null,
   "metadata": {},
   "outputs": [],
   "source": [
    "pd.DataFrame({\n",
    "    '#cancer_snps': [df_uniqsnp['is_cancer'].sum()],\n",
    "    '#intergenic_cancer_snps': (df_uniqsnp['is_cancer'] & (df_uniqsnp['variant_group_hg38'] == 'intergenic')).sum(),\n",
    "    '%intergenic_cancer_snps': (df_uniqsnp['is_cancer'] & (df_uniqsnp['variant_group_hg38'] == 'intergenic')).sum() / df_uniqsnp['is_cancer'].sum(),\n",
    "})"
   ]
  },
  {
   "cell_type": "code",
   "execution_count": null,
   "metadata": {},
   "outputs": [],
   "source": [
    "pd.DataFrame({\n",
    "    '#snps': [df_uniqsnp.shape[0]],\n",
    "    '#intergenic_snps': (df_uniqsnp['variant_group_hg38'] == 'intergenic').sum(),\n",
    "    '%intergenic_snps': (df_uniqsnp['variant_group_hg38'] == 'intergenic').sum() / df_uniqsnp.shape[0],\n",
    "})"
   ]
  },
  {
   "cell_type": "code",
   "execution_count": null,
   "metadata": {},
   "outputs": [],
   "source": [
    "pd.DataFrame({\n",
    "    '#intergenic_snps': [(df_uniqsnp['variant_group_hg38'] == 'intergenic').sum()],\n",
    "    '#border_intergenic_snps': ((df_uniqsnp['variant_group_hg38'] == 'intergenic') & (df_uniqsnp['20in'] == 'border')).sum(),\n",
    "    '%border_intergenic_snps': ((df_uniqsnp['variant_group_hg38'] == 'intergenic') & (df_uniqsnp['20in'] == 'border')).sum() / (df_uniqsnp['variant_group_hg38'] == 'intergenic').sum(),\n",
    "})"
   ]
  },
  {
   "cell_type": "code",
   "execution_count": null,
   "metadata": {},
   "outputs": [],
   "source": [
    "pd.DataFrame({\n",
    "    '#intergenic_cancer_snps': [(df_uniqsnp['is_cancer'] & (df_uniqsnp['variant_group_hg38'] == 'intergenic')).sum()],\n",
    "    '#border_intergenic_cancer_snps': (df_uniqsnp['is_cancer'] & (df_uniqsnp['variant_group_hg38'] == 'intergenic') & (df_uniqsnp['20in'] == 'border')).sum(),\n",
    "    '%border_intergenic_cancer_snps': (df_uniqsnp['is_cancer'] & (df_uniqsnp['variant_group_hg38'] == 'intergenic') & (df_uniqsnp['20in'] == 'border')).sum() / (df_uniqsnp['variant_group_hg38'] == 'intergenic').sum(),\n",
    "})"
   ]
  },
  {
   "cell_type": "markdown",
   "metadata": {},
   "source": [
    "## TADs"
   ]
  },
  {
   "cell_type": "code",
   "execution_count": null,
   "metadata": {},
   "outputs": [],
   "source": [
    "genome_length = 3_092_480_053  # hg38\n",
    "border_length = 20_000"
   ]
  },
  {
   "cell_type": "code",
   "execution_count": null,
   "metadata": {},
   "outputs": [],
   "source": [
    "pd.DataFrame({\n",
    "    'total_tad_length': [df_tads['length'].sum()],\n",
    "    'total_border_length': [df_tads.shape[0] * 2 * border_length],\n",
    "    '%total_border_length': [df_tads.shape[0] * 2 * border_length / genome_length]\n",
    "})"
   ]
  },
  {
   "cell_type": "code",
   "execution_count": null,
   "metadata": {},
   "outputs": [],
   "source": [
    "pd.DataFrame({\n",
    "    'total_tad_length': [df_tads['length'].sum()],\n",
    "    'total_border_length': [df_tads.shape[0] * 2 * border_length],\n",
    "    '%total_border_length': [df_tads.shape[0] * 2 * border_length / df_tads['length'].sum()]\n",
    "})"
   ]
  },
  {
   "cell_type": "markdown",
   "metadata": {},
   "source": [
    "# Plot database statistics"
   ]
  },
  {
   "cell_type": "markdown",
   "metadata": {},
   "source": [
    "## Number of entries per disease"
   ]
  },
  {
   "cell_type": "code",
   "execution_count": null,
   "metadata": {},
   "outputs": [],
   "source": [
    "disease_counts = (df['diseaseId']\n",
    "                  .value_counts()\n",
    "                  .rename('count')\n",
    "                  .reset_index()\n",
    "                  .rename(columns={'index': 'diseaseId'})\n",
    "                  .sort_values('count')\n",
    "                  .merge(df[['diseaseId', 'is_cancer']], how='left', on='diseaseId'))\n",
    "\n",
    "disease_counts.head()"
   ]
  },
  {
   "cell_type": "code",
   "execution_count": null,
   "metadata": {},
   "outputs": [],
   "source": [
    "sns.boxplot(x='is_cancer', y='count', data=disease_counts)\n",
    "\n",
    "plt.title('#rows associated with single diseases')\n",
    "plt.yscale('log')\n",
    "\n",
    "plt.tight_layout()\n",
    "plt.savefig(outdir / 'disease_count_distribution.pdf')"
   ]
  },
  {
   "cell_type": "markdown",
   "metadata": {},
   "source": [
    "## Odds ratio distribution"
   ]
  },
  {
   "cell_type": "code",
   "execution_count": null,
   "metadata": {},
   "outputs": [],
   "source": [
    "df['odds_ratio'].describe()"
   ]
  },
  {
   "cell_type": "code",
   "execution_count": null,
   "metadata": {},
   "outputs": [],
   "source": [
    "odds_ratio = df['odds_ratio'].dropna()\n",
    "sns.boxplot(odds_ratio[odds_ratio < odds_ratio.quantile(.75)], orient='v')\n",
    "\n",
    "plt.title('Odds ratios (< 75% quantile) for all diseases')\n",
    "\n",
    "plt.tight_layout()\n",
    "plt.savefig(outdir / 'oddsratio_distribution.pdf')"
   ]
  },
  {
   "cell_type": "markdown",
   "metadata": {},
   "source": [
    "## VEP statistics"
   ]
  },
  {
   "cell_type": "markdown",
   "metadata": {},
   "source": [
    "### Raw variant types"
   ]
  },
  {
   "cell_type": "code",
   "execution_count": null,
   "metadata": {},
   "outputs": [],
   "source": [
    "variant_type_col = df.filter(like='variant_type').columns[0]"
   ]
  },
  {
   "cell_type": "code",
   "execution_count": null,
   "metadata": {},
   "outputs": [],
   "source": [
    "variant_type_counts = (df[['snpId', variant_type_col]]\n",
    "                       .drop_duplicates()[variant_type_col]\n",
    "                       .value_counts()\n",
    "                       .rename('count')\n",
    "                       .reset_index()\n",
    "                       .rename(columns={'index': 'variant_type'}))"
   ]
  },
  {
   "cell_type": "code",
   "execution_count": null,
   "metadata": {},
   "outputs": [],
   "source": [
    "plt.figure(figsize=(16, 8))\n",
    "sns.barplot(\n",
    "    x='count', y='variant_type',\n",
    "    data=variant_type_counts, orient='h', color=sns.color_palette()[0])\n",
    "\n",
    "plt.title('#variant_type in database')\n",
    "plt.xscale('log')\n",
    "\n",
    "plt.tight_layout()\n",
    "plt.savefig(outdir / 'variant_type_counts.pdf')"
   ]
  },
  {
   "cell_type": "markdown",
   "metadata": {},
   "source": [
    "### Variant groups"
   ]
  },
  {
   "cell_type": "code",
   "execution_count": null,
   "metadata": {},
   "outputs": [],
   "source": [
    "variant_group_col = df.filter(like='variant_group').columns[0]"
   ]
  },
  {
   "cell_type": "code",
   "execution_count": null,
   "metadata": {},
   "outputs": [],
   "source": [
    "variant_group_counts = (df[['snpId', variant_group_col]]\n",
    "                       .drop_duplicates('snpId')[variant_group_col]\n",
    "                       .value_counts()\n",
    "                       .rename('count')\n",
    "                       .reset_index()\n",
    "                       .rename(columns={'index': 'variant_group'}))"
   ]
  },
  {
   "cell_type": "code",
   "execution_count": null,
   "metadata": {},
   "outputs": [],
   "source": [
    "plt.figure(figsize=(8, 6))\n",
    "annotated_barplot(\n",
    "    x='variant_group', y='count', data=variant_group_counts,\n",
    "    anno_kws=dict(label_offset=8, label_size=12))\n",
    "\n",
    "plt.tight_layout()\n",
    "plt.savefig(outdir / 'variant_group_counts.pdf')"
   ]
  },
  {
   "cell_type": "markdown",
   "metadata": {},
   "source": [
    "## Gene counts"
   ]
  },
  {
   "cell_type": "code",
   "execution_count": null,
   "metadata": {},
   "outputs": [],
   "source": [
    "df_tmp = pd.DataFrame({\n",
    "    'diseaseId': df['diseaseId'],\n",
    "    'associated_genes': df['associated_genes'].str.split(','),\n",
    "    'gene_count': df['associated_genes'].str.split(',').apply(lambda x: len(x) if isinstance(x, list) else 0)\n",
    "})\n",
    "df_tmp.head()"
   ]
  },
  {
   "cell_type": "code",
   "execution_count": null,
   "metadata": {},
   "outputs": [],
   "source": [
    "sns.boxplot(y=df_tmp.groupby('diseaseId')['gene_count'].sum())\n",
    "\n",
    "plt.xlabel('All diseases')\n",
    "plt.ylabel('#associated genes')\n",
    "\n",
    "unique_genes = set(g for gs in df_tmp['associated_genes'] if isinstance(gs, list) for g in gs)\n",
    "plt.title(f'{len(unique_genes)} unique genes in total')\n",
    "\n",
    "plt.yscale('log')\n",
    "\n",
    "plt.tight_layout()\n",
    "plt.savefig(outdir / 'gene_counts.pdf')"
   ]
  },
  {
   "cell_type": "markdown",
   "metadata": {},
   "source": [
    "## Filter statistics"
   ]
  },
  {
   "cell_type": "code",
   "execution_count": null,
   "metadata": {},
   "outputs": [],
   "source": [
    "df_filter_stats = df.filter(like='filter_').sum(axis=0).to_frame('count').reset_index()\n",
    "df_filter_stats.head()"
   ]
  },
  {
   "cell_type": "code",
   "execution_count": null,
   "metadata": {},
   "outputs": [],
   "source": [
    "plt.figure(figsize=(16, 8))\n",
    "sns.barplot(\n",
    "    x='count', y='index', data=df_filter_stats,\n",
    "    orient='h', color=sns.color_palette()[0])\n",
    "\n",
    "plt.xlabel('Entry count')\n",
    "plt.ylabel('Filter type')\n",
    "\n",
    "plt.tight_layout()\n",
    "plt.savefig(outdir / 'filter_counts.pdf')"
   ]
  }
 ],
 "metadata": {
  "kernelspec": {
   "display_name": "Python 3",
   "language": "python",
   "name": "python3"
  },
  "language_info": {
   "codemirror_mode": {
    "name": "ipython",
    "version": 3
   },
   "file_extension": ".py",
   "mimetype": "text/x-python",
   "name": "python",
   "nbconvert_exporter": "python",
   "pygments_lexer": "ipython3",
   "version": "3.8.5"
  },
  "toc-autonumbering": true
 },
 "nbformat": 4,
 "nbformat_minor": 4
}
