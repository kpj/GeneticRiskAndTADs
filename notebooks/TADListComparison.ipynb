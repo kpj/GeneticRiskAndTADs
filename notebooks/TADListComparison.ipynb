{
 "cells": [
  {
   "cell_type": "code",
   "execution_count": null,
   "metadata": {},
   "outputs": [],
   "source": [
    "%load_ext ipy_pdcache"
   ]
  },
  {
   "cell_type": "code",
   "execution_count": null,
   "metadata": {},
   "outputs": [],
   "source": [
    "import os\n",
    "from pathlib import Path\n",
    "\n",
    "import numpy as np\n",
    "import pandas as pd\n",
    "import pyranges as pr\n",
    "\n",
    "import seaborn as sns\n",
    "import matplotlib.pyplot as plt\n",
    "\n",
    "from natsort import natsorted\n",
    "\n",
    "from tqdm.auto import tqdm"
   ]
  },
  {
   "cell_type": "code",
   "execution_count": null,
   "metadata": {},
   "outputs": [],
   "source": [
    "sns.set_context('talk')"
   ]
  },
  {
   "cell_type": "markdown",
   "metadata": {},
   "source": [
    "# Parameters"
   ]
  },
  {
   "cell_type": "code",
   "execution_count": null,
   "metadata": {},
   "outputs": [],
   "source": [
    "tad_fname_list = snakemake.input.tad_fname_list\n",
    "\n",
    "outdir = Path(snakemake.output.outdir)"
   ]
  },
  {
   "cell_type": "code",
   "execution_count": null,
   "metadata": {},
   "outputs": [],
   "source": [
    "outdir.mkdir(parents=True, exist_ok=True)"
   ]
  },
  {
   "cell_type": "markdown",
   "metadata": {},
   "source": [
    "# Helper functions"
   ]
  },
  {
   "cell_type": "code",
   "execution_count": null,
   "metadata": {},
   "outputs": [],
   "source": [
    "def read_tads(fname):\n",
    "    return pr.PyRanges(\n",
    "        pd.read_csv(fname)\n",
    "          .rename(columns={'chrname': 'Chromosome', 'tad_start': 'Start', 'tad_stop': 'End'}))"
   ]
  },
  {
   "cell_type": "code",
   "execution_count": null,
   "metadata": {},
   "outputs": [],
   "source": [
    "# remove common prefix/suffix\n",
    "def remove_common_endings(ser):\n",
    "    source_prefix = os.path.commonprefix(ser.unique().tolist())\n",
    "    source_suffix = os.path.commonprefix([x[::-1] for x in ser.unique().tolist()])[::-1]\n",
    "\n",
    "    print(f'Removing: \"{source_prefix}\"...\"{source_suffix}\"')\n",
    "    return ser.str[len(source_prefix):-len(source_suffix)]"
   ]
  },
  {
   "cell_type": "markdown",
   "metadata": {},
   "source": [
    "# Load data"
   ]
  },
  {
   "cell_type": "code",
   "execution_count": null,
   "metadata": {},
   "outputs": [],
   "source": [
    "df_list = []\n",
    "for fname in tqdm(tad_fname_list):\n",
    "    tmp = read_tads(fname).df\n",
    "    tmp['source'] = os.path.basename(fname)\n",
    "    df_list.append(tmp)\n",
    "df_tads = pd.concat(df_list)\n",
    "\n",
    "df_tads['source'] = remove_common_endings(df_tads['source']).astype('category')\n",
    "df_tads['source'].cat.reorder_categories(natsorted(df_tads['source'].unique()), inplace=True, ordered=True)\n",
    "df_tads.head()"
   ]
  },
  {
   "cell_type": "markdown",
   "metadata": {},
   "source": [
    "# TAD counts"
   ]
  },
  {
   "cell_type": "code",
   "execution_count": null,
   "metadata": {},
   "outputs": [],
   "source": [
    "df_tadcount = df_tads.groupby('source').count()['Chromosome'].to_frame('tad_count').reset_index()\n",
    "df_tadcount['prefix'] = df_tadcount['source'].str.split('.').str[:-1].str.join('.')\n",
    "\n",
    "df_tadcount.head()"
   ]
  },
  {
   "cell_type": "code",
   "execution_count": null,
   "metadata": {},
   "outputs": [],
   "source": [
    "plt.figure(figsize=(16, 6))\n",
    "sns.boxplot(data=df_tadcount, x='prefix', y='tad_count', color=sns.color_palette()[0])\n",
    "\n",
    "plt.xlabel('Dataset')\n",
    "plt.ylabel('TAD count')\n",
    "plt.tick_params(axis='x', which='both', labelsize=8, rotation=90)\n",
    "\n",
    "# plt.tight_layout()\n",
    "plt.savefig(outdir / 'tad_count_boxplot.pdf')"
   ]
  },
  {
   "cell_type": "code",
   "execution_count": null,
   "metadata": {},
   "outputs": [],
   "source": [
    "plt.figure(figsize=(16, 6))\n",
    "sns.countplot(x='source', data=df_tads, color=sns.color_palette()[0])\n",
    "\n",
    "plt.ylabel('TAD count')\n",
    "plt.tick_params(axis='x', which='both', labelsize=8, rotation=90)\n",
    "\n",
    "plt.tight_layout()\n",
    "plt.savefig(outdir / 'tad_count_barplot.pdf')"
   ]
  },
  {
   "cell_type": "markdown",
   "metadata": {},
   "source": [
    "# TAD lengths"
   ]
  },
  {
   "cell_type": "code",
   "execution_count": null,
   "metadata": {},
   "outputs": [],
   "source": [
    "df_list = []\n",
    "for source, group in df_tads.groupby('source'):\n",
    "    tmp = (group['End'] - group['Start']).to_frame('tad_len')\n",
    "    tmp['source'] = source\n",
    "    df_list.append(tmp)\n",
    "\n",
    "df_tadlen = pd.concat(df_list)\n",
    "df_tadlen['prefix'] = df_tadlen['source'].str.split('.').str[:-1].str.join('.')\n",
    "df_tadlen.head()"
   ]
  },
  {
   "cell_type": "markdown",
   "metadata": {},
   "source": [
    "## Histograms"
   ]
  },
  {
   "cell_type": "code",
   "execution_count": null,
   "metadata": {},
   "outputs": [],
   "source": [
    "g = sns.displot(\n",
    "    data=df_tadlen[df_tadlen['tad_len'] > 0], x='tad_len',\n",
    "    col='prefix', col_wrap=3,\n",
    "    log_scale=True, element='step',\n",
    "    height=3)\n",
    "\n",
    "g.set_xlabels('TAD length')\n",
    "g.set_ylabels('Count')\n",
    "g.set_titles(size=8)\n",
    "\n",
    "g.savefig(outdir / 'tad_length_histograms.pdf')"
   ]
  },
  {
   "cell_type": "markdown",
   "metadata": {},
   "source": [
    "## Median lengths"
   ]
  },
  {
   "cell_type": "code",
   "execution_count": null,
   "metadata": {},
   "outputs": [],
   "source": [
    "df_median_tadlen = df_tadlen.groupby('source').median().reset_index()\n",
    "\n",
    "df_median_tadlen['source'] = df_median_tadlen['source'].astype('category')\n",
    "df_median_tadlen['source'].cat.reorder_categories(natsorted(df_median_tadlen['source'].unique()), inplace=True, ordered=True)\n",
    "\n",
    "df_median_tadlen.head()"
   ]
  },
  {
   "cell_type": "code",
   "execution_count": null,
   "metadata": {},
   "outputs": [],
   "source": [
    "plt.figure(figsize=(16, 6))\n",
    "sns.barplot(\n",
    "    data=df_median_tadlen, \n",
    "    x='source', y='tad_len',\n",
    "    color=sns.color_palette()[0])\n",
    "\n",
    "plt.ylabel('Median TAD length')\n",
    "plt.tick_params(axis='x', which='both', labelsize=8, rotation=90)\n",
    "\n",
    "plt.tight_layout()\n",
    "plt.savefig(outdir / 'tad_median_lengths.pdf')"
   ]
  },
  {
   "cell_type": "markdown",
   "metadata": {},
   "source": [
    "# TAD similarities\n",
    "\n",
    "Jaccard index: $\\frac{|\\text{range intersection}|}{|\\text{range union}|}$"
   ]
  },
  {
   "cell_type": "raw",
   "metadata": {},
   "source": [
    "%%pdcache df_dist $tad_similarity_cache\n",
    "\n",
    "# compute distances\n",
    "idx_map = {x: i for i, x in enumerate(df_tads['source'].cat.categories.tolist())}\n",
    "dmat = np.zeros(shape=(len(idx_map), len(idx_map)))\n",
    "\n",
    "for source1, group1 in tqdm(df_tads.groupby('source')):\n",
    "    for source2, group2 in tqdm(df_tads.groupby('source'), leave=False):\n",
    "        gr1 = pr.PyRanges(group1)\n",
    "        gr2 = pr.PyRanges(group2)\n",
    "        \n",
    "        dist = gr1.stats.jaccard(gr2)\n",
    "        \n",
    "        i = idx_map[source1]\n",
    "        j = idx_map[source2]\n",
    "        dmat[i, j] = dist\n",
    "        \n",
    "# convert to dataframe\n",
    "tmp = {i: x for x, i in idx_map.items()}\n",
    "cat_list = [tmp[i] for i in range(len(idx_map))]\n",
    "\n",
    "df_dist = pd.DataFrame(dmat, index=cat_list, columns=cat_list)"
   ]
  },
  {
   "cell_type": "raw",
   "metadata": {},
   "source": [
    "g = sns.clustermap(\n",
    "    df_dist,\n",
    "    figsize=(12, 12), square=True, \n",
    "    xticklabels=True, yticklabels=True,\n",
    "    row_cluster=df_dist.shape[0]>1, col_cluster=df_dist.shape[1]>1\n",
    ")\n",
    "g.ax_heatmap.tick_params(axis='both', which='both', labelsize=9)\n",
    "\n",
    "g.savefig(outdir / 'tad_similarity_clustermap.pdf')"
   ]
  }
 ],
 "metadata": {
  "kernelspec": {
   "display_name": "Python 3",
   "language": "python",
   "name": "python3"
  },
  "language_info": {
   "codemirror_mode": {
    "name": "ipython",
    "version": 3
   },
   "file_extension": ".py",
   "mimetype": "text/x-python",
   "name": "python",
   "nbconvert_exporter": "python",
   "pygments_lexer": "ipython3",
   "version": "3.8.5"
  }
 },
 "nbformat": 4,
 "nbformat_minor": 4
}
